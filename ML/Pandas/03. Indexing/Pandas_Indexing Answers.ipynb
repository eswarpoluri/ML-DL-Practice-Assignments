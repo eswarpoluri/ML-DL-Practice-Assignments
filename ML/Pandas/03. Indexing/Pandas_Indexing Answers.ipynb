{
 "cells": [
  {
   "cell_type": "code",
   "execution_count": 2,
   "metadata": {
    "colab": {},
    "colab_type": "code",
    "id": "oLJDU1vVX0me"
   },
   "outputs": [],
   "source": [
    "import pandas as pd\n",
    "import numpy as np"
   ]
  },
  {
   "cell_type": "markdown",
   "metadata": {
    "colab_type": "text",
    "id": "fcZke-XdYT4b"
   },
   "source": [
    "Q1. Write a Pandas program to set t_id column as an Index in a given dataframe."
   ]
  },
  {
   "cell_type": "code",
   "execution_count": 3,
   "metadata": {
    "colab": {
     "base_uri": "https://localhost:8080/",
     "height": 237
    },
    "colab_type": "code",
    "executionInfo": {
     "elapsed": 1471,
     "status": "ok",
     "timestamp": 1600501199732,
     "user": {
      "displayName": "Eswar Poluri",
      "photoUrl": "https://lh3.googleusercontent.com/a-/AOh14Gj2twFS3_zJQCgs07nkQBHCl4KgQC_Bh298yJkdjOg=s64",
      "userId": "17891988430079875549"
     },
     "user_tz": -330
    },
    "id": "K9jGe2OgX_-Z",
    "outputId": "2056854f-cbe8-40d2-96fd-f11ad6ba68b8"
   },
   "outputs": [
    {
     "data": {
      "text/html": [
       "<div>\n",
       "<style scoped>\n",
       "    .dataframe tbody tr th:only-of-type {\n",
       "        vertical-align: middle;\n",
       "    }\n",
       "\n",
       "    .dataframe tbody tr th {\n",
       "        vertical-align: top;\n",
       "    }\n",
       "\n",
       "    .dataframe thead th {\n",
       "        text-align: right;\n",
       "    }\n",
       "</style>\n",
       "<table border=\"1\" class=\"dataframe\">\n",
       "  <thead>\n",
       "    <tr style=\"text-align: right;\">\n",
       "      <th></th>\n",
       "      <th>school_code</th>\n",
       "      <th>class</th>\n",
       "      <th>name</th>\n",
       "      <th>date_Of_Birth</th>\n",
       "      <th>weight</th>\n",
       "      <th>address</th>\n",
       "      <th>t_id</th>\n",
       "    </tr>\n",
       "  </thead>\n",
       "  <tbody>\n",
       "    <tr>\n",
       "      <th>0</th>\n",
       "      <td>s001</td>\n",
       "      <td>V</td>\n",
       "      <td>Alberto Franco</td>\n",
       "      <td>15/05/2002</td>\n",
       "      <td>35</td>\n",
       "      <td>street1</td>\n",
       "      <td>t1</td>\n",
       "    </tr>\n",
       "    <tr>\n",
       "      <th>1</th>\n",
       "      <td>s002</td>\n",
       "      <td>V</td>\n",
       "      <td>Gino Mcneill</td>\n",
       "      <td>17/05/2002</td>\n",
       "      <td>32</td>\n",
       "      <td>street2</td>\n",
       "      <td>t2</td>\n",
       "    </tr>\n",
       "    <tr>\n",
       "      <th>2</th>\n",
       "      <td>s003</td>\n",
       "      <td>VI</td>\n",
       "      <td>Ryan Parkes</td>\n",
       "      <td>16/02/1999</td>\n",
       "      <td>33</td>\n",
       "      <td>street3</td>\n",
       "      <td>t3</td>\n",
       "    </tr>\n",
       "    <tr>\n",
       "      <th>3</th>\n",
       "      <td>s001</td>\n",
       "      <td>VI</td>\n",
       "      <td>Eesha Hinton</td>\n",
       "      <td>25/09/1998</td>\n",
       "      <td>30</td>\n",
       "      <td>street1</td>\n",
       "      <td>t4</td>\n",
       "    </tr>\n",
       "    <tr>\n",
       "      <th>4</th>\n",
       "      <td>s002</td>\n",
       "      <td>V</td>\n",
       "      <td>Gino Mcneill</td>\n",
       "      <td>11/05/2002</td>\n",
       "      <td>31</td>\n",
       "      <td>street2</td>\n",
       "      <td>t5</td>\n",
       "    </tr>\n",
       "    <tr>\n",
       "      <th>5</th>\n",
       "      <td>s004</td>\n",
       "      <td>VI</td>\n",
       "      <td>David Parkes</td>\n",
       "      <td>15/09/1997</td>\n",
       "      <td>32</td>\n",
       "      <td>street4</td>\n",
       "      <td>t6</td>\n",
       "    </tr>\n",
       "  </tbody>\n",
       "</table>\n",
       "</div>"
      ],
      "text/plain": [
       "  school_code class            name date_Of_Birth  weight  address t_id\n",
       "0        s001     V  Alberto Franco    15/05/2002      35  street1   t1\n",
       "1        s002     V    Gino Mcneill    17/05/2002      32  street2   t2\n",
       "2        s003    VI     Ryan Parkes    16/02/1999      33  street3   t3\n",
       "3        s001    VI    Eesha Hinton    25/09/1998      30  street1   t4\n",
       "4        s002     V    Gino Mcneill    11/05/2002      31  street2   t5\n",
       "5        s004    VI    David Parkes    15/09/1997      32  street4   t6"
      ]
     },
     "execution_count": 3,
     "metadata": {},
     "output_type": "execute_result"
    }
   ],
   "source": [
    "df1 = pd.DataFrame({\n",
    "    'school_code': ['s001','s002','s003','s001','s002','s004'],\n",
    "    'class': ['V', 'V', 'VI', 'VI', 'V', 'VI'],\n",
    "    'name': ['Alberto Franco','Gino Mcneill','Ryan Parkes', 'Eesha Hinton', 'Gino Mcneill', 'David Parkes'],\n",
    "    'date_Of_Birth': ['15/05/2002','17/05/2002','16/02/1999','25/09/1998','11/05/2002','15/09/1997'],\n",
    "    'weight': [35, 32, 33, 30, 31, 32],\n",
    "    'address': ['street1', 'street2', 'street3', 'street1', 'street2', 'street4'],\n",
    "    't_id':['t1', 't2', 't3', 't4', 't5', 't6']})\n",
    "df1"
   ]
  },
  {
   "cell_type": "code",
   "execution_count": 4,
   "metadata": {
    "colab": {
     "base_uri": "https://localhost:8080/",
     "height": 268
    },
    "colab_type": "code",
    "executionInfo": {
     "elapsed": 1435,
     "status": "ok",
     "timestamp": 1600501199734,
     "user": {
      "displayName": "Eswar Poluri",
      "photoUrl": "https://lh3.googleusercontent.com/a-/AOh14Gj2twFS3_zJQCgs07nkQBHCl4KgQC_Bh298yJkdjOg=s64",
      "userId": "17891988430079875549"
     },
     "user_tz": -330
    },
    "id": "NndCb-PtPVeo",
    "outputId": "cdec98bd-6787-42f7-f3e6-511629276052"
   },
   "outputs": [
    {
     "data": {
      "text/html": [
       "<div>\n",
       "<style scoped>\n",
       "    .dataframe tbody tr th:only-of-type {\n",
       "        vertical-align: middle;\n",
       "    }\n",
       "\n",
       "    .dataframe tbody tr th {\n",
       "        vertical-align: top;\n",
       "    }\n",
       "\n",
       "    .dataframe thead th {\n",
       "        text-align: right;\n",
       "    }\n",
       "</style>\n",
       "<table border=\"1\" class=\"dataframe\">\n",
       "  <thead>\n",
       "    <tr style=\"text-align: right;\">\n",
       "      <th></th>\n",
       "      <th>school_code</th>\n",
       "      <th>class</th>\n",
       "      <th>name</th>\n",
       "      <th>date_Of_Birth</th>\n",
       "      <th>weight</th>\n",
       "      <th>address</th>\n",
       "    </tr>\n",
       "    <tr>\n",
       "      <th>t_id</th>\n",
       "      <th></th>\n",
       "      <th></th>\n",
       "      <th></th>\n",
       "      <th></th>\n",
       "      <th></th>\n",
       "      <th></th>\n",
       "    </tr>\n",
       "  </thead>\n",
       "  <tbody>\n",
       "    <tr>\n",
       "      <th>t1</th>\n",
       "      <td>s001</td>\n",
       "      <td>V</td>\n",
       "      <td>Alberto Franco</td>\n",
       "      <td>15/05/2002</td>\n",
       "      <td>35</td>\n",
       "      <td>street1</td>\n",
       "    </tr>\n",
       "    <tr>\n",
       "      <th>t2</th>\n",
       "      <td>s002</td>\n",
       "      <td>V</td>\n",
       "      <td>Gino Mcneill</td>\n",
       "      <td>17/05/2002</td>\n",
       "      <td>32</td>\n",
       "      <td>street2</td>\n",
       "    </tr>\n",
       "    <tr>\n",
       "      <th>t3</th>\n",
       "      <td>s003</td>\n",
       "      <td>VI</td>\n",
       "      <td>Ryan Parkes</td>\n",
       "      <td>16/02/1999</td>\n",
       "      <td>33</td>\n",
       "      <td>street3</td>\n",
       "    </tr>\n",
       "    <tr>\n",
       "      <th>t4</th>\n",
       "      <td>s001</td>\n",
       "      <td>VI</td>\n",
       "      <td>Eesha Hinton</td>\n",
       "      <td>25/09/1998</td>\n",
       "      <td>30</td>\n",
       "      <td>street1</td>\n",
       "    </tr>\n",
       "    <tr>\n",
       "      <th>t5</th>\n",
       "      <td>s002</td>\n",
       "      <td>V</td>\n",
       "      <td>Gino Mcneill</td>\n",
       "      <td>11/05/2002</td>\n",
       "      <td>31</td>\n",
       "      <td>street2</td>\n",
       "    </tr>\n",
       "    <tr>\n",
       "      <th>t6</th>\n",
       "      <td>s004</td>\n",
       "      <td>VI</td>\n",
       "      <td>David Parkes</td>\n",
       "      <td>15/09/1997</td>\n",
       "      <td>32</td>\n",
       "      <td>street4</td>\n",
       "    </tr>\n",
       "  </tbody>\n",
       "</table>\n",
       "</div>"
      ],
      "text/plain": [
       "     school_code class            name date_Of_Birth  weight  address\n",
       "t_id                                                                 \n",
       "t1          s001     V  Alberto Franco    15/05/2002      35  street1\n",
       "t2          s002     V    Gino Mcneill    17/05/2002      32  street2\n",
       "t3          s003    VI     Ryan Parkes    16/02/1999      33  street3\n",
       "t4          s001    VI    Eesha Hinton    25/09/1998      30  street1\n",
       "t5          s002     V    Gino Mcneill    11/05/2002      31  street2\n",
       "t6          s004    VI    David Parkes    15/09/1997      32  street4"
      ]
     },
     "execution_count": 4,
     "metadata": {},
     "output_type": "execute_result"
    }
   ],
   "source": [
    "df1.set_index('t_id',drop=True)"
   ]
  },
  {
   "cell_type": "markdown",
   "metadata": {
    "colab_type": "text",
    "id": "r8gi3umTYpOx"
   },
   "source": [
    "Q2. Write a Pandas program to create a multi Index dataframe using two columns t_id, school_code. "
   ]
  },
  {
   "cell_type": "code",
   "execution_count": 5,
   "metadata": {
    "colab": {
     "base_uri": "https://localhost:8080/",
     "height": 268
    },
    "colab_type": "code",
    "executionInfo": {
     "elapsed": 1403,
     "status": "ok",
     "timestamp": 1600501199737,
     "user": {
      "displayName": "Eswar Poluri",
      "photoUrl": "https://lh3.googleusercontent.com/a-/AOh14Gj2twFS3_zJQCgs07nkQBHCl4KgQC_Bh298yJkdjOg=s64",
      "userId": "17891988430079875549"
     },
     "user_tz": -330
    },
    "id": "zqS3nwlbYADY",
    "outputId": "990d0f06-a75e-4d1e-91c1-e759b7b40f0d"
   },
   "outputs": [
    {
     "data": {
      "text/html": [
       "<div>\n",
       "<style scoped>\n",
       "    .dataframe tbody tr th:only-of-type {\n",
       "        vertical-align: middle;\n",
       "    }\n",
       "\n",
       "    .dataframe tbody tr th {\n",
       "        vertical-align: top;\n",
       "    }\n",
       "\n",
       "    .dataframe thead th {\n",
       "        text-align: right;\n",
       "    }\n",
       "</style>\n",
       "<table border=\"1\" class=\"dataframe\">\n",
       "  <thead>\n",
       "    <tr style=\"text-align: right;\">\n",
       "      <th></th>\n",
       "      <th></th>\n",
       "      <th>class</th>\n",
       "      <th>name</th>\n",
       "      <th>date_Of_Birth</th>\n",
       "      <th>weight</th>\n",
       "      <th>address</th>\n",
       "    </tr>\n",
       "    <tr>\n",
       "      <th>t_id</th>\n",
       "      <th>school_code</th>\n",
       "      <th></th>\n",
       "      <th></th>\n",
       "      <th></th>\n",
       "      <th></th>\n",
       "      <th></th>\n",
       "    </tr>\n",
       "  </thead>\n",
       "  <tbody>\n",
       "    <tr>\n",
       "      <th>t1</th>\n",
       "      <th>s001</th>\n",
       "      <td>V</td>\n",
       "      <td>Alberto Franco</td>\n",
       "      <td>15/05/2002</td>\n",
       "      <td>35</td>\n",
       "      <td>street1</td>\n",
       "    </tr>\n",
       "    <tr>\n",
       "      <th>t2</th>\n",
       "      <th>s002</th>\n",
       "      <td>V</td>\n",
       "      <td>Gino Mcneill</td>\n",
       "      <td>17/05/2002</td>\n",
       "      <td>32</td>\n",
       "      <td>street2</td>\n",
       "    </tr>\n",
       "    <tr>\n",
       "      <th>t3</th>\n",
       "      <th>s003</th>\n",
       "      <td>VI</td>\n",
       "      <td>Ryan Parkes</td>\n",
       "      <td>16/02/1999</td>\n",
       "      <td>33</td>\n",
       "      <td>street3</td>\n",
       "    </tr>\n",
       "    <tr>\n",
       "      <th>t4</th>\n",
       "      <th>s001</th>\n",
       "      <td>VI</td>\n",
       "      <td>Eesha Hinton</td>\n",
       "      <td>25/09/1998</td>\n",
       "      <td>30</td>\n",
       "      <td>street1</td>\n",
       "    </tr>\n",
       "    <tr>\n",
       "      <th>t5</th>\n",
       "      <th>s002</th>\n",
       "      <td>V</td>\n",
       "      <td>Gino Mcneill</td>\n",
       "      <td>11/05/2002</td>\n",
       "      <td>31</td>\n",
       "      <td>street2</td>\n",
       "    </tr>\n",
       "    <tr>\n",
       "      <th>t6</th>\n",
       "      <th>s004</th>\n",
       "      <td>VI</td>\n",
       "      <td>David Parkes</td>\n",
       "      <td>15/09/1997</td>\n",
       "      <td>32</td>\n",
       "      <td>street4</td>\n",
       "    </tr>\n",
       "  </tbody>\n",
       "</table>\n",
       "</div>"
      ],
      "text/plain": [
       "                 class            name date_Of_Birth  weight  address\n",
       "t_id school_code                                                     \n",
       "t1   s001            V  Alberto Franco    15/05/2002      35  street1\n",
       "t2   s002            V    Gino Mcneill    17/05/2002      32  street2\n",
       "t3   s003           VI     Ryan Parkes    16/02/1999      33  street3\n",
       "t4   s001           VI    Eesha Hinton    25/09/1998      30  street1\n",
       "t5   s002            V    Gino Mcneill    11/05/2002      31  street2\n",
       "t6   s004           VI    David Parkes    15/09/1997      32  street4"
      ]
     },
     "execution_count": 5,
     "metadata": {},
     "output_type": "execute_result"
    }
   ],
   "source": [
    "df1.set_index(['t_id','school_code'],drop=True)"
   ]
  },
  {
   "cell_type": "markdown",
   "metadata": {
    "colab_type": "text",
    "id": "GMwWMeobZ7wE"
   },
   "source": [
    " Q3. Write a Pandas program to \n",
    "\n",
    "  a. set a column 't_id' as an Index in a given dataframe without dropping from column\n",
    "\n",
    "  b. reset the index 't_id' to integer index without adding 't_id' as a repeated column."
   ]
  },
  {
   "cell_type": "code",
   "execution_count": 6,
   "metadata": {
    "colab": {
     "base_uri": "https://localhost:8080/",
     "height": 268
    },
    "colab_type": "code",
    "executionInfo": {
     "elapsed": 1388,
     "status": "ok",
     "timestamp": 1600501199740,
     "user": {
      "displayName": "Eswar Poluri",
      "photoUrl": "https://lh3.googleusercontent.com/a-/AOh14Gj2twFS3_zJQCgs07nkQBHCl4KgQC_Bh298yJkdjOg=s64",
      "userId": "17891988430079875549"
     },
     "user_tz": -330
    },
    "id": "j61HrCF5YAGK",
    "outputId": "b059b343-a230-44a0-e9e4-3036e383976f"
   },
   "outputs": [
    {
     "data": {
      "text/html": [
       "<div>\n",
       "<style scoped>\n",
       "    .dataframe tbody tr th:only-of-type {\n",
       "        vertical-align: middle;\n",
       "    }\n",
       "\n",
       "    .dataframe tbody tr th {\n",
       "        vertical-align: top;\n",
       "    }\n",
       "\n",
       "    .dataframe thead th {\n",
       "        text-align: right;\n",
       "    }\n",
       "</style>\n",
       "<table border=\"1\" class=\"dataframe\">\n",
       "  <thead>\n",
       "    <tr style=\"text-align: right;\">\n",
       "      <th></th>\n",
       "      <th>school_code</th>\n",
       "      <th>class</th>\n",
       "      <th>name</th>\n",
       "      <th>date_Of_Birth</th>\n",
       "      <th>weight</th>\n",
       "      <th>address</th>\n",
       "      <th>t_id</th>\n",
       "    </tr>\n",
       "    <tr>\n",
       "      <th>t_id</th>\n",
       "      <th></th>\n",
       "      <th></th>\n",
       "      <th></th>\n",
       "      <th></th>\n",
       "      <th></th>\n",
       "      <th></th>\n",
       "      <th></th>\n",
       "    </tr>\n",
       "  </thead>\n",
       "  <tbody>\n",
       "    <tr>\n",
       "      <th>t1</th>\n",
       "      <td>s001</td>\n",
       "      <td>V</td>\n",
       "      <td>Alberto Franco</td>\n",
       "      <td>15/05/2002</td>\n",
       "      <td>35</td>\n",
       "      <td>street1</td>\n",
       "      <td>t1</td>\n",
       "    </tr>\n",
       "    <tr>\n",
       "      <th>t2</th>\n",
       "      <td>s002</td>\n",
       "      <td>V</td>\n",
       "      <td>Gino Mcneill</td>\n",
       "      <td>17/05/2002</td>\n",
       "      <td>32</td>\n",
       "      <td>street2</td>\n",
       "      <td>t2</td>\n",
       "    </tr>\n",
       "    <tr>\n",
       "      <th>t3</th>\n",
       "      <td>s003</td>\n",
       "      <td>VI</td>\n",
       "      <td>Ryan Parkes</td>\n",
       "      <td>16/02/1999</td>\n",
       "      <td>33</td>\n",
       "      <td>street3</td>\n",
       "      <td>t3</td>\n",
       "    </tr>\n",
       "    <tr>\n",
       "      <th>t4</th>\n",
       "      <td>s001</td>\n",
       "      <td>VI</td>\n",
       "      <td>Eesha Hinton</td>\n",
       "      <td>25/09/1998</td>\n",
       "      <td>30</td>\n",
       "      <td>street1</td>\n",
       "      <td>t4</td>\n",
       "    </tr>\n",
       "    <tr>\n",
       "      <th>t5</th>\n",
       "      <td>s002</td>\n",
       "      <td>V</td>\n",
       "      <td>Gino Mcneill</td>\n",
       "      <td>11/05/2002</td>\n",
       "      <td>31</td>\n",
       "      <td>street2</td>\n",
       "      <td>t5</td>\n",
       "    </tr>\n",
       "    <tr>\n",
       "      <th>t6</th>\n",
       "      <td>s004</td>\n",
       "      <td>VI</td>\n",
       "      <td>David Parkes</td>\n",
       "      <td>15/09/1997</td>\n",
       "      <td>32</td>\n",
       "      <td>street4</td>\n",
       "      <td>t6</td>\n",
       "    </tr>\n",
       "  </tbody>\n",
       "</table>\n",
       "</div>"
      ],
      "text/plain": [
       "     school_code class            name date_Of_Birth  weight  address t_id\n",
       "t_id                                                                      \n",
       "t1          s001     V  Alberto Franco    15/05/2002      35  street1   t1\n",
       "t2          s002     V    Gino Mcneill    17/05/2002      32  street2   t2\n",
       "t3          s003    VI     Ryan Parkes    16/02/1999      33  street3   t3\n",
       "t4          s001    VI    Eesha Hinton    25/09/1998      30  street1   t4\n",
       "t5          s002     V    Gino Mcneill    11/05/2002      31  street2   t5\n",
       "t6          s004    VI    David Parkes    15/09/1997      32  street4   t6"
      ]
     },
     "execution_count": 6,
     "metadata": {},
     "output_type": "execute_result"
    }
   ],
   "source": [
    "df1.set_index('t_id',inplace=True, drop=False)\n",
    "df1"
   ]
  },
  {
   "cell_type": "code",
   "execution_count": 7,
   "metadata": {
    "colab": {
     "base_uri": "https://localhost:8080/",
     "height": 237
    },
    "colab_type": "code",
    "executionInfo": {
     "elapsed": 1428,
     "status": "ok",
     "timestamp": 1600501209424,
     "user": {
      "displayName": "Eswar Poluri",
      "photoUrl": "https://lh3.googleusercontent.com/a-/AOh14Gj2twFS3_zJQCgs07nkQBHCl4KgQC_Bh298yJkdjOg=s64",
      "userId": "17891988430079875549"
     },
     "user_tz": -330
    },
    "id": "Faa5tMYESxIX",
    "outputId": "53e621f8-4478-4c38-abe9-3907bb3630b6"
   },
   "outputs": [
    {
     "data": {
      "text/html": [
       "<div>\n",
       "<style scoped>\n",
       "    .dataframe tbody tr th:only-of-type {\n",
       "        vertical-align: middle;\n",
       "    }\n",
       "\n",
       "    .dataframe tbody tr th {\n",
       "        vertical-align: top;\n",
       "    }\n",
       "\n",
       "    .dataframe thead th {\n",
       "        text-align: right;\n",
       "    }\n",
       "</style>\n",
       "<table border=\"1\" class=\"dataframe\">\n",
       "  <thead>\n",
       "    <tr style=\"text-align: right;\">\n",
       "      <th></th>\n",
       "      <th>school_code</th>\n",
       "      <th>class</th>\n",
       "      <th>name</th>\n",
       "      <th>date_Of_Birth</th>\n",
       "      <th>weight</th>\n",
       "      <th>address</th>\n",
       "      <th>t_id</th>\n",
       "    </tr>\n",
       "  </thead>\n",
       "  <tbody>\n",
       "    <tr>\n",
       "      <th>0</th>\n",
       "      <td>s001</td>\n",
       "      <td>V</td>\n",
       "      <td>Alberto Franco</td>\n",
       "      <td>15/05/2002</td>\n",
       "      <td>35</td>\n",
       "      <td>street1</td>\n",
       "      <td>t1</td>\n",
       "    </tr>\n",
       "    <tr>\n",
       "      <th>1</th>\n",
       "      <td>s002</td>\n",
       "      <td>V</td>\n",
       "      <td>Gino Mcneill</td>\n",
       "      <td>17/05/2002</td>\n",
       "      <td>32</td>\n",
       "      <td>street2</td>\n",
       "      <td>t2</td>\n",
       "    </tr>\n",
       "    <tr>\n",
       "      <th>2</th>\n",
       "      <td>s003</td>\n",
       "      <td>VI</td>\n",
       "      <td>Ryan Parkes</td>\n",
       "      <td>16/02/1999</td>\n",
       "      <td>33</td>\n",
       "      <td>street3</td>\n",
       "      <td>t3</td>\n",
       "    </tr>\n",
       "    <tr>\n",
       "      <th>3</th>\n",
       "      <td>s001</td>\n",
       "      <td>VI</td>\n",
       "      <td>Eesha Hinton</td>\n",
       "      <td>25/09/1998</td>\n",
       "      <td>30</td>\n",
       "      <td>street1</td>\n",
       "      <td>t4</td>\n",
       "    </tr>\n",
       "    <tr>\n",
       "      <th>4</th>\n",
       "      <td>s002</td>\n",
       "      <td>V</td>\n",
       "      <td>Gino Mcneill</td>\n",
       "      <td>11/05/2002</td>\n",
       "      <td>31</td>\n",
       "      <td>street2</td>\n",
       "      <td>t5</td>\n",
       "    </tr>\n",
       "    <tr>\n",
       "      <th>5</th>\n",
       "      <td>s004</td>\n",
       "      <td>VI</td>\n",
       "      <td>David Parkes</td>\n",
       "      <td>15/09/1997</td>\n",
       "      <td>32</td>\n",
       "      <td>street4</td>\n",
       "      <td>t6</td>\n",
       "    </tr>\n",
       "  </tbody>\n",
       "</table>\n",
       "</div>"
      ],
      "text/plain": [
       "  school_code class            name date_Of_Birth  weight  address t_id\n",
       "0        s001     V  Alberto Franco    15/05/2002      35  street1   t1\n",
       "1        s002     V    Gino Mcneill    17/05/2002      32  street2   t2\n",
       "2        s003    VI     Ryan Parkes    16/02/1999      33  street3   t3\n",
       "3        s001    VI    Eesha Hinton    25/09/1998      30  street1   t4\n",
       "4        s002     V    Gino Mcneill    11/05/2002      31  street2   t5\n",
       "5        s004    VI    David Parkes    15/09/1997      32  street4   t6"
      ]
     },
     "execution_count": 7,
     "metadata": {},
     "output_type": "execute_result"
    }
   ],
   "source": [
    "df1.reset_index(drop=True, inplace=True)\n",
    "df1"
   ]
  },
  {
   "cell_type": "markdown",
   "metadata": {
    "colab_type": "text",
    "id": "Qjve970Xanch"
   },
   "source": [
    "Q4. Write a Pandas program to create an index labels index=[1, 2, 3, 4, 5, 6] by \n",
    "\n",
    "  a. using 64-bit integers, \n",
    "  \n",
    "  b. using floating-point numbers in a above dataframe."
   ]
  },
  {
   "cell_type": "code",
   "execution_count": 8,
   "metadata": {
    "colab": {
     "base_uri": "https://localhost:8080/",
     "height": 268
    },
    "colab_type": "code",
    "executionInfo": {
     "elapsed": 1410,
     "status": "ok",
     "timestamp": 1600502594920,
     "user": {
      "displayName": "Eswar Poluri",
      "photoUrl": "https://lh3.googleusercontent.com/a-/AOh14Gj2twFS3_zJQCgs07nkQBHCl4KgQC_Bh298yJkdjOg=s64",
      "userId": "17891988430079875549"
     },
     "user_tz": -330
    },
    "id": "ccSdCVwwYAI7",
    "outputId": "30580752-5547-4c57-a441-eeae7b374f7b"
   },
   "outputs": [
    {
     "data": {
      "text/html": [
       "<div>\n",
       "<style scoped>\n",
       "    .dataframe tbody tr th:only-of-type {\n",
       "        vertical-align: middle;\n",
       "    }\n",
       "\n",
       "    .dataframe tbody tr th {\n",
       "        vertical-align: top;\n",
       "    }\n",
       "\n",
       "    .dataframe thead th {\n",
       "        text-align: right;\n",
       "    }\n",
       "</style>\n",
       "<table border=\"1\" class=\"dataframe\">\n",
       "  <thead>\n",
       "    <tr style=\"text-align: right;\">\n",
       "      <th></th>\n",
       "      <th>school_code</th>\n",
       "      <th>class</th>\n",
       "      <th>name</th>\n",
       "      <th>date_Of_Birth</th>\n",
       "      <th>weight</th>\n",
       "      <th>address</th>\n",
       "      <th>t_id</th>\n",
       "    </tr>\n",
       "    <tr>\n",
       "      <th>index</th>\n",
       "      <th></th>\n",
       "      <th></th>\n",
       "      <th></th>\n",
       "      <th></th>\n",
       "      <th></th>\n",
       "      <th></th>\n",
       "      <th></th>\n",
       "    </tr>\n",
       "  </thead>\n",
       "  <tbody>\n",
       "    <tr>\n",
       "      <th>1</th>\n",
       "      <td>s001</td>\n",
       "      <td>V</td>\n",
       "      <td>Alberto Franco</td>\n",
       "      <td>15/05/2002</td>\n",
       "      <td>35</td>\n",
       "      <td>street1</td>\n",
       "      <td>t1</td>\n",
       "    </tr>\n",
       "    <tr>\n",
       "      <th>2</th>\n",
       "      <td>s002</td>\n",
       "      <td>V</td>\n",
       "      <td>Gino Mcneill</td>\n",
       "      <td>17/05/2002</td>\n",
       "      <td>32</td>\n",
       "      <td>street2</td>\n",
       "      <td>t2</td>\n",
       "    </tr>\n",
       "    <tr>\n",
       "      <th>3</th>\n",
       "      <td>s003</td>\n",
       "      <td>VI</td>\n",
       "      <td>Ryan Parkes</td>\n",
       "      <td>16/02/1999</td>\n",
       "      <td>33</td>\n",
       "      <td>street3</td>\n",
       "      <td>t3</td>\n",
       "    </tr>\n",
       "    <tr>\n",
       "      <th>4</th>\n",
       "      <td>s001</td>\n",
       "      <td>VI</td>\n",
       "      <td>Eesha Hinton</td>\n",
       "      <td>25/09/1998</td>\n",
       "      <td>30</td>\n",
       "      <td>street1</td>\n",
       "      <td>t4</td>\n",
       "    </tr>\n",
       "    <tr>\n",
       "      <th>5</th>\n",
       "      <td>s002</td>\n",
       "      <td>V</td>\n",
       "      <td>Gino Mcneill</td>\n",
       "      <td>11/05/2002</td>\n",
       "      <td>31</td>\n",
       "      <td>street2</td>\n",
       "      <td>t5</td>\n",
       "    </tr>\n",
       "    <tr>\n",
       "      <th>6</th>\n",
       "      <td>s004</td>\n",
       "      <td>VI</td>\n",
       "      <td>David Parkes</td>\n",
       "      <td>15/09/1997</td>\n",
       "      <td>32</td>\n",
       "      <td>street4</td>\n",
       "      <td>t6</td>\n",
       "    </tr>\n",
       "  </tbody>\n",
       "</table>\n",
       "</div>"
      ],
      "text/plain": [
       "      school_code class            name date_Of_Birth  weight  address t_id\n",
       "index                                                                      \n",
       "1            s001     V  Alberto Franco    15/05/2002      35  street1   t1\n",
       "2            s002     V    Gino Mcneill    17/05/2002      32  street2   t2\n",
       "3            s003    VI     Ryan Parkes    16/02/1999      33  street3   t3\n",
       "4            s001    VI    Eesha Hinton    25/09/1998      30  street1   t4\n",
       "5            s002     V    Gino Mcneill    11/05/2002      31  street2   t5\n",
       "6            s004    VI    David Parkes    15/09/1997      32  street4   t6"
      ]
     },
     "execution_count": 8,
     "metadata": {},
     "output_type": "execute_result"
    }
   ],
   "source": [
    "# Sol-1 by assigning name to index\n",
    "df1['index']=[1, 2, 3, 4, 5, 6]\n",
    "df1.set_index('index')\n",
    "\n",
    "#** df.set_index - is for setting index name\n",
    "#** df.index - is for setting index values\n",
    "#** df.index.name - is for setting index name"
   ]
  },
  {
   "cell_type": "code",
   "execution_count": 9,
   "metadata": {
    "colab": {
     "base_uri": "https://localhost:8080/",
     "height": 237
    },
    "colab_type": "code",
    "executionInfo": {
     "elapsed": 1249,
     "status": "ok",
     "timestamp": 1600502714641,
     "user": {
      "displayName": "Eswar Poluri",
      "photoUrl": "https://lh3.googleusercontent.com/a-/AOh14Gj2twFS3_zJQCgs07nkQBHCl4KgQC_Bh298yJkdjOg=s64",
      "userId": "17891988430079875549"
     },
     "user_tz": -330
    },
    "id": "Wu92dExLZH_z",
    "outputId": "f5fa68ed-9df1-41e7-b69a-391eb51d0f83"
   },
   "outputs": [
    {
     "data": {
      "text/html": [
       "<div>\n",
       "<style scoped>\n",
       "    .dataframe tbody tr th:only-of-type {\n",
       "        vertical-align: middle;\n",
       "    }\n",
       "\n",
       "    .dataframe tbody tr th {\n",
       "        vertical-align: top;\n",
       "    }\n",
       "\n",
       "    .dataframe thead th {\n",
       "        text-align: right;\n",
       "    }\n",
       "</style>\n",
       "<table border=\"1\" class=\"dataframe\">\n",
       "  <thead>\n",
       "    <tr style=\"text-align: right;\">\n",
       "      <th></th>\n",
       "      <th>school_code</th>\n",
       "      <th>class</th>\n",
       "      <th>name</th>\n",
       "      <th>date_Of_Birth</th>\n",
       "      <th>weight</th>\n",
       "      <th>address</th>\n",
       "      <th>t_id</th>\n",
       "      <th>index</th>\n",
       "    </tr>\n",
       "  </thead>\n",
       "  <tbody>\n",
       "    <tr>\n",
       "      <th>1</th>\n",
       "      <td>s001</td>\n",
       "      <td>V</td>\n",
       "      <td>Alberto Franco</td>\n",
       "      <td>15/05/2002</td>\n",
       "      <td>35</td>\n",
       "      <td>street1</td>\n",
       "      <td>t1</td>\n",
       "      <td>1</td>\n",
       "    </tr>\n",
       "    <tr>\n",
       "      <th>2</th>\n",
       "      <td>s002</td>\n",
       "      <td>V</td>\n",
       "      <td>Gino Mcneill</td>\n",
       "      <td>17/05/2002</td>\n",
       "      <td>32</td>\n",
       "      <td>street2</td>\n",
       "      <td>t2</td>\n",
       "      <td>2</td>\n",
       "    </tr>\n",
       "    <tr>\n",
       "      <th>3</th>\n",
       "      <td>s003</td>\n",
       "      <td>VI</td>\n",
       "      <td>Ryan Parkes</td>\n",
       "      <td>16/02/1999</td>\n",
       "      <td>33</td>\n",
       "      <td>street3</td>\n",
       "      <td>t3</td>\n",
       "      <td>3</td>\n",
       "    </tr>\n",
       "    <tr>\n",
       "      <th>4</th>\n",
       "      <td>s001</td>\n",
       "      <td>VI</td>\n",
       "      <td>Eesha Hinton</td>\n",
       "      <td>25/09/1998</td>\n",
       "      <td>30</td>\n",
       "      <td>street1</td>\n",
       "      <td>t4</td>\n",
       "      <td>4</td>\n",
       "    </tr>\n",
       "    <tr>\n",
       "      <th>5</th>\n",
       "      <td>s002</td>\n",
       "      <td>V</td>\n",
       "      <td>Gino Mcneill</td>\n",
       "      <td>11/05/2002</td>\n",
       "      <td>31</td>\n",
       "      <td>street2</td>\n",
       "      <td>t5</td>\n",
       "      <td>5</td>\n",
       "    </tr>\n",
       "    <tr>\n",
       "      <th>6</th>\n",
       "      <td>s004</td>\n",
       "      <td>VI</td>\n",
       "      <td>David Parkes</td>\n",
       "      <td>15/09/1997</td>\n",
       "      <td>32</td>\n",
       "      <td>street4</td>\n",
       "      <td>t6</td>\n",
       "      <td>6</td>\n",
       "    </tr>\n",
       "  </tbody>\n",
       "</table>\n",
       "</div>"
      ],
      "text/plain": [
       "  school_code class            name date_Of_Birth  weight  address t_id  index\n",
       "1        s001     V  Alberto Franco    15/05/2002      35  street1   t1      1\n",
       "2        s002     V    Gino Mcneill    17/05/2002      32  street2   t2      2\n",
       "3        s003    VI     Ryan Parkes    16/02/1999      33  street3   t3      3\n",
       "4        s001    VI    Eesha Hinton    25/09/1998      30  street1   t4      4\n",
       "5        s002     V    Gino Mcneill    11/05/2002      31  street2   t5      5\n",
       "6        s004    VI    David Parkes    15/09/1997      32  street4   t6      6"
      ]
     },
     "execution_count": 9,
     "metadata": {},
     "output_type": "execute_result"
    }
   ],
   "source": [
    "# Sol-2 without assigning name to index\n",
    "df1.index=[1, 2, 3, 4, 5, 6]\n",
    "df1"
   ]
  },
  {
   "cell_type": "code",
   "execution_count": 10,
   "metadata": {
    "colab": {
     "base_uri": "https://localhost:8080/",
     "height": 237
    },
    "colab_type": "code",
    "executionInfo": {
     "elapsed": 1686,
     "status": "ok",
     "timestamp": 1600502389340,
     "user": {
      "displayName": "Eswar Poluri",
      "photoUrl": "https://lh3.googleusercontent.com/a-/AOh14Gj2twFS3_zJQCgs07nkQBHCl4KgQC_Bh298yJkdjOg=s64",
      "userId": "17891988430079875549"
     },
     "user_tz": -330
    },
    "id": "oeI7t18JYALj",
    "outputId": "9e81e3e3-1bc8-44dd-ab09-2327d13424bb"
   },
   "outputs": [
    {
     "data": {
      "text/html": [
       "<div>\n",
       "<style scoped>\n",
       "    .dataframe tbody tr th:only-of-type {\n",
       "        vertical-align: middle;\n",
       "    }\n",
       "\n",
       "    .dataframe tbody tr th {\n",
       "        vertical-align: top;\n",
       "    }\n",
       "\n",
       "    .dataframe thead th {\n",
       "        text-align: right;\n",
       "    }\n",
       "</style>\n",
       "<table border=\"1\" class=\"dataframe\">\n",
       "  <thead>\n",
       "    <tr style=\"text-align: right;\">\n",
       "      <th></th>\n",
       "      <th>school_code</th>\n",
       "      <th>class</th>\n",
       "      <th>name</th>\n",
       "      <th>date_Of_Birth</th>\n",
       "      <th>weight</th>\n",
       "      <th>address</th>\n",
       "      <th>t_id</th>\n",
       "      <th>index</th>\n",
       "    </tr>\n",
       "  </thead>\n",
       "  <tbody>\n",
       "    <tr>\n",
       "      <th>0.1</th>\n",
       "      <td>s001</td>\n",
       "      <td>V</td>\n",
       "      <td>Alberto Franco</td>\n",
       "      <td>15/05/2002</td>\n",
       "      <td>35</td>\n",
       "      <td>street1</td>\n",
       "      <td>t1</td>\n",
       "      <td>1</td>\n",
       "    </tr>\n",
       "    <tr>\n",
       "      <th>0.2</th>\n",
       "      <td>s002</td>\n",
       "      <td>V</td>\n",
       "      <td>Gino Mcneill</td>\n",
       "      <td>17/05/2002</td>\n",
       "      <td>32</td>\n",
       "      <td>street2</td>\n",
       "      <td>t2</td>\n",
       "      <td>2</td>\n",
       "    </tr>\n",
       "    <tr>\n",
       "      <th>0.3</th>\n",
       "      <td>s003</td>\n",
       "      <td>VI</td>\n",
       "      <td>Ryan Parkes</td>\n",
       "      <td>16/02/1999</td>\n",
       "      <td>33</td>\n",
       "      <td>street3</td>\n",
       "      <td>t3</td>\n",
       "      <td>3</td>\n",
       "    </tr>\n",
       "    <tr>\n",
       "      <th>0.4</th>\n",
       "      <td>s001</td>\n",
       "      <td>VI</td>\n",
       "      <td>Eesha Hinton</td>\n",
       "      <td>25/09/1998</td>\n",
       "      <td>30</td>\n",
       "      <td>street1</td>\n",
       "      <td>t4</td>\n",
       "      <td>4</td>\n",
       "    </tr>\n",
       "    <tr>\n",
       "      <th>0.5</th>\n",
       "      <td>s002</td>\n",
       "      <td>V</td>\n",
       "      <td>Gino Mcneill</td>\n",
       "      <td>11/05/2002</td>\n",
       "      <td>31</td>\n",
       "      <td>street2</td>\n",
       "      <td>t5</td>\n",
       "      <td>5</td>\n",
       "    </tr>\n",
       "    <tr>\n",
       "      <th>0.6</th>\n",
       "      <td>s004</td>\n",
       "      <td>VI</td>\n",
       "      <td>David Parkes</td>\n",
       "      <td>15/09/1997</td>\n",
       "      <td>32</td>\n",
       "      <td>street4</td>\n",
       "      <td>t6</td>\n",
       "      <td>6</td>\n",
       "    </tr>\n",
       "  </tbody>\n",
       "</table>\n",
       "</div>"
      ],
      "text/plain": [
       "    school_code class            name date_Of_Birth  weight  address t_id  \\\n",
       "0.1        s001     V  Alberto Franco    15/05/2002      35  street1   t1   \n",
       "0.2        s002     V    Gino Mcneill    17/05/2002      32  street2   t2   \n",
       "0.3        s003    VI     Ryan Parkes    16/02/1999      33  street3   t3   \n",
       "0.4        s001    VI    Eesha Hinton    25/09/1998      30  street1   t4   \n",
       "0.5        s002     V    Gino Mcneill    11/05/2002      31  street2   t5   \n",
       "0.6        s004    VI    David Parkes    15/09/1997      32  street4   t6   \n",
       "\n",
       "     index  \n",
       "0.1      1  \n",
       "0.2      2  \n",
       "0.3      3  \n",
       "0.4      4  \n",
       "0.5      5  \n",
       "0.6      6  "
      ]
     },
     "execution_count": 10,
     "metadata": {},
     "output_type": "execute_result"
    }
   ],
   "source": [
    "df1.index=[.1, .2, .3, .4, .5, .6]\n",
    "df1"
   ]
  },
  {
   "cell_type": "markdown",
   "metadata": {
    "colab_type": "text",
    "id": "5YxZ6NC-Z9fy"
   },
   "source": [
    "Q5. Write a Pandas program to create a DataFrame using intervals as an index.\n",
    "\n",
    "IntervalIndex represents an Index of Interval objects that are all closed on the same side.\n",
    "\n",
    "pandas.IntervalIndex.from_breaks: Construct an IntervalIndex from an array of splits\n",
    "\n",
    "pandas.IntervalIndex.from_tuples: Construct an IntervalIndex from a list/array of tuples\n",
    "\n",
    "pandas.IntervalIndex.from_arrays: Construct from two arrays defining the left and right bounds."
   ]
  },
  {
   "cell_type": "code",
   "execution_count": 11,
   "metadata": {
    "colab": {
     "base_uri": "https://localhost:8080/",
     "height": 268
    },
    "colab_type": "code",
    "executionInfo": {
     "elapsed": 1720,
     "status": "ok",
     "timestamp": 1600509887710,
     "user": {
      "displayName": "Eswar Poluri",
      "photoUrl": "https://lh3.googleusercontent.com/a-/AOh14Gj2twFS3_zJQCgs07nkQBHCl4KgQC_Bh298yJkdjOg=s64",
      "userId": "17891988430079875549"
     },
     "user_tz": -330
    },
    "id": "05dSBvMKaENx",
    "outputId": "c5183d37-d5b1-4f3d-a5f7-35a1e7675a58"
   },
   "outputs": [
    {
     "data": {
      "text/html": [
       "<div>\n",
       "<style scoped>\n",
       "    .dataframe tbody tr th:only-of-type {\n",
       "        vertical-align: middle;\n",
       "    }\n",
       "\n",
       "    .dataframe tbody tr th {\n",
       "        vertical-align: top;\n",
       "    }\n",
       "\n",
       "    .dataframe thead th {\n",
       "        text-align: right;\n",
       "    }\n",
       "</style>\n",
       "<table border=\"1\" class=\"dataframe\">\n",
       "  <thead>\n",
       "    <tr style=\"text-align: right;\">\n",
       "      <th></th>\n",
       "      <th>X</th>\n",
       "    </tr>\n",
       "  </thead>\n",
       "  <tbody>\n",
       "    <tr>\n",
       "      <th>(0.0, 0.5]</th>\n",
       "      <td>1</td>\n",
       "    </tr>\n",
       "    <tr>\n",
       "      <th>(0.5, 1.0]</th>\n",
       "      <td>2</td>\n",
       "    </tr>\n",
       "    <tr>\n",
       "      <th>(1.0, 1.5]</th>\n",
       "      <td>3</td>\n",
       "    </tr>\n",
       "    <tr>\n",
       "      <th>(1.5, 2.0]</th>\n",
       "      <td>4</td>\n",
       "    </tr>\n",
       "    <tr>\n",
       "      <th>(2.0, 2.5]</th>\n",
       "      <td>5</td>\n",
       "    </tr>\n",
       "    <tr>\n",
       "      <th>(2.5, 3.0]</th>\n",
       "      <td>6</td>\n",
       "    </tr>\n",
       "    <tr>\n",
       "      <th>(3.0, 3.5]</th>\n",
       "      <td>7</td>\n",
       "    </tr>\n",
       "  </tbody>\n",
       "</table>\n",
       "</div>"
      ],
      "text/plain": [
       "            X\n",
       "(0.0, 0.5]  1\n",
       "(0.5, 1.0]  2\n",
       "(1.0, 1.5]  3\n",
       "(1.5, 2.0]  4\n",
       "(2.0, 2.5]  5\n",
       "(2.5, 3.0]  6\n",
       "(3.0, 3.5]  7"
      ]
     },
     "execution_count": 11,
     "metadata": {},
     "output_type": "execute_result"
    }
   ],
   "source": [
    "# Create an Interval Index using IntervalIndex.from_breaks:\n",
    "x=[1, 2, 3, 4, 5, 6, 7] # as column\n",
    "l=[0, 0.5, 1.0, 1.5, 2.0, 2.5, 3, 3.5] # list to make a intervelindex\n",
    "t=[(0, .5), (.5, 1), (1, 1.5), (1.5, 2), (2, 2.5), (2.5, 3), (3, 3.5)] # Tupples to make a intervelindex\n",
    "a, b = np.array([0, .5, 1, 1.5, 2, 2.5, 3]), np.array([.5, 1, 1.5, 2, 2.5, 3, 3.5]) # array to make a intervelindex\n",
    "df_interval = pd.DataFrame({\"X\":x}, index = pd.IntervalIndex.from_breaks(l))\n",
    "df_interval"
   ]
  },
  {
   "cell_type": "code",
   "execution_count": 12,
   "metadata": {
    "colab": {
     "base_uri": "https://localhost:8080/",
     "height": 69
    },
    "colab_type": "code",
    "executionInfo": {
     "elapsed": 1261,
     "status": "ok",
     "timestamp": 1600506559306,
     "user": {
      "displayName": "Eswar Poluri",
      "photoUrl": "https://lh3.googleusercontent.com/a-/AOh14Gj2twFS3_zJQCgs07nkQBHCl4KgQC_Bh298yJkdjOg=s64",
      "userId": "17891988430079875549"
     },
     "user_tz": -330
    },
    "id": "6ujVHfIhn2Ac",
    "outputId": "8336dab0-01b2-496c-97e3-dfd021f94a81"
   },
   "outputs": [
    {
     "data": {
      "text/plain": [
       "IntervalIndex([(0.0, 0.5], (0.5, 1.0], (1.0, 1.5], (1.5, 2.0], (2.0, 2.5], (2.5, 3.0], (3.0, 3.5]],\n",
       "              closed='right',\n",
       "              dtype='interval[float64]')"
      ]
     },
     "execution_count": 12,
     "metadata": {},
     "output_type": "execute_result"
    }
   ],
   "source": [
    "df_interval.index"
   ]
  },
  {
   "cell_type": "code",
   "execution_count": 13,
   "metadata": {
    "colab": {
     "base_uri": "https://localhost:8080/",
     "height": 268
    },
    "colab_type": "code",
    "executionInfo": {
     "elapsed": 1477,
     "status": "ok",
     "timestamp": 1600506619479,
     "user": {
      "displayName": "Eswar Poluri",
      "photoUrl": "https://lh3.googleusercontent.com/a-/AOh14Gj2twFS3_zJQCgs07nkQBHCl4KgQC_Bh298yJkdjOg=s64",
      "userId": "17891988430079875549"
     },
     "user_tz": -330
    },
    "id": "mwdzncWbn19L",
    "outputId": "5c4327fa-cc45-435e-e612-fdddac86ef63"
   },
   "outputs": [
    {
     "data": {
      "text/html": [
       "<div>\n",
       "<style scoped>\n",
       "    .dataframe tbody tr th:only-of-type {\n",
       "        vertical-align: middle;\n",
       "    }\n",
       "\n",
       "    .dataframe tbody tr th {\n",
       "        vertical-align: top;\n",
       "    }\n",
       "\n",
       "    .dataframe thead th {\n",
       "        text-align: right;\n",
       "    }\n",
       "</style>\n",
       "<table border=\"1\" class=\"dataframe\">\n",
       "  <thead>\n",
       "    <tr style=\"text-align: right;\">\n",
       "      <th></th>\n",
       "      <th>X</th>\n",
       "    </tr>\n",
       "  </thead>\n",
       "  <tbody>\n",
       "    <tr>\n",
       "      <th>(0.0, 0.5]</th>\n",
       "      <td>1</td>\n",
       "    </tr>\n",
       "    <tr>\n",
       "      <th>(0.5, 1.0]</th>\n",
       "      <td>2</td>\n",
       "    </tr>\n",
       "    <tr>\n",
       "      <th>(1.0, 1.5]</th>\n",
       "      <td>3</td>\n",
       "    </tr>\n",
       "    <tr>\n",
       "      <th>(1.5, 2.0]</th>\n",
       "      <td>4</td>\n",
       "    </tr>\n",
       "    <tr>\n",
       "      <th>(2.0, 2.5]</th>\n",
       "      <td>5</td>\n",
       "    </tr>\n",
       "    <tr>\n",
       "      <th>(2.5, 3.0]</th>\n",
       "      <td>6</td>\n",
       "    </tr>\n",
       "    <tr>\n",
       "      <th>(3.0, 3.5]</th>\n",
       "      <td>7</td>\n",
       "    </tr>\n",
       "  </tbody>\n",
       "</table>\n",
       "</div>"
      ],
      "text/plain": [
       "            X\n",
       "(0.0, 0.5]  1\n",
       "(0.5, 1.0]  2\n",
       "(1.0, 1.5]  3\n",
       "(1.5, 2.0]  4\n",
       "(2.0, 2.5]  5\n",
       "(2.5, 3.0]  6\n",
       "(3.0, 3.5]  7"
      ]
     },
     "execution_count": 13,
     "metadata": {},
     "output_type": "execute_result"
    }
   ],
   "source": [
    "# Create an Interval Index using IntervalIndex.from_tuples:\n",
    "df_interval = pd.DataFrame({\"X\":x}, index = pd.IntervalIndex.from_tuples(t))\n",
    "df_interval"
   ]
  },
  {
   "cell_type": "code",
   "execution_count": 14,
   "metadata": {
    "colab": {
     "base_uri": "https://localhost:8080/",
     "height": 268
    },
    "colab_type": "code",
    "executionInfo": {
     "elapsed": 2695,
     "status": "ok",
     "timestamp": 1600509895969,
     "user": {
      "displayName": "Eswar Poluri",
      "photoUrl": "https://lh3.googleusercontent.com/a-/AOh14Gj2twFS3_zJQCgs07nkQBHCl4KgQC_Bh298yJkdjOg=s64",
      "userId": "17891988430079875549"
     },
     "user_tz": -330
    },
    "id": "dX_YLTaioPd1",
    "outputId": "396e5d97-8ed0-4c6b-f929-1a5a67f16902"
   },
   "outputs": [
    {
     "data": {
      "text/html": [
       "<div>\n",
       "<style scoped>\n",
       "    .dataframe tbody tr th:only-of-type {\n",
       "        vertical-align: middle;\n",
       "    }\n",
       "\n",
       "    .dataframe tbody tr th {\n",
       "        vertical-align: top;\n",
       "    }\n",
       "\n",
       "    .dataframe thead th {\n",
       "        text-align: right;\n",
       "    }\n",
       "</style>\n",
       "<table border=\"1\" class=\"dataframe\">\n",
       "  <thead>\n",
       "    <tr style=\"text-align: right;\">\n",
       "      <th></th>\n",
       "      <th>X</th>\n",
       "    </tr>\n",
       "  </thead>\n",
       "  <tbody>\n",
       "    <tr>\n",
       "      <th>(0.0, 0.5]</th>\n",
       "      <td>1</td>\n",
       "    </tr>\n",
       "    <tr>\n",
       "      <th>(0.5, 1.0]</th>\n",
       "      <td>2</td>\n",
       "    </tr>\n",
       "    <tr>\n",
       "      <th>(1.0, 1.5]</th>\n",
       "      <td>3</td>\n",
       "    </tr>\n",
       "    <tr>\n",
       "      <th>(1.5, 2.0]</th>\n",
       "      <td>4</td>\n",
       "    </tr>\n",
       "    <tr>\n",
       "      <th>(2.0, 2.5]</th>\n",
       "      <td>5</td>\n",
       "    </tr>\n",
       "    <tr>\n",
       "      <th>(2.5, 3.0]</th>\n",
       "      <td>6</td>\n",
       "    </tr>\n",
       "    <tr>\n",
       "      <th>(3.0, 3.5]</th>\n",
       "      <td>7</td>\n",
       "    </tr>\n",
       "  </tbody>\n",
       "</table>\n",
       "</div>"
      ],
      "text/plain": [
       "            X\n",
       "(0.0, 0.5]  1\n",
       "(0.5, 1.0]  2\n",
       "(1.0, 1.5]  3\n",
       "(1.5, 2.0]  4\n",
       "(2.0, 2.5]  5\n",
       "(2.5, 3.0]  6\n",
       "(3.0, 3.5]  7"
      ]
     },
     "execution_count": 14,
     "metadata": {},
     "output_type": "execute_result"
    }
   ],
   "source": [
    "# Create an Interval Index using IntervalIndex.from_arrays:\n",
    "df_interval = pd.DataFrame({\"X\":x},index = pd.IntervalIndex.from_arrays(a,b))\n",
    "df_interval"
   ]
  },
  {
   "cell_type": "markdown",
   "metadata": {
    "colab_type": "text",
    "id": "LtAgqkiDROyj"
   },
   "source": [
    "Q6. Write a Pandas program to create a dataframe with sale_amt as column and a datetime index of ten values by ."
   ]
  },
  {
   "cell_type": "code",
   "execution_count": 15,
   "metadata": {
    "colab": {
     "base_uri": "https://localhost:8080/",
     "height": 121
    },
    "colab_type": "code",
    "executionInfo": {
     "elapsed": 1661,
     "status": "ok",
     "timestamp": 1600511830238,
     "user": {
      "displayName": "Eswar Poluri",
      "photoUrl": "https://lh3.googleusercontent.com/a-/AOh14Gj2twFS3_zJQCgs07nkQBHCl4KgQC_Bh298yJkdjOg=s64",
      "userId": "17891988430079875549"
     },
     "user_tz": -330
    },
    "id": "dF9u0wH5YAW5",
    "outputId": "ff953f13-72e5-4aa0-e236-92538fe1b75e"
   },
   "outputs": [
    {
     "data": {
      "text/plain": [
       "DatetimeIndex(['2020-05-12 07:10:10', '2020-05-12 07:10:11',\n",
       "               '2020-05-12 07:10:12', '2020-05-12 07:10:13',\n",
       "               '2020-05-12 07:10:14', '2020-05-12 07:10:15',\n",
       "               '2020-05-12 07:10:16', '2020-05-12 07:10:17',\n",
       "               '2020-05-12 07:10:18', '2020-05-12 07:10:19'],\n",
       "              dtype='datetime64[ns]', freq='S')"
      ]
     },
     "execution_count": 15,
     "metadata": {},
     "output_type": "execute_result"
    }
   ],
   "source": [
    "Sale_amt=[100, 110, 117, 150, 112, 99, 129, 135, 140, 150]\n",
    "dt_range = pd.date_range(start ='2020-05-12 07:10:10', freq ='S', periods = 10)\n",
    "dt_range"
   ]
  },
  {
   "cell_type": "code",
   "execution_count": 16,
   "metadata": {
    "colab": {
     "base_uri": "https://localhost:8080/",
     "height": 362
    },
    "colab_type": "code",
    "executionInfo": {
     "elapsed": 1424,
     "status": "ok",
     "timestamp": 1600511999513,
     "user": {
      "displayName": "Eswar Poluri",
      "photoUrl": "https://lh3.googleusercontent.com/a-/AOh14Gj2twFS3_zJQCgs07nkQBHCl4KgQC_Bh298yJkdjOg=s64",
      "userId": "17891988430079875549"
     },
     "user_tz": -330
    },
    "id": "k4jJgXYh8IAa",
    "outputId": "4631bc85-a905-4c13-d787-4cd3b79b7ae8"
   },
   "outputs": [
    {
     "data": {
      "text/html": [
       "<div>\n",
       "<style scoped>\n",
       "    .dataframe tbody tr th:only-of-type {\n",
       "        vertical-align: middle;\n",
       "    }\n",
       "\n",
       "    .dataframe tbody tr th {\n",
       "        vertical-align: top;\n",
       "    }\n",
       "\n",
       "    .dataframe thead th {\n",
       "        text-align: right;\n",
       "    }\n",
       "</style>\n",
       "<table border=\"1\" class=\"dataframe\">\n",
       "  <thead>\n",
       "    <tr style=\"text-align: right;\">\n",
       "      <th></th>\n",
       "      <th>Sale_amt</th>\n",
       "    </tr>\n",
       "  </thead>\n",
       "  <tbody>\n",
       "    <tr>\n",
       "      <th>2020-05-12 07:10:10</th>\n",
       "      <td>100</td>\n",
       "    </tr>\n",
       "    <tr>\n",
       "      <th>2020-05-12 07:10:11</th>\n",
       "      <td>110</td>\n",
       "    </tr>\n",
       "    <tr>\n",
       "      <th>2020-05-12 07:10:12</th>\n",
       "      <td>117</td>\n",
       "    </tr>\n",
       "    <tr>\n",
       "      <th>2020-05-12 07:10:13</th>\n",
       "      <td>150</td>\n",
       "    </tr>\n",
       "    <tr>\n",
       "      <th>2020-05-12 07:10:14</th>\n",
       "      <td>112</td>\n",
       "    </tr>\n",
       "    <tr>\n",
       "      <th>2020-05-12 07:10:15</th>\n",
       "      <td>99</td>\n",
       "    </tr>\n",
       "    <tr>\n",
       "      <th>2020-05-12 07:10:16</th>\n",
       "      <td>129</td>\n",
       "    </tr>\n",
       "    <tr>\n",
       "      <th>2020-05-12 07:10:17</th>\n",
       "      <td>135</td>\n",
       "    </tr>\n",
       "    <tr>\n",
       "      <th>2020-05-12 07:10:18</th>\n",
       "      <td>140</td>\n",
       "    </tr>\n",
       "    <tr>\n",
       "      <th>2020-05-12 07:10:19</th>\n",
       "      <td>150</td>\n",
       "    </tr>\n",
       "  </tbody>\n",
       "</table>\n",
       "</div>"
      ],
      "text/plain": [
       "                     Sale_amt\n",
       "2020-05-12 07:10:10       100\n",
       "2020-05-12 07:10:11       110\n",
       "2020-05-12 07:10:12       117\n",
       "2020-05-12 07:10:13       150\n",
       "2020-05-12 07:10:14       112\n",
       "2020-05-12 07:10:15        99\n",
       "2020-05-12 07:10:16       129\n",
       "2020-05-12 07:10:17       135\n",
       "2020-05-12 07:10:18       140\n",
       "2020-05-12 07:10:19       150"
      ]
     },
     "execution_count": 16,
     "metadata": {},
     "output_type": "execute_result"
    }
   ],
   "source": [
    "dt_df=pd.DataFrame({\"Sale_amt\":[100, 110, 117, 150, 112, 99, 129, 135, 140, 150]},index = dt_range)\n",
    "dt_df"
   ]
  },
  {
   "cell_type": "markdown",
   "metadata": {
    "colab_type": "text",
    "id": "GEnALMvtZ3_U"
   },
   "source": [
    "Q7. Write a Pandas program to set a name of index to Index_name in the above df"
   ]
  },
  {
   "cell_type": "code",
   "execution_count": 17,
   "metadata": {
    "colab": {
     "base_uri": "https://localhost:8080/",
     "height": 394
    },
    "colab_type": "code",
    "executionInfo": {
     "elapsed": 1304,
     "status": "ok",
     "timestamp": 1600512130249,
     "user": {
      "displayName": "Eswar Poluri",
      "photoUrl": "https://lh3.googleusercontent.com/a-/AOh14Gj2twFS3_zJQCgs07nkQBHCl4KgQC_Bh298yJkdjOg=s64",
      "userId": "17891988430079875549"
     },
     "user_tz": -330
    },
    "id": "zWAjd3XyYAe3",
    "outputId": "2308a482-2c3f-40ca-c46c-65385af0c785"
   },
   "outputs": [
    {
     "data": {
      "text/html": [
       "<div>\n",
       "<style scoped>\n",
       "    .dataframe tbody tr th:only-of-type {\n",
       "        vertical-align: middle;\n",
       "    }\n",
       "\n",
       "    .dataframe tbody tr th {\n",
       "        vertical-align: top;\n",
       "    }\n",
       "\n",
       "    .dataframe thead th {\n",
       "        text-align: right;\n",
       "    }\n",
       "</style>\n",
       "<table border=\"1\" class=\"dataframe\">\n",
       "  <thead>\n",
       "    <tr style=\"text-align: right;\">\n",
       "      <th></th>\n",
       "      <th>Sale_amt</th>\n",
       "    </tr>\n",
       "    <tr>\n",
       "      <th>Index_name</th>\n",
       "      <th></th>\n",
       "    </tr>\n",
       "  </thead>\n",
       "  <tbody>\n",
       "    <tr>\n",
       "      <th>2020-05-12 07:10:10</th>\n",
       "      <td>100</td>\n",
       "    </tr>\n",
       "    <tr>\n",
       "      <th>2020-05-12 07:10:11</th>\n",
       "      <td>110</td>\n",
       "    </tr>\n",
       "    <tr>\n",
       "      <th>2020-05-12 07:10:12</th>\n",
       "      <td>117</td>\n",
       "    </tr>\n",
       "    <tr>\n",
       "      <th>2020-05-12 07:10:13</th>\n",
       "      <td>150</td>\n",
       "    </tr>\n",
       "    <tr>\n",
       "      <th>2020-05-12 07:10:14</th>\n",
       "      <td>112</td>\n",
       "    </tr>\n",
       "    <tr>\n",
       "      <th>2020-05-12 07:10:15</th>\n",
       "      <td>99</td>\n",
       "    </tr>\n",
       "    <tr>\n",
       "      <th>2020-05-12 07:10:16</th>\n",
       "      <td>129</td>\n",
       "    </tr>\n",
       "    <tr>\n",
       "      <th>2020-05-12 07:10:17</th>\n",
       "      <td>135</td>\n",
       "    </tr>\n",
       "    <tr>\n",
       "      <th>2020-05-12 07:10:18</th>\n",
       "      <td>140</td>\n",
       "    </tr>\n",
       "    <tr>\n",
       "      <th>2020-05-12 07:10:19</th>\n",
       "      <td>150</td>\n",
       "    </tr>\n",
       "  </tbody>\n",
       "</table>\n",
       "</div>"
      ],
      "text/plain": [
       "                     Sale_amt\n",
       "Index_name                   \n",
       "2020-05-12 07:10:10       100\n",
       "2020-05-12 07:10:11       110\n",
       "2020-05-12 07:10:12       117\n",
       "2020-05-12 07:10:13       150\n",
       "2020-05-12 07:10:14       112\n",
       "2020-05-12 07:10:15        99\n",
       "2020-05-12 07:10:16       129\n",
       "2020-05-12 07:10:17       135\n",
       "2020-05-12 07:10:18       140\n",
       "2020-05-12 07:10:19       150"
      ]
     },
     "execution_count": 17,
     "metadata": {},
     "output_type": "execute_result"
    }
   ],
   "source": [
    "dt_df.index.name='Index_name'\n",
    "dt_df"
   ]
  },
  {
   "cell_type": "markdown",
   "metadata": {
    "colab_type": "text",
    "id": "YOnLWQ9leINt"
   },
   "source": [
    "Q8. Write a Pandas program to set value in a specific cell in a given dataframe using index.\n",
    "\n",
    "Replace the values of school_code and date_of_birth in t6 row to s005 and 16/05/2002 in the above dataframe"
   ]
  },
  {
   "cell_type": "code",
   "execution_count": 18,
   "metadata": {
    "colab": {
     "base_uri": "https://localhost:8080/",
     "height": 237
    },
    "colab_type": "code",
    "executionInfo": {
     "elapsed": 1380,
     "status": "ok",
     "timestamp": 1600513526952,
     "user": {
      "displayName": "Eswar Poluri",
      "photoUrl": "https://lh3.googleusercontent.com/a-/AOh14Gj2twFS3_zJQCgs07nkQBHCl4KgQC_Bh298yJkdjOg=s64",
      "userId": "17891988430079875549"
     },
     "user_tz": -330
    },
    "id": "W6o1hmtpYAnk",
    "outputId": "576c8cad-b720-4819-fb72-5627d27f7162"
   },
   "outputs": [
    {
     "data": {
      "text/html": [
       "<div>\n",
       "<style scoped>\n",
       "    .dataframe tbody tr th:only-of-type {\n",
       "        vertical-align: middle;\n",
       "    }\n",
       "\n",
       "    .dataframe tbody tr th {\n",
       "        vertical-align: top;\n",
       "    }\n",
       "\n",
       "    .dataframe thead th {\n",
       "        text-align: right;\n",
       "    }\n",
       "</style>\n",
       "<table border=\"1\" class=\"dataframe\">\n",
       "  <thead>\n",
       "    <tr style=\"text-align: right;\">\n",
       "      <th></th>\n",
       "      <th>school_code</th>\n",
       "      <th>class</th>\n",
       "      <th>name</th>\n",
       "      <th>date_of_birth</th>\n",
       "      <th>weight</th>\n",
       "    </tr>\n",
       "  </thead>\n",
       "  <tbody>\n",
       "    <tr>\n",
       "      <th>t1</th>\n",
       "      <td>s001</td>\n",
       "      <td>V</td>\n",
       "      <td>Alberto Franco</td>\n",
       "      <td>15/05/2002</td>\n",
       "      <td>35</td>\n",
       "    </tr>\n",
       "    <tr>\n",
       "      <th>t2</th>\n",
       "      <td>s002</td>\n",
       "      <td>V</td>\n",
       "      <td>Gino Mcneill</td>\n",
       "      <td>17/05/2002</td>\n",
       "      <td>32</td>\n",
       "    </tr>\n",
       "    <tr>\n",
       "      <th>t3</th>\n",
       "      <td>s003</td>\n",
       "      <td>VI</td>\n",
       "      <td>Ryan Parkes</td>\n",
       "      <td>16/02/1999</td>\n",
       "      <td>33</td>\n",
       "    </tr>\n",
       "    <tr>\n",
       "      <th>t4</th>\n",
       "      <td>s001</td>\n",
       "      <td>VI</td>\n",
       "      <td>Eesha Hinton</td>\n",
       "      <td>25/09/1998</td>\n",
       "      <td>30</td>\n",
       "    </tr>\n",
       "    <tr>\n",
       "      <th>t5</th>\n",
       "      <td>s002</td>\n",
       "      <td>V</td>\n",
       "      <td>Gino Mcneill</td>\n",
       "      <td>11/05/2002</td>\n",
       "      <td>31</td>\n",
       "    </tr>\n",
       "    <tr>\n",
       "      <th>t6</th>\n",
       "      <td>s004</td>\n",
       "      <td>VI</td>\n",
       "      <td>David Parkes</td>\n",
       "      <td>15/09/1997</td>\n",
       "      <td>32</td>\n",
       "    </tr>\n",
       "  </tbody>\n",
       "</table>\n",
       "</div>"
      ],
      "text/plain": [
       "   school_code class            name date_of_birth  weight\n",
       "t1        s001     V  Alberto Franco    15/05/2002      35\n",
       "t2        s002     V    Gino Mcneill    17/05/2002      32\n",
       "t3        s003    VI     Ryan Parkes    16/02/1999      33\n",
       "t4        s001    VI    Eesha Hinton    25/09/1998      30\n",
       "t5        s002     V    Gino Mcneill    11/05/2002      31\n",
       "t6        s004    VI    David Parkes    15/09/1997      32"
      ]
     },
     "execution_count": 18,
     "metadata": {},
     "output_type": "execute_result"
    }
   ],
   "source": [
    "df = pd.DataFrame({\n",
    "    'school_code': ['s001','s002','s003','s001','s002','s004'],\n",
    "    'class': ['V', 'V', 'VI', 'VI', 'V', 'VI'],\n",
    "    'name': ['Alberto Franco','Gino Mcneill','Ryan Parkes', 'Eesha Hinton', 'Gino Mcneill', 'David Parkes'],\n",
    "    'date_of_birth': ['15/05/2002','17/05/2002','16/02/1999','25/09/1998','11/05/2002','15/09/1997'],\n",
    "    'weight': [35, 32, 33, 30, 31, 32]},\n",
    "     index = ['t1', 't2', 't3', 't4', 't5', 't6'])\n",
    "df"
   ]
  },
  {
   "cell_type": "code",
   "execution_count": 19,
   "metadata": {
    "colab": {
     "base_uri": "https://localhost:8080/",
     "height": 237
    },
    "colab_type": "code",
    "executionInfo": {
     "elapsed": 1486,
     "status": "ok",
     "timestamp": 1600513116917,
     "user": {
      "displayName": "Eswar Poluri",
      "photoUrl": "https://lh3.googleusercontent.com/a-/AOh14Gj2twFS3_zJQCgs07nkQBHCl4KgQC_Bh298yJkdjOg=s64",
      "userId": "17891988430079875549"
     },
     "user_tz": -330
    },
    "id": "SnBUTeoE92OF",
    "outputId": "6bb15377-40f4-4e54-a94e-fd5f1ff25b26"
   },
   "outputs": [
    {
     "data": {
      "text/html": [
       "<div>\n",
       "<style scoped>\n",
       "    .dataframe tbody tr th:only-of-type {\n",
       "        vertical-align: middle;\n",
       "    }\n",
       "\n",
       "    .dataframe tbody tr th {\n",
       "        vertical-align: top;\n",
       "    }\n",
       "\n",
       "    .dataframe thead th {\n",
       "        text-align: right;\n",
       "    }\n",
       "</style>\n",
       "<table border=\"1\" class=\"dataframe\">\n",
       "  <thead>\n",
       "    <tr style=\"text-align: right;\">\n",
       "      <th></th>\n",
       "      <th>school_code</th>\n",
       "      <th>class</th>\n",
       "      <th>name</th>\n",
       "      <th>date_of_birth</th>\n",
       "      <th>weight</th>\n",
       "    </tr>\n",
       "  </thead>\n",
       "  <tbody>\n",
       "    <tr>\n",
       "      <th>t1</th>\n",
       "      <td>s001</td>\n",
       "      <td>V</td>\n",
       "      <td>Alberto Franco</td>\n",
       "      <td>15/05/2002</td>\n",
       "      <td>35</td>\n",
       "    </tr>\n",
       "    <tr>\n",
       "      <th>t2</th>\n",
       "      <td>s002</td>\n",
       "      <td>V</td>\n",
       "      <td>Gino Mcneill</td>\n",
       "      <td>17/05/2002</td>\n",
       "      <td>32</td>\n",
       "    </tr>\n",
       "    <tr>\n",
       "      <th>t3</th>\n",
       "      <td>s003</td>\n",
       "      <td>VI</td>\n",
       "      <td>Ryan Parkes</td>\n",
       "      <td>16/02/1999</td>\n",
       "      <td>33</td>\n",
       "    </tr>\n",
       "    <tr>\n",
       "      <th>t4</th>\n",
       "      <td>s001</td>\n",
       "      <td>VI</td>\n",
       "      <td>Eesha Hinton</td>\n",
       "      <td>25/09/1998</td>\n",
       "      <td>30</td>\n",
       "    </tr>\n",
       "    <tr>\n",
       "      <th>t5</th>\n",
       "      <td>s002</td>\n",
       "      <td>V</td>\n",
       "      <td>Gino Mcneill</td>\n",
       "      <td>11/05/2002</td>\n",
       "      <td>31</td>\n",
       "    </tr>\n",
       "    <tr>\n",
       "      <th>t6</th>\n",
       "      <td>s005</td>\n",
       "      <td>VI</td>\n",
       "      <td>David Parkes</td>\n",
       "      <td>16/05/2002</td>\n",
       "      <td>32</td>\n",
       "    </tr>\n",
       "  </tbody>\n",
       "</table>\n",
       "</div>"
      ],
      "text/plain": [
       "   school_code class            name date_of_birth  weight\n",
       "t1        s001     V  Alberto Franco    15/05/2002      35\n",
       "t2        s002     V    Gino Mcneill    17/05/2002      32\n",
       "t3        s003    VI     Ryan Parkes    16/02/1999      33\n",
       "t4        s001    VI    Eesha Hinton    25/09/1998      30\n",
       "t5        s002     V    Gino Mcneill    11/05/2002      31\n",
       "t6        s005    VI    David Parkes    16/05/2002      32"
      ]
     },
     "execution_count": 19,
     "metadata": {},
     "output_type": "execute_result"
    }
   ],
   "source": [
    "# Sol-1\n",
    "df.at['t6', 'school_code'] = 's005'   # at - Access a single value for a row/column label pair.\n",
    "df.at['t6', 'date_of_birth'] = '16/05/2002' \n",
    "df"
   ]
  },
  {
   "cell_type": "code",
   "execution_count": 20,
   "metadata": {
    "colab": {
     "base_uri": "https://localhost:8080/",
     "height": 237
    },
    "colab_type": "code",
    "executionInfo": {
     "elapsed": 1266,
     "status": "ok",
     "timestamp": 1600513169712,
     "user": {
      "displayName": "Eswar Poluri",
      "photoUrl": "https://lh3.googleusercontent.com/a-/AOh14Gj2twFS3_zJQCgs07nkQBHCl4KgQC_Bh298yJkdjOg=s64",
      "userId": "17891988430079875549"
     },
     "user_tz": -330
    },
    "id": "H4pCYlfLBCua",
    "outputId": "3c218289-0388-4f63-cf02-82e98dbab2ff"
   },
   "outputs": [
    {
     "data": {
      "text/html": [
       "<div>\n",
       "<style scoped>\n",
       "    .dataframe tbody tr th:only-of-type {\n",
       "        vertical-align: middle;\n",
       "    }\n",
       "\n",
       "    .dataframe tbody tr th {\n",
       "        vertical-align: top;\n",
       "    }\n",
       "\n",
       "    .dataframe thead th {\n",
       "        text-align: right;\n",
       "    }\n",
       "</style>\n",
       "<table border=\"1\" class=\"dataframe\">\n",
       "  <thead>\n",
       "    <tr style=\"text-align: right;\">\n",
       "      <th></th>\n",
       "      <th>school_code</th>\n",
       "      <th>class</th>\n",
       "      <th>name</th>\n",
       "      <th>date_of_birth</th>\n",
       "      <th>weight</th>\n",
       "    </tr>\n",
       "  </thead>\n",
       "  <tbody>\n",
       "    <tr>\n",
       "      <th>t1</th>\n",
       "      <td>s001</td>\n",
       "      <td>V</td>\n",
       "      <td>Alberto Franco</td>\n",
       "      <td>15/05/2002</td>\n",
       "      <td>35</td>\n",
       "    </tr>\n",
       "    <tr>\n",
       "      <th>t2</th>\n",
       "      <td>s002</td>\n",
       "      <td>V</td>\n",
       "      <td>Gino Mcneill</td>\n",
       "      <td>17/05/2002</td>\n",
       "      <td>32</td>\n",
       "    </tr>\n",
       "    <tr>\n",
       "      <th>t3</th>\n",
       "      <td>s003</td>\n",
       "      <td>VI</td>\n",
       "      <td>Ryan Parkes</td>\n",
       "      <td>16/02/1999</td>\n",
       "      <td>33</td>\n",
       "    </tr>\n",
       "    <tr>\n",
       "      <th>t4</th>\n",
       "      <td>s001</td>\n",
       "      <td>VI</td>\n",
       "      <td>Eesha Hinton</td>\n",
       "      <td>25/09/1998</td>\n",
       "      <td>30</td>\n",
       "    </tr>\n",
       "    <tr>\n",
       "      <th>t5</th>\n",
       "      <td>s002</td>\n",
       "      <td>V</td>\n",
       "      <td>Gino Mcneill</td>\n",
       "      <td>11/05/2002</td>\n",
       "      <td>31</td>\n",
       "    </tr>\n",
       "    <tr>\n",
       "      <th>t6</th>\n",
       "      <td>s005</td>\n",
       "      <td>VI</td>\n",
       "      <td>David Parkes</td>\n",
       "      <td>16/05/2002</td>\n",
       "      <td>32</td>\n",
       "    </tr>\n",
       "  </tbody>\n",
       "</table>\n",
       "</div>"
      ],
      "text/plain": [
       "   school_code class            name date_of_birth  weight\n",
       "t1        s001     V  Alberto Franco    15/05/2002      35\n",
       "t2        s002     V    Gino Mcneill    17/05/2002      32\n",
       "t3        s003    VI     Ryan Parkes    16/02/1999      33\n",
       "t4        s001    VI    Eesha Hinton    25/09/1998      30\n",
       "t5        s002     V    Gino Mcneill    11/05/2002      31\n",
       "t6        s005    VI    David Parkes    16/05/2002      32"
      ]
     },
     "execution_count": 20,
     "metadata": {},
     "output_type": "execute_result"
    }
   ],
   "source": [
    "# Sol-2\n",
    "df.loc['t6', 'school_code'] = 's005'\n",
    "df"
   ]
  },
  {
   "cell_type": "markdown",
   "metadata": {
    "colab_type": "text",
    "id": "JfbDzjbypqqb"
   },
   "source": [
    "Q9. Write a Pandas program to convert index of a above dataframe into a column."
   ]
  },
  {
   "cell_type": "code",
   "execution_count": 21,
   "metadata": {
    "colab": {
     "base_uri": "https://localhost:8080/",
     "height": 237
    },
    "colab_type": "code",
    "executionInfo": {
     "elapsed": 1188,
     "status": "ok",
     "timestamp": 1600513529256,
     "user": {
      "displayName": "Eswar Poluri",
      "photoUrl": "https://lh3.googleusercontent.com/a-/AOh14Gj2twFS3_zJQCgs07nkQBHCl4KgQC_Bh298yJkdjOg=s64",
      "userId": "17891988430079875549"
     },
     "user_tz": -330
    },
    "id": "TNFyzDdYYAv7",
    "outputId": "50865b8c-eb1a-44f8-aef8-b3a2477c5418"
   },
   "outputs": [
    {
     "data": {
      "text/html": [
       "<div>\n",
       "<style scoped>\n",
       "    .dataframe tbody tr th:only-of-type {\n",
       "        vertical-align: middle;\n",
       "    }\n",
       "\n",
       "    .dataframe tbody tr th {\n",
       "        vertical-align: top;\n",
       "    }\n",
       "\n",
       "    .dataframe thead th {\n",
       "        text-align: right;\n",
       "    }\n",
       "</style>\n",
       "<table border=\"1\" class=\"dataframe\">\n",
       "  <thead>\n",
       "    <tr style=\"text-align: right;\">\n",
       "      <th></th>\n",
       "      <th>index</th>\n",
       "      <th>school_code</th>\n",
       "      <th>class</th>\n",
       "      <th>name</th>\n",
       "      <th>date_of_birth</th>\n",
       "      <th>weight</th>\n",
       "    </tr>\n",
       "  </thead>\n",
       "  <tbody>\n",
       "    <tr>\n",
       "      <th>0</th>\n",
       "      <td>t1</td>\n",
       "      <td>s001</td>\n",
       "      <td>V</td>\n",
       "      <td>Alberto Franco</td>\n",
       "      <td>15/05/2002</td>\n",
       "      <td>35</td>\n",
       "    </tr>\n",
       "    <tr>\n",
       "      <th>1</th>\n",
       "      <td>t2</td>\n",
       "      <td>s002</td>\n",
       "      <td>V</td>\n",
       "      <td>Gino Mcneill</td>\n",
       "      <td>17/05/2002</td>\n",
       "      <td>32</td>\n",
       "    </tr>\n",
       "    <tr>\n",
       "      <th>2</th>\n",
       "      <td>t3</td>\n",
       "      <td>s003</td>\n",
       "      <td>VI</td>\n",
       "      <td>Ryan Parkes</td>\n",
       "      <td>16/02/1999</td>\n",
       "      <td>33</td>\n",
       "    </tr>\n",
       "    <tr>\n",
       "      <th>3</th>\n",
       "      <td>t4</td>\n",
       "      <td>s001</td>\n",
       "      <td>VI</td>\n",
       "      <td>Eesha Hinton</td>\n",
       "      <td>25/09/1998</td>\n",
       "      <td>30</td>\n",
       "    </tr>\n",
       "    <tr>\n",
       "      <th>4</th>\n",
       "      <td>t5</td>\n",
       "      <td>s002</td>\n",
       "      <td>V</td>\n",
       "      <td>Gino Mcneill</td>\n",
       "      <td>11/05/2002</td>\n",
       "      <td>31</td>\n",
       "    </tr>\n",
       "    <tr>\n",
       "      <th>5</th>\n",
       "      <td>t6</td>\n",
       "      <td>s005</td>\n",
       "      <td>VI</td>\n",
       "      <td>David Parkes</td>\n",
       "      <td>16/05/2002</td>\n",
       "      <td>32</td>\n",
       "    </tr>\n",
       "  </tbody>\n",
       "</table>\n",
       "</div>"
      ],
      "text/plain": [
       "  index school_code class            name date_of_birth  weight\n",
       "0    t1        s001     V  Alberto Franco    15/05/2002      35\n",
       "1    t2        s002     V    Gino Mcneill    17/05/2002      32\n",
       "2    t3        s003    VI     Ryan Parkes    16/02/1999      33\n",
       "3    t4        s001    VI    Eesha Hinton    25/09/1998      30\n",
       "4    t5        s002     V    Gino Mcneill    11/05/2002      31\n",
       "5    t6        s005    VI    David Parkes    16/05/2002      32"
      ]
     },
     "execution_count": 21,
     "metadata": {},
     "output_type": "execute_result"
    }
   ],
   "source": [
    "# ** Eventhough drop default is false, it is changing to True when used with inplace=True\n",
    "df.reset_index(level=0, inplace=True, drop=False) \n",
    "df"
   ]
  },
  {
   "cell_type": "markdown",
   "metadata": {
    "colab_type": "text",
    "id": "88ReMcVxp0ke"
   },
   "source": [
    "Q10. Write a Pandas program \n",
    "\n",
    "a. to set a multilevel index of t_id, school_code, class to the given dataframe and then\n",
    "\n",
    "b. convert 1st and 3rd levels in the index into columns from a multiple level of index frame."
   ]
  },
  {
   "cell_type": "code",
   "execution_count": 22,
   "metadata": {
    "colab": {
     "base_uri": "https://localhost:8080/",
     "height": 237
    },
    "colab_type": "code",
    "executionInfo": {
     "elapsed": 1370,
     "status": "ok",
     "timestamp": 1600514025653,
     "user": {
      "displayName": "Eswar Poluri",
      "photoUrl": "https://lh3.googleusercontent.com/a-/AOh14Gj2twFS3_zJQCgs07nkQBHCl4KgQC_Bh298yJkdjOg=s64",
      "userId": "17891988430079875549"
     },
     "user_tz": -330
    },
    "id": "VlZm6frMYA7j",
    "outputId": "e8fcc82d-2664-4351-8733-69049275814a"
   },
   "outputs": [
    {
     "data": {
      "text/html": [
       "<div>\n",
       "<style scoped>\n",
       "    .dataframe tbody tr th:only-of-type {\n",
       "        vertical-align: middle;\n",
       "    }\n",
       "\n",
       "    .dataframe tbody tr th {\n",
       "        vertical-align: top;\n",
       "    }\n",
       "\n",
       "    .dataframe thead th {\n",
       "        text-align: right;\n",
       "    }\n",
       "</style>\n",
       "<table border=\"1\" class=\"dataframe\">\n",
       "  <thead>\n",
       "    <tr style=\"text-align: right;\">\n",
       "      <th></th>\n",
       "      <th>school_code</th>\n",
       "      <th>class</th>\n",
       "      <th>name</th>\n",
       "      <th>date_of_birth</th>\n",
       "      <th>weight</th>\n",
       "      <th>t_id</th>\n",
       "    </tr>\n",
       "  </thead>\n",
       "  <tbody>\n",
       "    <tr>\n",
       "      <th>0</th>\n",
       "      <td>s001</td>\n",
       "      <td>V</td>\n",
       "      <td>Alberto Franco</td>\n",
       "      <td>15/05/2002</td>\n",
       "      <td>35</td>\n",
       "      <td>t1</td>\n",
       "    </tr>\n",
       "    <tr>\n",
       "      <th>1</th>\n",
       "      <td>s002</td>\n",
       "      <td>V</td>\n",
       "      <td>Gino Mcneill</td>\n",
       "      <td>17/05/2002</td>\n",
       "      <td>32</td>\n",
       "      <td>t2</td>\n",
       "    </tr>\n",
       "    <tr>\n",
       "      <th>2</th>\n",
       "      <td>s003</td>\n",
       "      <td>VI</td>\n",
       "      <td>Ryan Parkes</td>\n",
       "      <td>16/02/1999</td>\n",
       "      <td>33</td>\n",
       "      <td>t3</td>\n",
       "    </tr>\n",
       "    <tr>\n",
       "      <th>3</th>\n",
       "      <td>s001</td>\n",
       "      <td>VI</td>\n",
       "      <td>Eesha Hinton</td>\n",
       "      <td>25/09/1998</td>\n",
       "      <td>30</td>\n",
       "      <td>t4</td>\n",
       "    </tr>\n",
       "    <tr>\n",
       "      <th>4</th>\n",
       "      <td>s002</td>\n",
       "      <td>V</td>\n",
       "      <td>Gino Mcneill</td>\n",
       "      <td>11/05/2002</td>\n",
       "      <td>31</td>\n",
       "      <td>t5</td>\n",
       "    </tr>\n",
       "    <tr>\n",
       "      <th>5</th>\n",
       "      <td>s004</td>\n",
       "      <td>VI</td>\n",
       "      <td>David Parkes</td>\n",
       "      <td>15/09/1997</td>\n",
       "      <td>32</td>\n",
       "      <td>t6</td>\n",
       "    </tr>\n",
       "  </tbody>\n",
       "</table>\n",
       "</div>"
      ],
      "text/plain": [
       "  school_code class            name date_of_birth  weight t_id\n",
       "0        s001     V  Alberto Franco    15/05/2002      35   t1\n",
       "1        s002     V    Gino Mcneill    17/05/2002      32   t2\n",
       "2        s003    VI     Ryan Parkes    16/02/1999      33   t3\n",
       "3        s001    VI    Eesha Hinton    25/09/1998      30   t4\n",
       "4        s002     V    Gino Mcneill    11/05/2002      31   t5\n",
       "5        s004    VI    David Parkes    15/09/1997      32   t6"
      ]
     },
     "execution_count": 22,
     "metadata": {},
     "output_type": "execute_result"
    }
   ],
   "source": [
    "df = pd.DataFrame({\n",
    "    'school_code': ['s001','s002','s003','s001','s002','s004'],\n",
    "    'class': ['V', 'V', 'VI', 'VI', 'V', 'VI'],\n",
    "    'name': ['Alberto Franco','Gino Mcneill','Ryan Parkes', 'Eesha Hinton', 'Gino Mcneill', 'David Parkes'],\n",
    "    'date_of_birth': ['15/05/2002','17/05/2002','16/02/1999','25/09/1998','11/05/2002','15/09/1997'],\n",
    "    'weight': [35, 32, 33, 30, 31, 32],\n",
    "    't_id': ['t1', 't2', 't3', 't4', 't5', 't6']})\n",
    "df"
   ]
  },
  {
   "cell_type": "code",
   "execution_count": 23,
   "metadata": {
    "colab": {},
    "colab_type": "code",
    "executionInfo": {
     "elapsed": 1704,
     "status": "ok",
     "timestamp": 1600514088013,
     "user": {
      "displayName": "Eswar Poluri",
      "photoUrl": "https://lh3.googleusercontent.com/a-/AOh14Gj2twFS3_zJQCgs07nkQBHCl4KgQC_Bh298yJkdjOg=s64",
      "userId": "17891988430079875549"
     },
     "user_tz": -330
    },
    "id": "0HEBLUYRYA-P"
   },
   "outputs": [],
   "source": [
    "df1=df.set_index(['t_id', 'school_code', 'class'])"
   ]
  },
  {
   "cell_type": "code",
   "execution_count": 24,
   "metadata": {
    "colab": {
     "base_uri": "https://localhost:8080/",
     "height": 268
    },
    "colab_type": "code",
    "executionInfo": {
     "elapsed": 1393,
     "status": "ok",
     "timestamp": 1600514088014,
     "user": {
      "displayName": "Eswar Poluri",
      "photoUrl": "https://lh3.googleusercontent.com/a-/AOh14Gj2twFS3_zJQCgs07nkQBHCl4KgQC_Bh298yJkdjOg=s64",
      "userId": "17891988430079875549"
     },
     "user_tz": -330
    },
    "id": "sn3rg6C4Ejd3",
    "outputId": "1f7abeaf-e0ac-495b-b051-b8075445696b"
   },
   "outputs": [
    {
     "data": {
      "text/html": [
       "<div>\n",
       "<style scoped>\n",
       "    .dataframe tbody tr th:only-of-type {\n",
       "        vertical-align: middle;\n",
       "    }\n",
       "\n",
       "    .dataframe tbody tr th {\n",
       "        vertical-align: top;\n",
       "    }\n",
       "\n",
       "    .dataframe thead th {\n",
       "        text-align: right;\n",
       "    }\n",
       "</style>\n",
       "<table border=\"1\" class=\"dataframe\">\n",
       "  <thead>\n",
       "    <tr style=\"text-align: right;\">\n",
       "      <th></th>\n",
       "      <th>t_id</th>\n",
       "      <th>class</th>\n",
       "      <th>name</th>\n",
       "      <th>date_of_birth</th>\n",
       "      <th>weight</th>\n",
       "    </tr>\n",
       "    <tr>\n",
       "      <th>school_code</th>\n",
       "      <th></th>\n",
       "      <th></th>\n",
       "      <th></th>\n",
       "      <th></th>\n",
       "      <th></th>\n",
       "    </tr>\n",
       "  </thead>\n",
       "  <tbody>\n",
       "    <tr>\n",
       "      <th>s001</th>\n",
       "      <td>t1</td>\n",
       "      <td>V</td>\n",
       "      <td>Alberto Franco</td>\n",
       "      <td>15/05/2002</td>\n",
       "      <td>35</td>\n",
       "    </tr>\n",
       "    <tr>\n",
       "      <th>s002</th>\n",
       "      <td>t2</td>\n",
       "      <td>V</td>\n",
       "      <td>Gino Mcneill</td>\n",
       "      <td>17/05/2002</td>\n",
       "      <td>32</td>\n",
       "    </tr>\n",
       "    <tr>\n",
       "      <th>s003</th>\n",
       "      <td>t3</td>\n",
       "      <td>VI</td>\n",
       "      <td>Ryan Parkes</td>\n",
       "      <td>16/02/1999</td>\n",
       "      <td>33</td>\n",
       "    </tr>\n",
       "    <tr>\n",
       "      <th>s001</th>\n",
       "      <td>t4</td>\n",
       "      <td>VI</td>\n",
       "      <td>Eesha Hinton</td>\n",
       "      <td>25/09/1998</td>\n",
       "      <td>30</td>\n",
       "    </tr>\n",
       "    <tr>\n",
       "      <th>s002</th>\n",
       "      <td>t5</td>\n",
       "      <td>V</td>\n",
       "      <td>Gino Mcneill</td>\n",
       "      <td>11/05/2002</td>\n",
       "      <td>31</td>\n",
       "    </tr>\n",
       "    <tr>\n",
       "      <th>s004</th>\n",
       "      <td>t6</td>\n",
       "      <td>VI</td>\n",
       "      <td>David Parkes</td>\n",
       "      <td>15/09/1997</td>\n",
       "      <td>32</td>\n",
       "    </tr>\n",
       "  </tbody>\n",
       "</table>\n",
       "</div>"
      ],
      "text/plain": [
       "            t_id class            name date_of_birth  weight\n",
       "school_code                                                 \n",
       "s001          t1     V  Alberto Franco    15/05/2002      35\n",
       "s002          t2     V    Gino Mcneill    17/05/2002      32\n",
       "s003          t3    VI     Ryan Parkes    16/02/1999      33\n",
       "s001          t4    VI    Eesha Hinton    25/09/1998      30\n",
       "s002          t5     V    Gino Mcneill    11/05/2002      31\n",
       "s004          t6    VI    David Parkes    15/09/1997      32"
      ]
     },
     "execution_count": 24,
     "metadata": {},
     "output_type": "execute_result"
    }
   ],
   "source": [
    "df1.reset_index(level=['t_id', 'class']) \n",
    "# ** set & reset index can be done on multi index by passing a list."
   ]
  },
  {
   "cell_type": "markdown",
   "metadata": {
    "colab_type": "text",
    "id": "9yThupm3svqk"
   },
   "source": [
    "Q11.1 Write a Pandas program to check if a specified value t1, t11 exists in single column index dataframe."
   ]
  },
  {
   "cell_type": "code",
   "execution_count": 25,
   "metadata": {
    "colab": {
     "base_uri": "https://localhost:8080/",
     "height": 237
    },
    "colab_type": "code",
    "executionInfo": {
     "elapsed": 1147,
     "status": "ok",
     "timestamp": 1600514314806,
     "user": {
      "displayName": "Eswar Poluri",
      "photoUrl": "https://lh3.googleusercontent.com/a-/AOh14Gj2twFS3_zJQCgs07nkQBHCl4KgQC_Bh298yJkdjOg=s64",
      "userId": "17891988430079875549"
     },
     "user_tz": -330
    },
    "id": "XTXrXvpPYBJ8",
    "outputId": "fb555e5d-a592-4e12-e255-624ff17c6687"
   },
   "outputs": [
    {
     "data": {
      "text/html": [
       "<div>\n",
       "<style scoped>\n",
       "    .dataframe tbody tr th:only-of-type {\n",
       "        vertical-align: middle;\n",
       "    }\n",
       "\n",
       "    .dataframe tbody tr th {\n",
       "        vertical-align: top;\n",
       "    }\n",
       "\n",
       "    .dataframe thead th {\n",
       "        text-align: right;\n",
       "    }\n",
       "</style>\n",
       "<table border=\"1\" class=\"dataframe\">\n",
       "  <thead>\n",
       "    <tr style=\"text-align: right;\">\n",
       "      <th></th>\n",
       "      <th>school_code</th>\n",
       "      <th>class</th>\n",
       "      <th>name</th>\n",
       "      <th>date_of_birth</th>\n",
       "      <th>weight</th>\n",
       "    </tr>\n",
       "  </thead>\n",
       "  <tbody>\n",
       "    <tr>\n",
       "      <th>t1</th>\n",
       "      <td>s001</td>\n",
       "      <td>V</td>\n",
       "      <td>Alberto Franco</td>\n",
       "      <td>15/05/2002</td>\n",
       "      <td>35</td>\n",
       "    </tr>\n",
       "    <tr>\n",
       "      <th>t2</th>\n",
       "      <td>s002</td>\n",
       "      <td>V</td>\n",
       "      <td>Gino Mcneill</td>\n",
       "      <td>17/05/2002</td>\n",
       "      <td>32</td>\n",
       "    </tr>\n",
       "    <tr>\n",
       "      <th>t3</th>\n",
       "      <td>s003</td>\n",
       "      <td>VI</td>\n",
       "      <td>Ryan Parkes</td>\n",
       "      <td>16/02/1999</td>\n",
       "      <td>33</td>\n",
       "    </tr>\n",
       "    <tr>\n",
       "      <th>t4</th>\n",
       "      <td>s001</td>\n",
       "      <td>VI</td>\n",
       "      <td>Eesha Hinton</td>\n",
       "      <td>25/09/1998</td>\n",
       "      <td>30</td>\n",
       "    </tr>\n",
       "    <tr>\n",
       "      <th>t5</th>\n",
       "      <td>s002</td>\n",
       "      <td>V</td>\n",
       "      <td>Gino Mcneill</td>\n",
       "      <td>11/05/2002</td>\n",
       "      <td>31</td>\n",
       "    </tr>\n",
       "    <tr>\n",
       "      <th>t6</th>\n",
       "      <td>s004</td>\n",
       "      <td>VI</td>\n",
       "      <td>David Parkes</td>\n",
       "      <td>15/09/1997</td>\n",
       "      <td>32</td>\n",
       "    </tr>\n",
       "  </tbody>\n",
       "</table>\n",
       "</div>"
      ],
      "text/plain": [
       "   school_code class            name date_of_birth  weight\n",
       "t1        s001     V  Alberto Franco    15/05/2002      35\n",
       "t2        s002     V    Gino Mcneill    17/05/2002      32\n",
       "t3        s003    VI     Ryan Parkes    16/02/1999      33\n",
       "t4        s001    VI    Eesha Hinton    25/09/1998      30\n",
       "t5        s002     V    Gino Mcneill    11/05/2002      31\n",
       "t6        s004    VI    David Parkes    15/09/1997      32"
      ]
     },
     "execution_count": 25,
     "metadata": {},
     "output_type": "execute_result"
    }
   ],
   "source": [
    "df = pd.DataFrame({\n",
    "    'school_code': ['s001','s002','s003','s001','s002','s004'],\n",
    "    'class': ['V', 'V', 'VI', 'VI', 'V', 'VI'],\n",
    "    'name': ['Alberto Franco','Gino Mcneill','Ryan Parkes', 'Eesha Hinton', 'Gino Mcneill', 'David Parkes'],\n",
    "    'date_of_birth': ['15/05/2002','17/05/2002','16/02/1999','25/09/1998','11/05/2002','15/09/1997'],\n",
    "    'weight': [35, 32, 33, 30, 31, 32]},\n",
    "     index =  ['t1', 't2', 't3', 't4', 't5', 't6'])\n",
    "df"
   ]
  },
  {
   "cell_type": "code",
   "execution_count": 26,
   "metadata": {
    "colab": {
     "base_uri": "https://localhost:8080/",
     "height": 34
    },
    "colab_type": "code",
    "executionInfo": {
     "elapsed": 982,
     "status": "ok",
     "timestamp": 1600514315391,
     "user": {
      "displayName": "Eswar Poluri",
      "photoUrl": "https://lh3.googleusercontent.com/a-/AOh14Gj2twFS3_zJQCgs07nkQBHCl4KgQC_Bh298yJkdjOg=s64",
      "userId": "17891988430079875549"
     },
     "user_tz": -330
    },
    "id": "oMSc7-CjFa60",
    "outputId": "8ca2aff9-38e1-460e-ae74-d59591453da2"
   },
   "outputs": [
    {
     "data": {
      "text/plain": [
       "True"
      ]
     },
     "execution_count": 26,
     "metadata": {},
     "output_type": "execute_result"
    }
   ],
   "source": [
    "'t1' in df.index"
   ]
  },
  {
   "cell_type": "code",
   "execution_count": 27,
   "metadata": {
    "colab": {
     "base_uri": "https://localhost:8080/",
     "height": 34
    },
    "colab_type": "code",
    "executionInfo": {
     "elapsed": 1425,
     "status": "ok",
     "timestamp": 1600514317867,
     "user": {
      "displayName": "Eswar Poluri",
      "photoUrl": "https://lh3.googleusercontent.com/a-/AOh14Gj2twFS3_zJQCgs07nkQBHCl4KgQC_Bh298yJkdjOg=s64",
      "userId": "17891988430079875549"
     },
     "user_tz": -330
    },
    "id": "KRxA-GKgFgGJ",
    "outputId": "c4ae7738-bfdd-4cc7-86c8-3b11416244b7"
   },
   "outputs": [
    {
     "data": {
      "text/plain": [
       "False"
      ]
     },
     "execution_count": 27,
     "metadata": {},
     "output_type": "execute_result"
    }
   ],
   "source": [
    "'t11' in df.index"
   ]
  },
  {
   "cell_type": "markdown",
   "metadata": {
    "colab_type": "text",
    "id": "FeD_MI3Xt9xW"
   },
   "source": [
    "Q11.2 Write a Pandas program to check if a specified value t4 exists in multiple column index dataframe."
   ]
  },
  {
   "cell_type": "code",
   "execution_count": 28,
   "metadata": {
    "colab": {
     "base_uri": "https://localhost:8080/",
     "height": 268
    },
    "colab_type": "code",
    "executionInfo": {
     "elapsed": 1156,
     "status": "ok",
     "timestamp": 1600474774838,
     "user": {
      "displayName": "Eswar Poluri",
      "photoUrl": "https://lh3.googleusercontent.com/a-/AOh14Gj2twFS3_zJQCgs07nkQBHCl4KgQC_Bh298yJkdjOg=s64",
      "userId": "17891988430079875549"
     },
     "user_tz": -330
    },
    "id": "ldOwbW_8YBPa",
    "outputId": "9fa451f8-ccd3-47de-c84c-f54cf9e138ff"
   },
   "outputs": [
    {
     "data": {
      "text/html": [
       "<div>\n",
       "<style scoped>\n",
       "    .dataframe tbody tr th:only-of-type {\n",
       "        vertical-align: middle;\n",
       "    }\n",
       "\n",
       "    .dataframe tbody tr th {\n",
       "        vertical-align: top;\n",
       "    }\n",
       "\n",
       "    .dataframe thead th {\n",
       "        text-align: right;\n",
       "    }\n",
       "</style>\n",
       "<table border=\"1\" class=\"dataframe\">\n",
       "  <thead>\n",
       "    <tr style=\"text-align: right;\">\n",
       "      <th></th>\n",
       "      <th></th>\n",
       "      <th></th>\n",
       "      <th>name</th>\n",
       "      <th>date_of_birth</th>\n",
       "      <th>weight</th>\n",
       "    </tr>\n",
       "    <tr>\n",
       "      <th>t_id</th>\n",
       "      <th>school_code</th>\n",
       "      <th>class</th>\n",
       "      <th></th>\n",
       "      <th></th>\n",
       "      <th></th>\n",
       "    </tr>\n",
       "  </thead>\n",
       "  <tbody>\n",
       "    <tr>\n",
       "      <th>t1</th>\n",
       "      <th>s001</th>\n",
       "      <th>V</th>\n",
       "      <td>Alberto Franco</td>\n",
       "      <td>15/05/2002</td>\n",
       "      <td>35</td>\n",
       "    </tr>\n",
       "    <tr>\n",
       "      <th>t2</th>\n",
       "      <th>s002</th>\n",
       "      <th>V</th>\n",
       "      <td>Gino Mcneill</td>\n",
       "      <td>17/05/2002</td>\n",
       "      <td>32</td>\n",
       "    </tr>\n",
       "    <tr>\n",
       "      <th>t3</th>\n",
       "      <th>s003</th>\n",
       "      <th>VI</th>\n",
       "      <td>Ryan Parkes</td>\n",
       "      <td>16/02/1999</td>\n",
       "      <td>33</td>\n",
       "    </tr>\n",
       "    <tr>\n",
       "      <th>t4</th>\n",
       "      <th>s001</th>\n",
       "      <th>VI</th>\n",
       "      <td>Eesha Hinton</td>\n",
       "      <td>25/09/1998</td>\n",
       "      <td>30</td>\n",
       "    </tr>\n",
       "    <tr>\n",
       "      <th>t5</th>\n",
       "      <th>s002</th>\n",
       "      <th>V</th>\n",
       "      <td>Gino Mcneill</td>\n",
       "      <td>11/05/2002</td>\n",
       "      <td>31</td>\n",
       "    </tr>\n",
       "    <tr>\n",
       "      <th>t6</th>\n",
       "      <th>s004</th>\n",
       "      <th>VI</th>\n",
       "      <td>David Parkes</td>\n",
       "      <td>15/09/1997</td>\n",
       "      <td>32</td>\n",
       "    </tr>\n",
       "  </tbody>\n",
       "</table>\n",
       "</div>"
      ],
      "text/plain": [
       "                                  name date_of_birth  weight\n",
       "t_id school_code class                                      \n",
       "t1   s001        V      Alberto Franco    15/05/2002      35\n",
       "t2   s002        V        Gino Mcneill    17/05/2002      32\n",
       "t3   s003        VI        Ryan Parkes    16/02/1999      33\n",
       "t4   s001        VI       Eesha Hinton    25/09/1998      30\n",
       "t5   s002        V        Gino Mcneill    11/05/2002      31\n",
       "t6   s004        VI       David Parkes    15/09/1997      32"
      ]
     },
     "execution_count": 28,
     "metadata": {},
     "output_type": "execute_result"
    }
   ],
   "source": [
    "df = pd.DataFrame({\n",
    "    'school_code': ['s001','s002','s003','s001','s002','s004'],\n",
    "    'class': ['V', 'V', 'VI', 'VI', 'V', 'VI'],\n",
    "    'name': ['Alberto Franco','Gino Mcneill','Ryan Parkes', 'Eesha Hinton', 'Gino Mcneill', 'David Parkes'],\n",
    "    'date_of_birth': ['15/05/2002','17/05/2002','16/02/1999','25/09/1998','11/05/2002','15/09/1997'],\n",
    "    'weight': [35, 32, 33, 30, 31, 32],\n",
    "    't_id': ['t1', 't2', 't3', 't4', 't5', 't6']})\n",
    "df1 = df.set_index(['t_id', 'school_code', 'class'])\n",
    "df1"
   ]
  },
  {
   "cell_type": "code",
   "execution_count": 29,
   "metadata": {
    "colab": {
     "base_uri": "https://localhost:8080/",
     "height": 69
    },
    "colab_type": "code",
    "executionInfo": {
     "elapsed": 1256,
     "status": "ok",
     "timestamp": 1600514356146,
     "user": {
      "displayName": "Eswar Poluri",
      "photoUrl": "https://lh3.googleusercontent.com/a-/AOh14Gj2twFS3_zJQCgs07nkQBHCl4KgQC_Bh298yJkdjOg=s64",
      "userId": "17891988430079875549"
     },
     "user_tz": -330
    },
    "id": "3usJybUcFrBm",
    "outputId": "d7ef88a4-715f-4115-d137-fc59aea71078"
   },
   "outputs": [
    {
     "name": "stdout",
     "output_type": "stream",
     "text": [
      "True\n",
      "True\n",
      "False\n",
      "False\n"
     ]
    }
   ],
   "source": [
    "print('t4' in df1.index) # checking in all levels of index\n",
    "\n",
    "# checking in at each level\n",
    "print('t4' in df1.index.levels[0])\n",
    "print('t4' in df1.index.levels[1])\n",
    "print('t4' in df1.index.levels[2])\n"
   ]
  },
  {
   "cell_type": "markdown",
   "metadata": {
    "colab_type": "text",
    "id": "nR6LHjGvu5jE"
   },
   "source": [
    "Q12. Write a Pandas program to construct a series of 8 values using random numpy array and set MultiIndex levels as the column and index using sales_arrays.\n",
    "\n",
    "Sample Output:\n",
    "\n",
    "    sale   city \n",
    "    sale1  city1   -1.533805\n",
    "          city2   -1.546815\n",
    "    sale2  city1    0.018307\n",
    "          city2   -0.210834\n",
    "    sale3  city1    0.903430\n",
    "          city2    1.269479\n",
    "    sale4  city1   -0.550486\n",
    "          city2    1.738659"
   ]
  },
  {
   "cell_type": "code",
   "execution_count": 30,
   "metadata": {
    "colab": {
     "base_uri": "https://localhost:8080/",
     "height": 190
    },
    "colab_type": "code",
    "executionInfo": {
     "elapsed": 1457,
     "status": "ok",
     "timestamp": 1600514857715,
     "user": {
      "displayName": "Eswar Poluri",
      "photoUrl": "https://lh3.googleusercontent.com/a-/AOh14Gj2twFS3_zJQCgs07nkQBHCl4KgQC_Bh298yJkdjOg=s64",
      "userId": "17891988430079875549"
     },
     "user_tz": -330
    },
    "id": "VJlUN8IfYBVO",
    "outputId": "dfa35763-3b55-460e-d003-9332c8129c40"
   },
   "outputs": [
    {
     "data": {
      "text/plain": [
       "sale   city \n",
       "sale1  city1   -1.774021\n",
       "       city2    0.683579\n",
       "sale2  city1    0.496914\n",
       "       city2    2.275370\n",
       "sale3  city1   -1.024598\n",
       "       city2   -1.246518\n",
       "sale4  city1    1.422862\n",
       "       city2    0.213137\n",
       "dtype: float64"
      ]
     },
     "execution_count": 30,
     "metadata": {},
     "output_type": "execute_result"
    }
   ],
   "source": [
    "sales_arrays = [['sale1', 'sale1', 'sale2', 'sale2', 'sale3', 'sale3', 'sale4', 'sale4'],\n",
    "          ['city1', 'city2', 'city1', 'city2', 'city1', 'city2', 'city1', 'city2']]\n",
    "\n",
    "sales_tuples = list(zip(*sales_arrays))\n",
    "sales_index = pd.MultiIndex.from_tuples(sales_tuples, names=['sale', 'city'])\n",
    "s = pd.Series(np.random.randn(8), index = sales_index)\n",
    "s"
   ]
  },
  {
   "cell_type": "markdown",
   "metadata": {
    "colab_type": "text",
    "id": "6AibQh0Nw0d0"
   },
   "source": [
    "Q13. Write a Pandas program to construct a DataFrame using random numpy array and set MultiIndex levels as the column and index.\n",
    "\n",
    "Sample Output:\n",
    "\n",
    "                        0         1         2         3         4\n",
    "    sale  city                                                   \n",
    "    sale1 city1 -1.020550 -0.809408  0.911425  0.059023  0.495317\n",
    "          city2 -1.208514  0.039022  0.088428 -0.899280  1.722276\n",
    "    sale2 city1  0.510427 -0.396097 -2.076445  1.080586  1.268495\n",
    "          city2 -1.158077 -0.892657  1.221519 -0.802645  0.095342\n",
    "    sale3 city1  1.535934  0.432627 -1.307655  0.031096 -0.060850\n",
    "          city2  0.601156  0.202661 -1.469705 -1.787885  1.285210\n",
    "    sale4 city1  0.455104  0.395752  0.115163  1.188649  0.415450\n",
    "          city2  0.218054 -0.722397  0.590288 -1.347249 -0.223215"
   ]
  },
  {
   "cell_type": "code",
   "execution_count": 31,
   "metadata": {
    "colab": {
     "base_uri": "https://localhost:8080/",
     "height": 331
    },
    "colab_type": "code",
    "executionInfo": {
     "elapsed": 1520,
     "status": "ok",
     "timestamp": 1600516584106,
     "user": {
      "displayName": "Eswar Poluri",
      "photoUrl": "https://lh3.googleusercontent.com/a-/AOh14Gj2twFS3_zJQCgs07nkQBHCl4KgQC_Bh298yJkdjOg=s64",
      "userId": "17891988430079875549"
     },
     "user_tz": -330
    },
    "id": "uSTQKm7SYBbu",
    "outputId": "2b86ff0e-14b7-43b4-cf47-ccef4dc23813"
   },
   "outputs": [
    {
     "data": {
      "text/html": [
       "<div>\n",
       "<style scoped>\n",
       "    .dataframe tbody tr th:only-of-type {\n",
       "        vertical-align: middle;\n",
       "    }\n",
       "\n",
       "    .dataframe tbody tr th {\n",
       "        vertical-align: top;\n",
       "    }\n",
       "\n",
       "    .dataframe thead th {\n",
       "        text-align: right;\n",
       "    }\n",
       "</style>\n",
       "<table border=\"1\" class=\"dataframe\">\n",
       "  <thead>\n",
       "    <tr style=\"text-align: right;\">\n",
       "      <th></th>\n",
       "      <th></th>\n",
       "      <th>0</th>\n",
       "      <th>1</th>\n",
       "      <th>2</th>\n",
       "      <th>3</th>\n",
       "      <th>4</th>\n",
       "    </tr>\n",
       "    <tr>\n",
       "      <th>sale</th>\n",
       "      <th>city</th>\n",
       "      <th></th>\n",
       "      <th></th>\n",
       "      <th></th>\n",
       "      <th></th>\n",
       "      <th></th>\n",
       "    </tr>\n",
       "  </thead>\n",
       "  <tbody>\n",
       "    <tr>\n",
       "      <th rowspan=\"2\" valign=\"top\">sale1</th>\n",
       "      <th>city1</th>\n",
       "      <td>0.255030</td>\n",
       "      <td>0.607809</td>\n",
       "      <td>1.690995</td>\n",
       "      <td>-0.771513</td>\n",
       "      <td>0.931271</td>\n",
       "    </tr>\n",
       "    <tr>\n",
       "      <th>city2</th>\n",
       "      <td>0.376048</td>\n",
       "      <td>-1.116930</td>\n",
       "      <td>-0.461052</td>\n",
       "      <td>0.963418</td>\n",
       "      <td>0.869431</td>\n",
       "    </tr>\n",
       "    <tr>\n",
       "      <th rowspan=\"2\" valign=\"top\">sale2</th>\n",
       "      <th>city1</th>\n",
       "      <td>0.716944</td>\n",
       "      <td>-0.867346</td>\n",
       "      <td>-0.224485</td>\n",
       "      <td>-2.645468</td>\n",
       "      <td>0.318142</td>\n",
       "    </tr>\n",
       "    <tr>\n",
       "      <th>city2</th>\n",
       "      <td>-0.109140</td>\n",
       "      <td>0.554530</td>\n",
       "      <td>-0.550075</td>\n",
       "      <td>-0.857442</td>\n",
       "      <td>-1.166355</td>\n",
       "    </tr>\n",
       "    <tr>\n",
       "      <th rowspan=\"2\" valign=\"top\">sale3</th>\n",
       "      <th>city1</th>\n",
       "      <td>0.174734</td>\n",
       "      <td>1.232789</td>\n",
       "      <td>0.419472</td>\n",
       "      <td>1.005888</td>\n",
       "      <td>-0.791649</td>\n",
       "    </tr>\n",
       "    <tr>\n",
       "      <th>city2</th>\n",
       "      <td>2.393727</td>\n",
       "      <td>-0.236061</td>\n",
       "      <td>-2.510629</td>\n",
       "      <td>1.317343</td>\n",
       "      <td>1.032973</td>\n",
       "    </tr>\n",
       "    <tr>\n",
       "      <th rowspan=\"2\" valign=\"top\">sale4</th>\n",
       "      <th>city1</th>\n",
       "      <td>0.237944</td>\n",
       "      <td>1.176823</td>\n",
       "      <td>0.104505</td>\n",
       "      <td>2.909946</td>\n",
       "      <td>-0.333183</td>\n",
       "    </tr>\n",
       "    <tr>\n",
       "      <th>city2</th>\n",
       "      <td>-0.740141</td>\n",
       "      <td>1.639670</td>\n",
       "      <td>-0.444269</td>\n",
       "      <td>0.675520</td>\n",
       "      <td>0.619749</td>\n",
       "    </tr>\n",
       "  </tbody>\n",
       "</table>\n",
       "</div>"
      ],
      "text/plain": [
       "                    0         1         2         3         4\n",
       "sale  city                                                   \n",
       "sale1 city1  0.255030  0.607809  1.690995 -0.771513  0.931271\n",
       "      city2  0.376048 -1.116930 -0.461052  0.963418  0.869431\n",
       "sale2 city1  0.716944 -0.867346 -0.224485 -2.645468  0.318142\n",
       "      city2 -0.109140  0.554530 -0.550075 -0.857442 -1.166355\n",
       "sale3 city1  0.174734  1.232789  0.419472  1.005888 -0.791649\n",
       "      city2  2.393727 -0.236061 -2.510629  1.317343  1.032973\n",
       "sale4 city1  0.237944  1.176823  0.104505  2.909946 -0.333183\n",
       "      city2 -0.740141  1.639670 -0.444269  0.675520  0.619749"
      ]
     },
     "execution_count": 31,
     "metadata": {},
     "output_type": "execute_result"
    }
   ],
   "source": [
    "sales_arrays = [['sale1', 'sale1', 'sale2', 'sale2', 'sale3', 'sale3', 'sale4', 'sale4'],\n",
    "          ['city1', 'city2', 'city1', 'city2', 'city1', 'city2', 'city1', 'city2']]\n",
    "\n",
    "sales_tuples = list(zip(*sales_arrays))\n",
    "sales_index = pd.MultiIndex.from_tuples(sales_tuples, names=['sale', 'city'])\n",
    "df = pd.DataFrame(np.random.randn(8, 5), index=sales_index)\n",
    "df"
   ]
  },
  {
   "cell_type": "markdown",
   "metadata": {
    "colab_type": "text",
    "id": "9MxdJNv_xnZe"
   },
   "source": [
    "Q14. Write a Pandas program to extract \n",
    "\n",
    "  a. a single row of index (sale2, city2) \n",
    "\n",
    "  b. rows in sale1 index\n",
    "\n",
    "  c. a specific value from a MultiIndex levels where row is ('sale1', 'city2') and column is 1 from above DataFrame."
   ]
  },
  {
   "cell_type": "code",
   "execution_count": 32,
   "metadata": {
    "colab": {
     "base_uri": "https://localhost:8080/",
     "height": 121
    },
    "colab_type": "code",
    "executionInfo": {
     "elapsed": 1525,
     "status": "ok",
     "timestamp": 1600516591454,
     "user": {
      "displayName": "Eswar Poluri",
      "photoUrl": "https://lh3.googleusercontent.com/a-/AOh14Gj2twFS3_zJQCgs07nkQBHCl4KgQC_Bh298yJkdjOg=s64",
      "userId": "17891988430079875549"
     },
     "user_tz": -330
    },
    "id": "CGn7bYbBYBxb",
    "outputId": "1038004c-e5d3-45e4-9784-974d4659f8fb"
   },
   "outputs": [
    {
     "data": {
      "text/plain": [
       "0   -0.109140\n",
       "1    0.554530\n",
       "2   -0.550075\n",
       "3   -0.857442\n",
       "4   -1.166355\n",
       "Name: (sale2, city2), dtype: float64"
      ]
     },
     "execution_count": 32,
     "metadata": {},
     "output_type": "execute_result"
    }
   ],
   "source": [
    "# Sol-1 - Extract a single row of index (sale2, city2)\n",
    "df.loc[('sale2', 'city2')]  #** multi index as pass as tuple while slicing DF"
   ]
  },
  {
   "cell_type": "code",
   "execution_count": 33,
   "metadata": {
    "colab": {
     "base_uri": "https://localhost:8080/",
     "height": 121
    },
    "colab_type": "code",
    "executionInfo": {
     "elapsed": 1241,
     "status": "ok",
     "timestamp": 1600516612578,
     "user": {
      "displayName": "Eswar Poluri",
      "photoUrl": "https://lh3.googleusercontent.com/a-/AOh14Gj2twFS3_zJQCgs07nkQBHCl4KgQC_Bh298yJkdjOg=s64",
      "userId": "17891988430079875549"
     },
     "user_tz": -330
    },
    "id": "yfVakAQWJQxG",
    "outputId": "57d45254-00f5-48ad-97c1-1e2005b49828"
   },
   "outputs": [
    {
     "data": {
      "text/plain": [
       "0   -0.109140\n",
       "1    0.554530\n",
       "2   -0.550075\n",
       "3   -0.857442\n",
       "4   -1.166355\n",
       "Name: (sale2, city2), dtype: float64"
      ]
     },
     "execution_count": 33,
     "metadata": {},
     "output_type": "execute_result"
    }
   ],
   "source": [
    "# Sol-2 - Extract a single row of index (sale2, city2)\n",
    "df.iloc[3]   #** while using with iloc row index is not tuple. its same as range index in normal DF"
   ]
  },
  {
   "cell_type": "code",
   "execution_count": 34,
   "metadata": {
    "colab": {
     "base_uri": "https://localhost:8080/",
     "height": 143
    },
    "colab_type": "code",
    "executionInfo": {
     "elapsed": 1275,
     "status": "ok",
     "timestamp": 1600517002345,
     "user": {
      "displayName": "Eswar Poluri",
      "photoUrl": "https://lh3.googleusercontent.com/a-/AOh14Gj2twFS3_zJQCgs07nkQBHCl4KgQC_Bh298yJkdjOg=s64",
      "userId": "17891988430079875549"
     },
     "user_tz": -330
    },
    "id": "KU72_KitPU09",
    "outputId": "466e3fea-cb52-4241-e220-7d0c663f6ac4"
   },
   "outputs": [
    {
     "data": {
      "text/html": [
       "<div>\n",
       "<style scoped>\n",
       "    .dataframe tbody tr th:only-of-type {\n",
       "        vertical-align: middle;\n",
       "    }\n",
       "\n",
       "    .dataframe tbody tr th {\n",
       "        vertical-align: top;\n",
       "    }\n",
       "\n",
       "    .dataframe thead th {\n",
       "        text-align: right;\n",
       "    }\n",
       "</style>\n",
       "<table border=\"1\" class=\"dataframe\">\n",
       "  <thead>\n",
       "    <tr style=\"text-align: right;\">\n",
       "      <th></th>\n",
       "      <th>0</th>\n",
       "      <th>1</th>\n",
       "      <th>2</th>\n",
       "      <th>3</th>\n",
       "      <th>4</th>\n",
       "    </tr>\n",
       "    <tr>\n",
       "      <th>city</th>\n",
       "      <th></th>\n",
       "      <th></th>\n",
       "      <th></th>\n",
       "      <th></th>\n",
       "      <th></th>\n",
       "    </tr>\n",
       "  </thead>\n",
       "  <tbody>\n",
       "    <tr>\n",
       "      <th>city1</th>\n",
       "      <td>0.255030</td>\n",
       "      <td>0.607809</td>\n",
       "      <td>1.690995</td>\n",
       "      <td>-0.771513</td>\n",
       "      <td>0.931271</td>\n",
       "    </tr>\n",
       "    <tr>\n",
       "      <th>city2</th>\n",
       "      <td>0.376048</td>\n",
       "      <td>-1.116930</td>\n",
       "      <td>-0.461052</td>\n",
       "      <td>0.963418</td>\n",
       "      <td>0.869431</td>\n",
       "    </tr>\n",
       "  </tbody>\n",
       "</table>\n",
       "</div>"
      ],
      "text/plain": [
       "              0         1         2         3         4\n",
       "city                                                   \n",
       "city1  0.255030  0.607809  1.690995 -0.771513  0.931271\n",
       "city2  0.376048 -1.116930 -0.461052  0.963418  0.869431"
      ]
     },
     "execution_count": 34,
     "metadata": {},
     "output_type": "execute_result"
    }
   ],
   "source": [
    "# Sol-1 # Extract rows in sale1 index - leve0\n",
    "df.loc['sale1']"
   ]
  },
  {
   "cell_type": "code",
   "execution_count": 35,
   "metadata": {
    "colab": {
     "base_uri": "https://localhost:8080/",
     "height": 143
    },
    "colab_type": "code",
    "executionInfo": {
     "elapsed": 1383,
     "status": "ok",
     "timestamp": 1600517354669,
     "user": {
      "displayName": "Eswar Poluri",
      "photoUrl": "https://lh3.googleusercontent.com/a-/AOh14Gj2twFS3_zJQCgs07nkQBHCl4KgQC_Bh298yJkdjOg=s64",
      "userId": "17891988430079875549"
     },
     "user_tz": -330
    },
    "id": "rCU6MlrbQnP3",
    "outputId": "cb79d435-a849-4265-df66-834f24f1ef51"
   },
   "outputs": [
    {
     "data": {
      "text/html": [
       "<div>\n",
       "<style scoped>\n",
       "    .dataframe tbody tr th:only-of-type {\n",
       "        vertical-align: middle;\n",
       "    }\n",
       "\n",
       "    .dataframe tbody tr th {\n",
       "        vertical-align: top;\n",
       "    }\n",
       "\n",
       "    .dataframe thead th {\n",
       "        text-align: right;\n",
       "    }\n",
       "</style>\n",
       "<table border=\"1\" class=\"dataframe\">\n",
       "  <thead>\n",
       "    <tr style=\"text-align: right;\">\n",
       "      <th></th>\n",
       "      <th></th>\n",
       "      <th>0</th>\n",
       "      <th>1</th>\n",
       "      <th>2</th>\n",
       "      <th>3</th>\n",
       "      <th>4</th>\n",
       "    </tr>\n",
       "    <tr>\n",
       "      <th>sale</th>\n",
       "      <th>city</th>\n",
       "      <th></th>\n",
       "      <th></th>\n",
       "      <th></th>\n",
       "      <th></th>\n",
       "      <th></th>\n",
       "    </tr>\n",
       "  </thead>\n",
       "  <tbody>\n",
       "    <tr>\n",
       "      <th rowspan=\"2\" valign=\"top\">sale1</th>\n",
       "      <th>city1</th>\n",
       "      <td>0.255030</td>\n",
       "      <td>0.607809</td>\n",
       "      <td>1.690995</td>\n",
       "      <td>-0.771513</td>\n",
       "      <td>0.931271</td>\n",
       "    </tr>\n",
       "    <tr>\n",
       "      <th>city2</th>\n",
       "      <td>0.376048</td>\n",
       "      <td>-1.116930</td>\n",
       "      <td>-0.461052</td>\n",
       "      <td>0.963418</td>\n",
       "      <td>0.869431</td>\n",
       "    </tr>\n",
       "  </tbody>\n",
       "</table>\n",
       "</div>"
      ],
      "text/plain": [
       "                    0         1         2         3         4\n",
       "sale  city                                                   \n",
       "sale1 city1  0.255030  0.607809  1.690995 -0.771513  0.931271\n",
       "      city2  0.376048 -1.116930 -0.461052  0.963418  0.869431"
      ]
     },
     "execution_count": 35,
     "metadata": {},
     "output_type": "execute_result"
    }
   ],
   "source": [
    "# Sol-2 # Extract rows in sale1 index\n",
    "df.iloc[[0,1]]"
   ]
  },
  {
   "cell_type": "code",
   "execution_count": 36,
   "metadata": {
    "colab": {
     "base_uri": "https://localhost:8080/",
     "height": 34
    },
    "colab_type": "code",
    "executionInfo": {
     "elapsed": 1188,
     "status": "ok",
     "timestamp": 1600517652895,
     "user": {
      "displayName": "Eswar Poluri",
      "photoUrl": "https://lh3.googleusercontent.com/a-/AOh14Gj2twFS3_zJQCgs07nkQBHCl4KgQC_Bh298yJkdjOg=s64",
      "userId": "17891988430079875549"
     },
     "user_tz": -330
    },
    "id": "y8Onna9YSR-2",
    "outputId": "7301c34d-a907-44e9-b4f4-d18affa3bc5a"
   },
   "outputs": [
    {
     "data": {
      "text/plain": [
       "-1.1169300665251023"
      ]
     },
     "execution_count": 36,
     "metadata": {},
     "output_type": "execute_result"
    }
   ],
   "source": [
    "# Extract a single value where row is ('sale1', 'city2') and column is 1\n",
    "df.loc[('sale1', 'city2'), 1]"
   ]
  },
  {
   "cell_type": "markdown",
   "metadata": {
    "colab_type": "text",
    "id": "Oxh8wsZbzKau"
   },
   "source": [
    "Q15. Write a Pandas program to \n",
    "\n",
    "  a. rename names of columns to col1 to col5 and \n",
    "  \n",
    "  b. specific labels of the row Index from [sale2, city2] to [S2, C2\"] in the above dataframe"
   ]
  },
  {
   "cell_type": "code",
   "execution_count": 37,
   "metadata": {
    "colab": {
     "base_uri": "https://localhost:8080/",
     "height": 331
    },
    "colab_type": "code",
    "executionInfo": {
     "elapsed": 1452,
     "status": "ok",
     "timestamp": 1600517978013,
     "user": {
      "displayName": "Eswar Poluri",
      "photoUrl": "https://lh3.googleusercontent.com/a-/AOh14Gj2twFS3_zJQCgs07nkQBHCl4KgQC_Bh298yJkdjOg=s64",
      "userId": "17891988430079875549"
     },
     "user_tz": -330
    },
    "id": "cucGYNFRYB26",
    "outputId": "d954c4c4-cc5e-4f5b-dbc4-136ed32ec81c"
   },
   "outputs": [
    {
     "data": {
      "text/html": [
       "<div>\n",
       "<style scoped>\n",
       "    .dataframe tbody tr th:only-of-type {\n",
       "        vertical-align: middle;\n",
       "    }\n",
       "\n",
       "    .dataframe tbody tr th {\n",
       "        vertical-align: top;\n",
       "    }\n",
       "\n",
       "    .dataframe thead th {\n",
       "        text-align: right;\n",
       "    }\n",
       "</style>\n",
       "<table border=\"1\" class=\"dataframe\">\n",
       "  <thead>\n",
       "    <tr style=\"text-align: right;\">\n",
       "      <th></th>\n",
       "      <th></th>\n",
       "      <th>0</th>\n",
       "      <th>1</th>\n",
       "      <th>2</th>\n",
       "      <th>3</th>\n",
       "      <th>4</th>\n",
       "    </tr>\n",
       "    <tr>\n",
       "      <th>sale</th>\n",
       "      <th>city</th>\n",
       "      <th></th>\n",
       "      <th></th>\n",
       "      <th></th>\n",
       "      <th></th>\n",
       "      <th></th>\n",
       "    </tr>\n",
       "  </thead>\n",
       "  <tbody>\n",
       "    <tr>\n",
       "      <th rowspan=\"2\" valign=\"top\">sale1</th>\n",
       "      <th>city1</th>\n",
       "      <td>0.255030</td>\n",
       "      <td>0.607809</td>\n",
       "      <td>1.690995</td>\n",
       "      <td>-0.771513</td>\n",
       "      <td>0.931271</td>\n",
       "    </tr>\n",
       "    <tr>\n",
       "      <th>city2</th>\n",
       "      <td>0.376048</td>\n",
       "      <td>-1.116930</td>\n",
       "      <td>-0.461052</td>\n",
       "      <td>0.963418</td>\n",
       "      <td>0.869431</td>\n",
       "    </tr>\n",
       "    <tr>\n",
       "      <th rowspan=\"2\" valign=\"top\">sale2</th>\n",
       "      <th>city1</th>\n",
       "      <td>0.716944</td>\n",
       "      <td>-0.867346</td>\n",
       "      <td>-0.224485</td>\n",
       "      <td>-2.645468</td>\n",
       "      <td>0.318142</td>\n",
       "    </tr>\n",
       "    <tr>\n",
       "      <th>city2</th>\n",
       "      <td>-0.109140</td>\n",
       "      <td>0.554530</td>\n",
       "      <td>-0.550075</td>\n",
       "      <td>-0.857442</td>\n",
       "      <td>-1.166355</td>\n",
       "    </tr>\n",
       "    <tr>\n",
       "      <th rowspan=\"2\" valign=\"top\">sale3</th>\n",
       "      <th>city1</th>\n",
       "      <td>0.174734</td>\n",
       "      <td>1.232789</td>\n",
       "      <td>0.419472</td>\n",
       "      <td>1.005888</td>\n",
       "      <td>-0.791649</td>\n",
       "    </tr>\n",
       "    <tr>\n",
       "      <th>city2</th>\n",
       "      <td>2.393727</td>\n",
       "      <td>-0.236061</td>\n",
       "      <td>-2.510629</td>\n",
       "      <td>1.317343</td>\n",
       "      <td>1.032973</td>\n",
       "    </tr>\n",
       "    <tr>\n",
       "      <th rowspan=\"2\" valign=\"top\">sale4</th>\n",
       "      <th>city1</th>\n",
       "      <td>0.237944</td>\n",
       "      <td>1.176823</td>\n",
       "      <td>0.104505</td>\n",
       "      <td>2.909946</td>\n",
       "      <td>-0.333183</td>\n",
       "    </tr>\n",
       "    <tr>\n",
       "      <th>city2</th>\n",
       "      <td>-0.740141</td>\n",
       "      <td>1.639670</td>\n",
       "      <td>-0.444269</td>\n",
       "      <td>0.675520</td>\n",
       "      <td>0.619749</td>\n",
       "    </tr>\n",
       "  </tbody>\n",
       "</table>\n",
       "</div>"
      ],
      "text/plain": [
       "                    0         1         2         3         4\n",
       "sale  city                                                   \n",
       "sale1 city1  0.255030  0.607809  1.690995 -0.771513  0.931271\n",
       "      city2  0.376048 -1.116930 -0.461052  0.963418  0.869431\n",
       "sale2 city1  0.716944 -0.867346 -0.224485 -2.645468  0.318142\n",
       "      city2 -0.109140  0.554530 -0.550075 -0.857442 -1.166355\n",
       "sale3 city1  0.174734  1.232789  0.419472  1.005888 -0.791649\n",
       "      city2  2.393727 -0.236061 -2.510629  1.317343  1.032973\n",
       "sale4 city1  0.237944  1.176823  0.104505  2.909946 -0.333183\n",
       "      city2 -0.740141  1.639670 -0.444269  0.675520  0.619749"
      ]
     },
     "execution_count": 37,
     "metadata": {},
     "output_type": "execute_result"
    }
   ],
   "source": [
    "df"
   ]
  },
  {
   "cell_type": "code",
   "execution_count": 38,
   "metadata": {
    "colab": {
     "base_uri": "https://localhost:8080/",
     "height": 331
    },
    "colab_type": "code",
    "executionInfo": {
     "elapsed": 1344,
     "status": "ok",
     "timestamp": 1600518133866,
     "user": {
      "displayName": "Eswar Poluri",
      "photoUrl": "https://lh3.googleusercontent.com/a-/AOh14Gj2twFS3_zJQCgs07nkQBHCl4KgQC_Bh298yJkdjOg=s64",
      "userId": "17891988430079875549"
     },
     "user_tz": -330
    },
    "id": "WiXYt3MdTnnk",
    "outputId": "4a32b400-73e0-45f5-c312-2378a4072d7c"
   },
   "outputs": [
    {
     "data": {
      "text/html": [
       "<div>\n",
       "<style scoped>\n",
       "    .dataframe tbody tr th:only-of-type {\n",
       "        vertical-align: middle;\n",
       "    }\n",
       "\n",
       "    .dataframe tbody tr th {\n",
       "        vertical-align: top;\n",
       "    }\n",
       "\n",
       "    .dataframe thead th {\n",
       "        text-align: right;\n",
       "    }\n",
       "</style>\n",
       "<table border=\"1\" class=\"dataframe\">\n",
       "  <thead>\n",
       "    <tr style=\"text-align: right;\">\n",
       "      <th></th>\n",
       "      <th></th>\n",
       "      <th>col1</th>\n",
       "      <th>col2</th>\n",
       "      <th>col3</th>\n",
       "      <th>col4</th>\n",
       "      <th>col5</th>\n",
       "    </tr>\n",
       "    <tr>\n",
       "      <th>sale</th>\n",
       "      <th>city</th>\n",
       "      <th></th>\n",
       "      <th></th>\n",
       "      <th></th>\n",
       "      <th></th>\n",
       "      <th></th>\n",
       "    </tr>\n",
       "  </thead>\n",
       "  <tbody>\n",
       "    <tr>\n",
       "      <th rowspan=\"2\" valign=\"top\">sale1</th>\n",
       "      <th>city1</th>\n",
       "      <td>0.255030</td>\n",
       "      <td>0.607809</td>\n",
       "      <td>1.690995</td>\n",
       "      <td>-0.771513</td>\n",
       "      <td>0.931271</td>\n",
       "    </tr>\n",
       "    <tr>\n",
       "      <th>city2</th>\n",
       "      <td>0.376048</td>\n",
       "      <td>-1.116930</td>\n",
       "      <td>-0.461052</td>\n",
       "      <td>0.963418</td>\n",
       "      <td>0.869431</td>\n",
       "    </tr>\n",
       "    <tr>\n",
       "      <th rowspan=\"2\" valign=\"top\">sale2</th>\n",
       "      <th>city1</th>\n",
       "      <td>0.716944</td>\n",
       "      <td>-0.867346</td>\n",
       "      <td>-0.224485</td>\n",
       "      <td>-2.645468</td>\n",
       "      <td>0.318142</td>\n",
       "    </tr>\n",
       "    <tr>\n",
       "      <th>city2</th>\n",
       "      <td>-0.109140</td>\n",
       "      <td>0.554530</td>\n",
       "      <td>-0.550075</td>\n",
       "      <td>-0.857442</td>\n",
       "      <td>-1.166355</td>\n",
       "    </tr>\n",
       "    <tr>\n",
       "      <th rowspan=\"2\" valign=\"top\">sale3</th>\n",
       "      <th>city1</th>\n",
       "      <td>0.174734</td>\n",
       "      <td>1.232789</td>\n",
       "      <td>0.419472</td>\n",
       "      <td>1.005888</td>\n",
       "      <td>-0.791649</td>\n",
       "    </tr>\n",
       "    <tr>\n",
       "      <th>city2</th>\n",
       "      <td>2.393727</td>\n",
       "      <td>-0.236061</td>\n",
       "      <td>-2.510629</td>\n",
       "      <td>1.317343</td>\n",
       "      <td>1.032973</td>\n",
       "    </tr>\n",
       "    <tr>\n",
       "      <th rowspan=\"2\" valign=\"top\">sale4</th>\n",
       "      <th>city1</th>\n",
       "      <td>0.237944</td>\n",
       "      <td>1.176823</td>\n",
       "      <td>0.104505</td>\n",
       "      <td>2.909946</td>\n",
       "      <td>-0.333183</td>\n",
       "    </tr>\n",
       "    <tr>\n",
       "      <th>city2</th>\n",
       "      <td>-0.740141</td>\n",
       "      <td>1.639670</td>\n",
       "      <td>-0.444269</td>\n",
       "      <td>0.675520</td>\n",
       "      <td>0.619749</td>\n",
       "    </tr>\n",
       "  </tbody>\n",
       "</table>\n",
       "</div>"
      ],
      "text/plain": [
       "                 col1      col2      col3      col4      col5\n",
       "sale  city                                                   \n",
       "sale1 city1  0.255030  0.607809  1.690995 -0.771513  0.931271\n",
       "      city2  0.376048 -1.116930 -0.461052  0.963418  0.869431\n",
       "sale2 city1  0.716944 -0.867346 -0.224485 -2.645468  0.318142\n",
       "      city2 -0.109140  0.554530 -0.550075 -0.857442 -1.166355\n",
       "sale3 city1  0.174734  1.232789  0.419472  1.005888 -0.791649\n",
       "      city2  2.393727 -0.236061 -2.510629  1.317343  1.032973\n",
       "sale4 city1  0.237944  1.176823  0.104505  2.909946 -0.333183\n",
       "      city2 -0.740141  1.639670 -0.444269  0.675520  0.619749"
      ]
     },
     "execution_count": 38,
     "metadata": {},
     "output_type": "execute_result"
    }
   ],
   "source": [
    "# Renaming the column names\n",
    "df.rename(columns={0: \"col1\", 1: \"col2\", 2:\"col3\", 3:\"col4\", 4:\"col5\"})"
   ]
  },
  {
   "cell_type": "code",
   "execution_count": 39,
   "metadata": {
    "colab": {
     "base_uri": "https://localhost:8080/",
     "height": 331
    },
    "colab_type": "code",
    "executionInfo": {
     "elapsed": 1131,
     "status": "ok",
     "timestamp": 1600518206315,
     "user": {
      "displayName": "Eswar Poluri",
      "photoUrl": "https://lh3.googleusercontent.com/a-/AOh14Gj2twFS3_zJQCgs07nkQBHCl4KgQC_Bh298yJkdjOg=s64",
      "userId": "17891988430079875549"
     },
     "user_tz": -330
    },
    "id": "milBiXN8UKsF",
    "outputId": "49d49f78-300e-48bf-9642-1497cc12a4c3"
   },
   "outputs": [
    {
     "data": {
      "text/html": [
       "<div>\n",
       "<style scoped>\n",
       "    .dataframe tbody tr th:only-of-type {\n",
       "        vertical-align: middle;\n",
       "    }\n",
       "\n",
       "    .dataframe tbody tr th {\n",
       "        vertical-align: top;\n",
       "    }\n",
       "\n",
       "    .dataframe thead th {\n",
       "        text-align: right;\n",
       "    }\n",
       "</style>\n",
       "<table border=\"1\" class=\"dataframe\">\n",
       "  <thead>\n",
       "    <tr style=\"text-align: right;\">\n",
       "      <th></th>\n",
       "      <th></th>\n",
       "      <th>0</th>\n",
       "      <th>1</th>\n",
       "      <th>2</th>\n",
       "      <th>3</th>\n",
       "      <th>4</th>\n",
       "    </tr>\n",
       "    <tr>\n",
       "      <th>sale</th>\n",
       "      <th>city</th>\n",
       "      <th></th>\n",
       "      <th></th>\n",
       "      <th></th>\n",
       "      <th></th>\n",
       "      <th></th>\n",
       "    </tr>\n",
       "  </thead>\n",
       "  <tbody>\n",
       "    <tr>\n",
       "      <th rowspan=\"2\" valign=\"top\">sale1</th>\n",
       "      <th>city1</th>\n",
       "      <td>0.255030</td>\n",
       "      <td>0.607809</td>\n",
       "      <td>1.690995</td>\n",
       "      <td>-0.771513</td>\n",
       "      <td>0.931271</td>\n",
       "    </tr>\n",
       "    <tr>\n",
       "      <th>C2</th>\n",
       "      <td>0.376048</td>\n",
       "      <td>-1.116930</td>\n",
       "      <td>-0.461052</td>\n",
       "      <td>0.963418</td>\n",
       "      <td>0.869431</td>\n",
       "    </tr>\n",
       "    <tr>\n",
       "      <th rowspan=\"2\" valign=\"top\">S2</th>\n",
       "      <th>city1</th>\n",
       "      <td>0.716944</td>\n",
       "      <td>-0.867346</td>\n",
       "      <td>-0.224485</td>\n",
       "      <td>-2.645468</td>\n",
       "      <td>0.318142</td>\n",
       "    </tr>\n",
       "    <tr>\n",
       "      <th>C2</th>\n",
       "      <td>-0.109140</td>\n",
       "      <td>0.554530</td>\n",
       "      <td>-0.550075</td>\n",
       "      <td>-0.857442</td>\n",
       "      <td>-1.166355</td>\n",
       "    </tr>\n",
       "    <tr>\n",
       "      <th rowspan=\"2\" valign=\"top\">sale3</th>\n",
       "      <th>city1</th>\n",
       "      <td>0.174734</td>\n",
       "      <td>1.232789</td>\n",
       "      <td>0.419472</td>\n",
       "      <td>1.005888</td>\n",
       "      <td>-0.791649</td>\n",
       "    </tr>\n",
       "    <tr>\n",
       "      <th>C2</th>\n",
       "      <td>2.393727</td>\n",
       "      <td>-0.236061</td>\n",
       "      <td>-2.510629</td>\n",
       "      <td>1.317343</td>\n",
       "      <td>1.032973</td>\n",
       "    </tr>\n",
       "    <tr>\n",
       "      <th rowspan=\"2\" valign=\"top\">sale4</th>\n",
       "      <th>city1</th>\n",
       "      <td>0.237944</td>\n",
       "      <td>1.176823</td>\n",
       "      <td>0.104505</td>\n",
       "      <td>2.909946</td>\n",
       "      <td>-0.333183</td>\n",
       "    </tr>\n",
       "    <tr>\n",
       "      <th>C2</th>\n",
       "      <td>-0.740141</td>\n",
       "      <td>1.639670</td>\n",
       "      <td>-0.444269</td>\n",
       "      <td>0.675520</td>\n",
       "      <td>0.619749</td>\n",
       "    </tr>\n",
       "  </tbody>\n",
       "</table>\n",
       "</div>"
      ],
      "text/plain": [
       "                    0         1         2         3         4\n",
       "sale  city                                                   \n",
       "sale1 city1  0.255030  0.607809  1.690995 -0.771513  0.931271\n",
       "      C2     0.376048 -1.116930 -0.461052  0.963418  0.869431\n",
       "S2    city1  0.716944 -0.867346 -0.224485 -2.645468  0.318142\n",
       "      C2    -0.109140  0.554530 -0.550075 -0.857442 -1.166355\n",
       "sale3 city1  0.174734  1.232789  0.419472  1.005888 -0.791649\n",
       "      C2     2.393727 -0.236061 -2.510629  1.317343  1.032973\n",
       "sale4 city1  0.237944  1.176823  0.104505  2.909946 -0.333183\n",
       "      C2    -0.740141  1.639670 -0.444269  0.675520  0.619749"
      ]
     },
     "execution_count": 39,
     "metadata": {},
     "output_type": "execute_result"
    }
   ],
   "source": [
    "# Renaming row [sale2, city2] to [S2, C2\"]\n",
    "df.rename(index={\"sale2\": \"S2\", \"city2\": \"C2\"})"
   ]
  },
  {
   "cell_type": "markdown",
   "metadata": {
    "colab_type": "text",
    "id": "LVv3zi030StN"
   },
   "source": [
    "Q16. Write a Pandas program \n",
    "\n",
    "  a. to sort a MultiIndex of a DataFrame. \n",
    "  \n",
    "  b. to sort on level-0 of index in the above dataframe."
   ]
  },
  {
   "cell_type": "code",
   "execution_count": 40,
   "metadata": {
    "colab": {
     "base_uri": "https://localhost:8080/",
     "height": 331
    },
    "colab_type": "code",
    "executionInfo": {
     "elapsed": 1365,
     "status": "ok",
     "timestamp": 1600518322675,
     "user": {
      "displayName": "Eswar Poluri",
      "photoUrl": "https://lh3.googleusercontent.com/a-/AOh14Gj2twFS3_zJQCgs07nkQBHCl4KgQC_Bh298yJkdjOg=s64",
      "userId": "17891988430079875549"
     },
     "user_tz": -330
    },
    "id": "_d2raZxJYB9L",
    "outputId": "7a67c939-92be-4451-af9a-0d67807fcfe2"
   },
   "outputs": [
    {
     "data": {
      "text/html": [
       "<div>\n",
       "<style scoped>\n",
       "    .dataframe tbody tr th:only-of-type {\n",
       "        vertical-align: middle;\n",
       "    }\n",
       "\n",
       "    .dataframe tbody tr th {\n",
       "        vertical-align: top;\n",
       "    }\n",
       "\n",
       "    .dataframe thead th {\n",
       "        text-align: right;\n",
       "    }\n",
       "</style>\n",
       "<table border=\"1\" class=\"dataframe\">\n",
       "  <thead>\n",
       "    <tr style=\"text-align: right;\">\n",
       "      <th></th>\n",
       "      <th></th>\n",
       "      <th>0</th>\n",
       "      <th>1</th>\n",
       "      <th>2</th>\n",
       "      <th>3</th>\n",
       "      <th>4</th>\n",
       "    </tr>\n",
       "    <tr>\n",
       "      <th>sale</th>\n",
       "      <th>city</th>\n",
       "      <th></th>\n",
       "      <th></th>\n",
       "      <th></th>\n",
       "      <th></th>\n",
       "      <th></th>\n",
       "    </tr>\n",
       "  </thead>\n",
       "  <tbody>\n",
       "    <tr>\n",
       "      <th rowspan=\"2\" valign=\"top\">sale1</th>\n",
       "      <th>city1</th>\n",
       "      <td>0.255030</td>\n",
       "      <td>0.607809</td>\n",
       "      <td>1.690995</td>\n",
       "      <td>-0.771513</td>\n",
       "      <td>0.931271</td>\n",
       "    </tr>\n",
       "    <tr>\n",
       "      <th>city2</th>\n",
       "      <td>0.376048</td>\n",
       "      <td>-1.116930</td>\n",
       "      <td>-0.461052</td>\n",
       "      <td>0.963418</td>\n",
       "      <td>0.869431</td>\n",
       "    </tr>\n",
       "    <tr>\n",
       "      <th rowspan=\"2\" valign=\"top\">sale2</th>\n",
       "      <th>city1</th>\n",
       "      <td>0.716944</td>\n",
       "      <td>-0.867346</td>\n",
       "      <td>-0.224485</td>\n",
       "      <td>-2.645468</td>\n",
       "      <td>0.318142</td>\n",
       "    </tr>\n",
       "    <tr>\n",
       "      <th>city2</th>\n",
       "      <td>-0.109140</td>\n",
       "      <td>0.554530</td>\n",
       "      <td>-0.550075</td>\n",
       "      <td>-0.857442</td>\n",
       "      <td>-1.166355</td>\n",
       "    </tr>\n",
       "    <tr>\n",
       "      <th rowspan=\"2\" valign=\"top\">sale3</th>\n",
       "      <th>city1</th>\n",
       "      <td>0.174734</td>\n",
       "      <td>1.232789</td>\n",
       "      <td>0.419472</td>\n",
       "      <td>1.005888</td>\n",
       "      <td>-0.791649</td>\n",
       "    </tr>\n",
       "    <tr>\n",
       "      <th>city2</th>\n",
       "      <td>2.393727</td>\n",
       "      <td>-0.236061</td>\n",
       "      <td>-2.510629</td>\n",
       "      <td>1.317343</td>\n",
       "      <td>1.032973</td>\n",
       "    </tr>\n",
       "    <tr>\n",
       "      <th rowspan=\"2\" valign=\"top\">sale4</th>\n",
       "      <th>city1</th>\n",
       "      <td>0.237944</td>\n",
       "      <td>1.176823</td>\n",
       "      <td>0.104505</td>\n",
       "      <td>2.909946</td>\n",
       "      <td>-0.333183</td>\n",
       "    </tr>\n",
       "    <tr>\n",
       "      <th>city2</th>\n",
       "      <td>-0.740141</td>\n",
       "      <td>1.639670</td>\n",
       "      <td>-0.444269</td>\n",
       "      <td>0.675520</td>\n",
       "      <td>0.619749</td>\n",
       "    </tr>\n",
       "  </tbody>\n",
       "</table>\n",
       "</div>"
      ],
      "text/plain": [
       "                    0         1         2         3         4\n",
       "sale  city                                                   \n",
       "sale1 city1  0.255030  0.607809  1.690995 -0.771513  0.931271\n",
       "      city2  0.376048 -1.116930 -0.461052  0.963418  0.869431\n",
       "sale2 city1  0.716944 -0.867346 -0.224485 -2.645468  0.318142\n",
       "      city2 -0.109140  0.554530 -0.550075 -0.857442 -1.166355\n",
       "sale3 city1  0.174734  1.232789  0.419472  1.005888 -0.791649\n",
       "      city2  2.393727 -0.236061 -2.510629  1.317343  1.032973\n",
       "sale4 city1  0.237944  1.176823  0.104505  2.909946 -0.333183\n",
       "      city2 -0.740141  1.639670 -0.444269  0.675520  0.619749"
      ]
     },
     "execution_count": 40,
     "metadata": {},
     "output_type": "execute_result"
    }
   ],
   "source": [
    "# to sort a MultiIndex of a DataFrame\n",
    "df.sort_index()"
   ]
  },
  {
   "cell_type": "code",
   "execution_count": 41,
   "metadata": {
    "colab": {
     "base_uri": "https://localhost:8080/",
     "height": 331
    },
    "colab_type": "code",
    "executionInfo": {
     "elapsed": 1414,
     "status": "ok",
     "timestamp": 1600518367275,
     "user": {
      "displayName": "Eswar Poluri",
      "photoUrl": "https://lh3.googleusercontent.com/a-/AOh14Gj2twFS3_zJQCgs07nkQBHCl4KgQC_Bh298yJkdjOg=s64",
      "userId": "17891988430079875549"
     },
     "user_tz": -330
    },
    "id": "WKaAccZUU8EU",
    "outputId": "a678f8cd-5ff0-4e52-900d-c516f7ac5b0e"
   },
   "outputs": [
    {
     "data": {
      "text/html": [
       "<div>\n",
       "<style scoped>\n",
       "    .dataframe tbody tr th:only-of-type {\n",
       "        vertical-align: middle;\n",
       "    }\n",
       "\n",
       "    .dataframe tbody tr th {\n",
       "        vertical-align: top;\n",
       "    }\n",
       "\n",
       "    .dataframe thead th {\n",
       "        text-align: right;\n",
       "    }\n",
       "</style>\n",
       "<table border=\"1\" class=\"dataframe\">\n",
       "  <thead>\n",
       "    <tr style=\"text-align: right;\">\n",
       "      <th></th>\n",
       "      <th></th>\n",
       "      <th>0</th>\n",
       "      <th>1</th>\n",
       "      <th>2</th>\n",
       "      <th>3</th>\n",
       "      <th>4</th>\n",
       "    </tr>\n",
       "    <tr>\n",
       "      <th>sale</th>\n",
       "      <th>city</th>\n",
       "      <th></th>\n",
       "      <th></th>\n",
       "      <th></th>\n",
       "      <th></th>\n",
       "      <th></th>\n",
       "    </tr>\n",
       "  </thead>\n",
       "  <tbody>\n",
       "    <tr>\n",
       "      <th rowspan=\"2\" valign=\"top\">sale1</th>\n",
       "      <th>city1</th>\n",
       "      <td>0.255030</td>\n",
       "      <td>0.607809</td>\n",
       "      <td>1.690995</td>\n",
       "      <td>-0.771513</td>\n",
       "      <td>0.931271</td>\n",
       "    </tr>\n",
       "    <tr>\n",
       "      <th>city2</th>\n",
       "      <td>0.376048</td>\n",
       "      <td>-1.116930</td>\n",
       "      <td>-0.461052</td>\n",
       "      <td>0.963418</td>\n",
       "      <td>0.869431</td>\n",
       "    </tr>\n",
       "    <tr>\n",
       "      <th rowspan=\"2\" valign=\"top\">sale2</th>\n",
       "      <th>city1</th>\n",
       "      <td>0.716944</td>\n",
       "      <td>-0.867346</td>\n",
       "      <td>-0.224485</td>\n",
       "      <td>-2.645468</td>\n",
       "      <td>0.318142</td>\n",
       "    </tr>\n",
       "    <tr>\n",
       "      <th>city2</th>\n",
       "      <td>-0.109140</td>\n",
       "      <td>0.554530</td>\n",
       "      <td>-0.550075</td>\n",
       "      <td>-0.857442</td>\n",
       "      <td>-1.166355</td>\n",
       "    </tr>\n",
       "    <tr>\n",
       "      <th rowspan=\"2\" valign=\"top\">sale3</th>\n",
       "      <th>city1</th>\n",
       "      <td>0.174734</td>\n",
       "      <td>1.232789</td>\n",
       "      <td>0.419472</td>\n",
       "      <td>1.005888</td>\n",
       "      <td>-0.791649</td>\n",
       "    </tr>\n",
       "    <tr>\n",
       "      <th>city2</th>\n",
       "      <td>2.393727</td>\n",
       "      <td>-0.236061</td>\n",
       "      <td>-2.510629</td>\n",
       "      <td>1.317343</td>\n",
       "      <td>1.032973</td>\n",
       "    </tr>\n",
       "    <tr>\n",
       "      <th rowspan=\"2\" valign=\"top\">sale4</th>\n",
       "      <th>city1</th>\n",
       "      <td>0.237944</td>\n",
       "      <td>1.176823</td>\n",
       "      <td>0.104505</td>\n",
       "      <td>2.909946</td>\n",
       "      <td>-0.333183</td>\n",
       "    </tr>\n",
       "    <tr>\n",
       "      <th>city2</th>\n",
       "      <td>-0.740141</td>\n",
       "      <td>1.639670</td>\n",
       "      <td>-0.444269</td>\n",
       "      <td>0.675520</td>\n",
       "      <td>0.619749</td>\n",
       "    </tr>\n",
       "  </tbody>\n",
       "</table>\n",
       "</div>"
      ],
      "text/plain": [
       "                    0         1         2         3         4\n",
       "sale  city                                                   \n",
       "sale1 city1  0.255030  0.607809  1.690995 -0.771513  0.931271\n",
       "      city2  0.376048 -1.116930 -0.461052  0.963418  0.869431\n",
       "sale2 city1  0.716944 -0.867346 -0.224485 -2.645468  0.318142\n",
       "      city2 -0.109140  0.554530 -0.550075 -0.857442 -1.166355\n",
       "sale3 city1  0.174734  1.232789  0.419472  1.005888 -0.791649\n",
       "      city2  2.393727 -0.236061 -2.510629  1.317343  1.032973\n",
       "sale4 city1  0.237944  1.176823  0.104505  2.909946 -0.333183\n",
       "      city2 -0.740141  1.639670 -0.444269  0.675520  0.619749"
      ]
     },
     "execution_count": 41,
     "metadata": {},
     "output_type": "execute_result"
    }
   ],
   "source": [
    "# Sol-1 Sort on Index level=0\n",
    "df.sort_index(level=0)"
   ]
  },
  {
   "cell_type": "code",
   "execution_count": 42,
   "metadata": {
    "colab": {
     "base_uri": "https://localhost:8080/",
     "height": 331
    },
    "colab_type": "code",
    "executionInfo": {
     "elapsed": 1591,
     "status": "ok",
     "timestamp": 1600518770343,
     "user": {
      "displayName": "Eswar Poluri",
      "photoUrl": "https://lh3.googleusercontent.com/a-/AOh14Gj2twFS3_zJQCgs07nkQBHCl4KgQC_Bh298yJkdjOg=s64",
      "userId": "17891988430079875549"
     },
     "user_tz": -330
    },
    "id": "W_reeoiBVa9-",
    "outputId": "9382276b-894a-4844-a67a-b19be7dd5e8b"
   },
   "outputs": [
    {
     "data": {
      "text/html": [
       "<div>\n",
       "<style scoped>\n",
       "    .dataframe tbody tr th:only-of-type {\n",
       "        vertical-align: middle;\n",
       "    }\n",
       "\n",
       "    .dataframe tbody tr th {\n",
       "        vertical-align: top;\n",
       "    }\n",
       "\n",
       "    .dataframe thead th {\n",
       "        text-align: right;\n",
       "    }\n",
       "</style>\n",
       "<table border=\"1\" class=\"dataframe\">\n",
       "  <thead>\n",
       "    <tr style=\"text-align: right;\">\n",
       "      <th></th>\n",
       "      <th></th>\n",
       "      <th>0</th>\n",
       "      <th>1</th>\n",
       "      <th>2</th>\n",
       "      <th>3</th>\n",
       "      <th>4</th>\n",
       "    </tr>\n",
       "    <tr>\n",
       "      <th>sale</th>\n",
       "      <th>city</th>\n",
       "      <th></th>\n",
       "      <th></th>\n",
       "      <th></th>\n",
       "      <th></th>\n",
       "      <th></th>\n",
       "    </tr>\n",
       "  </thead>\n",
       "  <tbody>\n",
       "    <tr>\n",
       "      <th rowspan=\"2\" valign=\"top\">sale1</th>\n",
       "      <th>city1</th>\n",
       "      <td>0.255030</td>\n",
       "      <td>0.607809</td>\n",
       "      <td>1.690995</td>\n",
       "      <td>-0.771513</td>\n",
       "      <td>0.931271</td>\n",
       "    </tr>\n",
       "    <tr>\n",
       "      <th>city2</th>\n",
       "      <td>0.376048</td>\n",
       "      <td>-1.116930</td>\n",
       "      <td>-0.461052</td>\n",
       "      <td>0.963418</td>\n",
       "      <td>0.869431</td>\n",
       "    </tr>\n",
       "    <tr>\n",
       "      <th rowspan=\"2\" valign=\"top\">sale2</th>\n",
       "      <th>city1</th>\n",
       "      <td>0.716944</td>\n",
       "      <td>-0.867346</td>\n",
       "      <td>-0.224485</td>\n",
       "      <td>-2.645468</td>\n",
       "      <td>0.318142</td>\n",
       "    </tr>\n",
       "    <tr>\n",
       "      <th>city2</th>\n",
       "      <td>-0.109140</td>\n",
       "      <td>0.554530</td>\n",
       "      <td>-0.550075</td>\n",
       "      <td>-0.857442</td>\n",
       "      <td>-1.166355</td>\n",
       "    </tr>\n",
       "    <tr>\n",
       "      <th rowspan=\"2\" valign=\"top\">sale3</th>\n",
       "      <th>city1</th>\n",
       "      <td>0.174734</td>\n",
       "      <td>1.232789</td>\n",
       "      <td>0.419472</td>\n",
       "      <td>1.005888</td>\n",
       "      <td>-0.791649</td>\n",
       "    </tr>\n",
       "    <tr>\n",
       "      <th>city2</th>\n",
       "      <td>2.393727</td>\n",
       "      <td>-0.236061</td>\n",
       "      <td>-2.510629</td>\n",
       "      <td>1.317343</td>\n",
       "      <td>1.032973</td>\n",
       "    </tr>\n",
       "    <tr>\n",
       "      <th rowspan=\"2\" valign=\"top\">sale4</th>\n",
       "      <th>city1</th>\n",
       "      <td>0.237944</td>\n",
       "      <td>1.176823</td>\n",
       "      <td>0.104505</td>\n",
       "      <td>2.909946</td>\n",
       "      <td>-0.333183</td>\n",
       "    </tr>\n",
       "    <tr>\n",
       "      <th>city2</th>\n",
       "      <td>-0.740141</td>\n",
       "      <td>1.639670</td>\n",
       "      <td>-0.444269</td>\n",
       "      <td>0.675520</td>\n",
       "      <td>0.619749</td>\n",
       "    </tr>\n",
       "  </tbody>\n",
       "</table>\n",
       "</div>"
      ],
      "text/plain": [
       "                    0         1         2         3         4\n",
       "sale  city                                                   \n",
       "sale1 city1  0.255030  0.607809  1.690995 -0.771513  0.931271\n",
       "      city2  0.376048 -1.116930 -0.461052  0.963418  0.869431\n",
       "sale2 city1  0.716944 -0.867346 -0.224485 -2.645468  0.318142\n",
       "      city2 -0.109140  0.554530 -0.550075 -0.857442 -1.166355\n",
       "sale3 city1  0.174734  1.232789  0.419472  1.005888 -0.791649\n",
       "      city2  2.393727 -0.236061 -2.510629  1.317343  1.032973\n",
       "sale4 city1  0.237944  1.176823  0.104505  2.909946 -0.333183\n",
       "      city2 -0.740141  1.639670 -0.444269  0.675520  0.619749"
      ]
     },
     "execution_count": 42,
     "metadata": {},
     "output_type": "execute_result"
    }
   ],
   "source": [
    "# Sol-2 Sort on Index level=0\n",
    "# Pass a level name to sort the DataFrame\n",
    "df.sort_index(level=\"sale\")"
   ]
  },
  {
   "cell_type": "markdown",
   "metadata": {
    "colab_type": "text",
    "id": "RKwbEHTY0yvl"
   },
   "source": [
    "Q17. Write a Pandas program \n",
    "\n",
    "  a. to extract elements in the given positional row indices. \n",
    "  positions = [1, 2, 4]\n",
    "\n",
    "  b. to extract elements in the given positional column indices [1, 2, 4]\n",
    "  \n",
    "  c. extract elements in the given positional column indices [1, 2, 4] and reverse the order of the columns to [4,2,1]"
   ]
  },
  {
   "cell_type": "code",
   "execution_count": 43,
   "metadata": {
    "colab": {
     "base_uri": "https://localhost:8080/",
     "height": 174
    },
    "colab_type": "code",
    "executionInfo": {
     "elapsed": 1256,
     "status": "ok",
     "timestamp": 1600519129238,
     "user": {
      "displayName": "Eswar Poluri",
      "photoUrl": "https://lh3.googleusercontent.com/a-/AOh14Gj2twFS3_zJQCgs07nkQBHCl4KgQC_Bh298yJkdjOg=s64",
      "userId": "17891988430079875549"
     },
     "user_tz": -330
    },
    "id": "90LZ1lgOYCCg",
    "outputId": "3fc937fc-69be-4645-8afe-4a667c5e9580"
   },
   "outputs": [
    {
     "data": {
      "text/html": [
       "<div>\n",
       "<style scoped>\n",
       "    .dataframe tbody tr th:only-of-type {\n",
       "        vertical-align: middle;\n",
       "    }\n",
       "\n",
       "    .dataframe tbody tr th {\n",
       "        vertical-align: top;\n",
       "    }\n",
       "\n",
       "    .dataframe thead th {\n",
       "        text-align: right;\n",
       "    }\n",
       "</style>\n",
       "<table border=\"1\" class=\"dataframe\">\n",
       "  <thead>\n",
       "    <tr style=\"text-align: right;\">\n",
       "      <th></th>\n",
       "      <th></th>\n",
       "      <th>0</th>\n",
       "      <th>1</th>\n",
       "      <th>2</th>\n",
       "      <th>3</th>\n",
       "      <th>4</th>\n",
       "    </tr>\n",
       "    <tr>\n",
       "      <th>sale</th>\n",
       "      <th>city</th>\n",
       "      <th></th>\n",
       "      <th></th>\n",
       "      <th></th>\n",
       "      <th></th>\n",
       "      <th></th>\n",
       "    </tr>\n",
       "  </thead>\n",
       "  <tbody>\n",
       "    <tr>\n",
       "      <th>sale1</th>\n",
       "      <th>city2</th>\n",
       "      <td>0.376048</td>\n",
       "      <td>-1.116930</td>\n",
       "      <td>-0.461052</td>\n",
       "      <td>0.963418</td>\n",
       "      <td>0.869431</td>\n",
       "    </tr>\n",
       "    <tr>\n",
       "      <th>sale2</th>\n",
       "      <th>city1</th>\n",
       "      <td>0.716944</td>\n",
       "      <td>-0.867346</td>\n",
       "      <td>-0.224485</td>\n",
       "      <td>-2.645468</td>\n",
       "      <td>0.318142</td>\n",
       "    </tr>\n",
       "    <tr>\n",
       "      <th>sale3</th>\n",
       "      <th>city1</th>\n",
       "      <td>0.174734</td>\n",
       "      <td>1.232789</td>\n",
       "      <td>0.419472</td>\n",
       "      <td>1.005888</td>\n",
       "      <td>-0.791649</td>\n",
       "    </tr>\n",
       "  </tbody>\n",
       "</table>\n",
       "</div>"
      ],
      "text/plain": [
       "                    0         1         2         3         4\n",
       "sale  city                                                   \n",
       "sale1 city2  0.376048 -1.116930 -0.461052  0.963418  0.869431\n",
       "sale2 city1  0.716944 -0.867346 -0.224485 -2.645468  0.318142\n",
       "sale3 city1  0.174734  1.232789  0.419472  1.005888 -0.791649"
      ]
     },
     "execution_count": 43,
     "metadata": {},
     "output_type": "execute_result"
    }
   ],
   "source": [
    "# extract elements in the given positional row indices\n",
    "positions = [1, 2, 4]\n",
    "df.take([1, 2, 4])"
   ]
  },
  {
   "cell_type": "code",
   "execution_count": 44,
   "metadata": {
    "colab": {
     "base_uri": "https://localhost:8080/",
     "height": 331
    },
    "colab_type": "code",
    "executionInfo": {
     "elapsed": 1363,
     "status": "ok",
     "timestamp": 1600519117699,
     "user": {
      "displayName": "Eswar Poluri",
      "photoUrl": "https://lh3.googleusercontent.com/a-/AOh14Gj2twFS3_zJQCgs07nkQBHCl4KgQC_Bh298yJkdjOg=s64",
      "userId": "17891988430079875549"
     },
     "user_tz": -330
    },
    "id": "8uGZFpyzXUgZ",
    "outputId": "45b0c92c-4903-44bd-aed2-97428c9566aa"
   },
   "outputs": [
    {
     "data": {
      "text/html": [
       "<div>\n",
       "<style scoped>\n",
       "    .dataframe tbody tr th:only-of-type {\n",
       "        vertical-align: middle;\n",
       "    }\n",
       "\n",
       "    .dataframe tbody tr th {\n",
       "        vertical-align: top;\n",
       "    }\n",
       "\n",
       "    .dataframe thead th {\n",
       "        text-align: right;\n",
       "    }\n",
       "</style>\n",
       "<table border=\"1\" class=\"dataframe\">\n",
       "  <thead>\n",
       "    <tr style=\"text-align: right;\">\n",
       "      <th></th>\n",
       "      <th></th>\n",
       "      <th>1</th>\n",
       "      <th>2</th>\n",
       "      <th>4</th>\n",
       "    </tr>\n",
       "    <tr>\n",
       "      <th>sale</th>\n",
       "      <th>city</th>\n",
       "      <th></th>\n",
       "      <th></th>\n",
       "      <th></th>\n",
       "    </tr>\n",
       "  </thead>\n",
       "  <tbody>\n",
       "    <tr>\n",
       "      <th rowspan=\"2\" valign=\"top\">sale1</th>\n",
       "      <th>city1</th>\n",
       "      <td>0.607809</td>\n",
       "      <td>1.690995</td>\n",
       "      <td>0.931271</td>\n",
       "    </tr>\n",
       "    <tr>\n",
       "      <th>city2</th>\n",
       "      <td>-1.116930</td>\n",
       "      <td>-0.461052</td>\n",
       "      <td>0.869431</td>\n",
       "    </tr>\n",
       "    <tr>\n",
       "      <th rowspan=\"2\" valign=\"top\">sale2</th>\n",
       "      <th>city1</th>\n",
       "      <td>-0.867346</td>\n",
       "      <td>-0.224485</td>\n",
       "      <td>0.318142</td>\n",
       "    </tr>\n",
       "    <tr>\n",
       "      <th>city2</th>\n",
       "      <td>0.554530</td>\n",
       "      <td>-0.550075</td>\n",
       "      <td>-1.166355</td>\n",
       "    </tr>\n",
       "    <tr>\n",
       "      <th rowspan=\"2\" valign=\"top\">sale3</th>\n",
       "      <th>city1</th>\n",
       "      <td>1.232789</td>\n",
       "      <td>0.419472</td>\n",
       "      <td>-0.791649</td>\n",
       "    </tr>\n",
       "    <tr>\n",
       "      <th>city2</th>\n",
       "      <td>-0.236061</td>\n",
       "      <td>-2.510629</td>\n",
       "      <td>1.032973</td>\n",
       "    </tr>\n",
       "    <tr>\n",
       "      <th rowspan=\"2\" valign=\"top\">sale4</th>\n",
       "      <th>city1</th>\n",
       "      <td>1.176823</td>\n",
       "      <td>0.104505</td>\n",
       "      <td>-0.333183</td>\n",
       "    </tr>\n",
       "    <tr>\n",
       "      <th>city2</th>\n",
       "      <td>1.639670</td>\n",
       "      <td>-0.444269</td>\n",
       "      <td>0.619749</td>\n",
       "    </tr>\n",
       "  </tbody>\n",
       "</table>\n",
       "</div>"
      ],
      "text/plain": [
       "                    1         2         4\n",
       "sale  city                               \n",
       "sale1 city1  0.607809  1.690995  0.931271\n",
       "      city2 -1.116930 -0.461052  0.869431\n",
       "sale2 city1 -0.867346 -0.224485  0.318142\n",
       "      city2  0.554530 -0.550075 -1.166355\n",
       "sale3 city1  1.232789  0.419472 -0.791649\n",
       "      city2 -0.236061 -2.510629  1.032973\n",
       "sale4 city1  1.176823  0.104505 -0.333183\n",
       "      city2  1.639670 -0.444269  0.619749"
      ]
     },
     "execution_count": 44,
     "metadata": {},
     "output_type": "execute_result"
    }
   ],
   "source": [
    "# extract elements in the given positional column indices\n",
    "df.take([1, 2, 4], axis=1) \n",
    "# take - Return the elements in the given *positional* indices along an axis."
   ]
  },
  {
   "cell_type": "code",
   "execution_count": 45,
   "metadata": {
    "colab": {
     "base_uri": "https://localhost:8080/",
     "height": 190
    },
    "colab_type": "code",
    "executionInfo": {
     "elapsed": 1517,
     "status": "ok",
     "timestamp": 1600519247191,
     "user": {
      "displayName": "Eswar Poluri",
      "photoUrl": "https://lh3.googleusercontent.com/a-/AOh14Gj2twFS3_zJQCgs07nkQBHCl4KgQC_Bh298yJkdjOg=s64",
      "userId": "17891988430079875549"
     },
     "user_tz": -330
    },
    "id": "PdM_JEgTXMrE",
    "outputId": "912b2f39-3d76-4283-b081-f6df0ba8bbb8"
   },
   "outputs": [
    {
     "name": "stdout",
     "output_type": "stream",
     "text": [
      "                    4         2         1\n",
      "sale  city                               \n",
      "sale1 city1  0.931271  1.690995  0.607809\n",
      "      city2  0.869431 -0.461052 -1.116930\n",
      "sale2 city1  0.318142 -0.224485 -0.867346\n",
      "      city2 -1.166355 -0.550075  0.554530\n",
      "sale3 city1 -0.791649  0.419472  1.232789\n",
      "      city2  1.032973 -2.510629 -0.236061\n",
      "sale4 city1 -0.333183  0.104505  1.176823\n",
      "      city2  0.619749 -0.444269  1.639670\n"
     ]
    }
   ],
   "source": [
    "# extract elements in the given positional column indices and reverse the order of the columns to [4,2,1]\n",
    "#sol-1\n",
    "print(df.take([-1, -3, -4], axis=1))\n",
    "#** diff loc and take - loc can only slice the df but cant rearrange it.\n",
    "#** if we want to pick rows / columns of our own order then use take\n",
    "#** df[[4,2,1]] is similar to take, but negitive slicing not posiable"
   ]
  },
  {
   "cell_type": "code",
   "execution_count": 50,
   "metadata": {},
   "outputs": [
    {
     "data": {
      "text/html": [
       "<div>\n",
       "<style scoped>\n",
       "    .dataframe tbody tr th:only-of-type {\n",
       "        vertical-align: middle;\n",
       "    }\n",
       "\n",
       "    .dataframe tbody tr th {\n",
       "        vertical-align: top;\n",
       "    }\n",
       "\n",
       "    .dataframe thead th {\n",
       "        text-align: right;\n",
       "    }\n",
       "</style>\n",
       "<table border=\"1\" class=\"dataframe\">\n",
       "  <thead>\n",
       "    <tr style=\"text-align: right;\">\n",
       "      <th></th>\n",
       "      <th></th>\n",
       "      <th>4</th>\n",
       "      <th>2</th>\n",
       "      <th>1</th>\n",
       "    </tr>\n",
       "    <tr>\n",
       "      <th>sale</th>\n",
       "      <th>city</th>\n",
       "      <th></th>\n",
       "      <th></th>\n",
       "      <th></th>\n",
       "    </tr>\n",
       "  </thead>\n",
       "  <tbody>\n",
       "    <tr>\n",
       "      <th rowspan=\"2\" valign=\"top\">sale1</th>\n",
       "      <th>city1</th>\n",
       "      <td>0.931271</td>\n",
       "      <td>1.690995</td>\n",
       "      <td>0.607809</td>\n",
       "    </tr>\n",
       "    <tr>\n",
       "      <th>city2</th>\n",
       "      <td>0.869431</td>\n",
       "      <td>-0.461052</td>\n",
       "      <td>-1.116930</td>\n",
       "    </tr>\n",
       "    <tr>\n",
       "      <th rowspan=\"2\" valign=\"top\">sale2</th>\n",
       "      <th>city1</th>\n",
       "      <td>0.318142</td>\n",
       "      <td>-0.224485</td>\n",
       "      <td>-0.867346</td>\n",
       "    </tr>\n",
       "    <tr>\n",
       "      <th>city2</th>\n",
       "      <td>-1.166355</td>\n",
       "      <td>-0.550075</td>\n",
       "      <td>0.554530</td>\n",
       "    </tr>\n",
       "    <tr>\n",
       "      <th rowspan=\"2\" valign=\"top\">sale3</th>\n",
       "      <th>city1</th>\n",
       "      <td>-0.791649</td>\n",
       "      <td>0.419472</td>\n",
       "      <td>1.232789</td>\n",
       "    </tr>\n",
       "    <tr>\n",
       "      <th>city2</th>\n",
       "      <td>1.032973</td>\n",
       "      <td>-2.510629</td>\n",
       "      <td>-0.236061</td>\n",
       "    </tr>\n",
       "    <tr>\n",
       "      <th rowspan=\"2\" valign=\"top\">sale4</th>\n",
       "      <th>city1</th>\n",
       "      <td>-0.333183</td>\n",
       "      <td>0.104505</td>\n",
       "      <td>1.176823</td>\n",
       "    </tr>\n",
       "    <tr>\n",
       "      <th>city2</th>\n",
       "      <td>0.619749</td>\n",
       "      <td>-0.444269</td>\n",
       "      <td>1.639670</td>\n",
       "    </tr>\n",
       "  </tbody>\n",
       "</table>\n",
       "</div>"
      ],
      "text/plain": [
       "                    4         2         1\n",
       "sale  city                               \n",
       "sale1 city1  0.931271  1.690995  0.607809\n",
       "      city2  0.869431 -0.461052 -1.116930\n",
       "sale2 city1  0.318142 -0.224485 -0.867346\n",
       "      city2 -1.166355 -0.550075  0.554530\n",
       "sale3 city1 -0.791649  0.419472  1.232789\n",
       "      city2  1.032973 -2.510629 -0.236061\n",
       "sale4 city1 -0.333183  0.104505  1.176823\n",
       "      city2  0.619749 -0.444269  1.639670"
      ]
     },
     "execution_count": 50,
     "metadata": {},
     "output_type": "execute_result"
    }
   ],
   "source": [
    "#sol-2\n",
    "df[[4,2,1]]"
   ]
  },
  {
   "cell_type": "markdown",
   "metadata": {
    "colab_type": "text",
    "id": "tHQ1RnCX3mLJ"
   },
   "source": [
    "Q18. Write a Pandas program to get the index of an element 11 of a given Series."
   ]
  },
  {
   "cell_type": "code",
   "execution_count": 52,
   "metadata": {
    "colab": {
     "base_uri": "https://localhost:8080/",
     "height": 173
    },
    "colab_type": "code",
    "executionInfo": {
     "elapsed": 1649,
     "status": "ok",
     "timestamp": 1600519773914,
     "user": {
      "displayName": "Eswar Poluri",
      "photoUrl": "https://lh3.googleusercontent.com/a-/AOh14Gj2twFS3_zJQCgs07nkQBHCl4KgQC_Bh298yJkdjOg=s64",
      "userId": "17891988430079875549"
     },
     "user_tz": -330
    },
    "id": "8p-hA_h-YCF3",
    "outputId": "a8c0af88-604d-4987-97a2-faaf8e6a4753",
    "scrolled": true
   },
   "outputs": [
    {
     "data": {
      "text/plain": [
       "0     1\n",
       "1     3\n",
       "2     5\n",
       "3     7\n",
       "4     9\n",
       "5    11\n",
       "7    13\n",
       "8    15\n",
       "dtype: int64"
      ]
     },
     "execution_count": 52,
     "metadata": {},
     "output_type": "execute_result"
    }
   ],
   "source": [
    "ds = pd.Series([1,3,5,7,9,11,13,15], index=[0,1,2,3,4,5,7,8])\n",
    "ds"
   ]
  },
  {
   "cell_type": "code",
   "execution_count": 55,
   "metadata": {},
   "outputs": [
    {
     "data": {
      "text/plain": [
       "Int64Index([5], dtype='int64')"
      ]
     },
     "execution_count": 55,
     "metadata": {},
     "output_type": "execute_result"
    }
   ],
   "source": [
    "ds[ds == 11].index"
   ]
  },
  {
   "cell_type": "code",
   "execution_count": 54,
   "metadata": {
    "colab": {
     "base_uri": "https://localhost:8080/",
     "height": 34
    },
    "colab_type": "code",
    "executionInfo": {
     "elapsed": 1403,
     "status": "ok",
     "timestamp": 1600519773916,
     "user": {
      "displayName": "Eswar Poluri",
      "photoUrl": "https://lh3.googleusercontent.com/a-/AOh14Gj2twFS3_zJQCgs07nkQBHCl4KgQC_Bh298yJkdjOg=s64",
      "userId": "17891988430079875549"
     },
     "user_tz": -330
    },
    "id": "xlRkaEFwaPAi",
    "outputId": "212ddab3-082c-471f-974f-795a237cf92f"
   },
   "outputs": [
    {
     "data": {
      "text/plain": [
       "5"
      ]
     },
     "execution_count": 54,
     "metadata": {},
     "output_type": "execute_result"
    }
   ],
   "source": [
    "ds[ds == 11].index[0]"
   ]
  },
  {
   "cell_type": "markdown",
   "metadata": {
    "colab_type": "text",
    "id": "vhcTJV3A38r0"
   },
   "source": [
    "Q19.1 Write a Pandas program to select a specific row 3rd row of above series by integer index."
   ]
  },
  {
   "cell_type": "code",
   "execution_count": 47,
   "metadata": {
    "colab": {
     "base_uri": "https://localhost:8080/",
     "height": 51
    },
    "colab_type": "code",
    "executionInfo": {
     "elapsed": 1184,
     "status": "ok",
     "timestamp": 1600519873827,
     "user": {
      "displayName": "Eswar Poluri",
      "photoUrl": "https://lh3.googleusercontent.com/a-/AOh14Gj2twFS3_zJQCgs07nkQBHCl4KgQC_Bh298yJkdjOg=s64",
      "userId": "17891988430079875549"
     },
     "user_tz": -330
    },
    "id": "72zeDRoXaeUK",
    "outputId": "7f0f0073-3673-4d5d-967b-4bd8b415355e"
   },
   "outputs": [
    {
     "data": {
      "text/plain": [
       "2    5\n",
       "dtype: int64"
      ]
     },
     "execution_count": 47,
     "metadata": {},
     "output_type": "execute_result"
    }
   ],
   "source": [
    "ds.iloc[[2]]"
   ]
  },
  {
   "cell_type": "markdown",
   "metadata": {
    "colab_type": "text",
    "id": "I-JomjEm4ymw"
   },
   "source": [
    "Q19.2 Write a Pandas program to select a specific row 3rd row of above dataframe by integer index."
   ]
  },
  {
   "cell_type": "code",
   "execution_count": 48,
   "metadata": {
    "colab": {
     "base_uri": "https://localhost:8080/",
     "height": 237
    },
    "colab_type": "code",
    "executionInfo": {
     "elapsed": 1283,
     "status": "ok",
     "timestamp": 1600477441948,
     "user": {
      "displayName": "Eswar Poluri",
      "photoUrl": "https://lh3.googleusercontent.com/a-/AOh14Gj2twFS3_zJQCgs07nkQBHCl4KgQC_Bh298yJkdjOg=s64",
      "userId": "17891988430079875549"
     },
     "user_tz": -330
    },
    "id": "9s_VwF1kYB6o",
    "outputId": "d2580a48-cf09-41d9-85ec-52c84f308846"
   },
   "outputs": [
    {
     "data": {
      "text/html": [
       "<div>\n",
       "<style scoped>\n",
       "    .dataframe tbody tr th:only-of-type {\n",
       "        vertical-align: middle;\n",
       "    }\n",
       "\n",
       "    .dataframe tbody tr th {\n",
       "        vertical-align: top;\n",
       "    }\n",
       "\n",
       "    .dataframe thead th {\n",
       "        text-align: right;\n",
       "    }\n",
       "</style>\n",
       "<table border=\"1\" class=\"dataframe\">\n",
       "  <thead>\n",
       "    <tr style=\"text-align: right;\">\n",
       "      <th></th>\n",
       "      <th>school_code</th>\n",
       "      <th>class</th>\n",
       "      <th>name</th>\n",
       "      <th>date_of_birth</th>\n",
       "      <th>weight</th>\n",
       "    </tr>\n",
       "  </thead>\n",
       "  <tbody>\n",
       "    <tr>\n",
       "      <th>0</th>\n",
       "      <td>s001</td>\n",
       "      <td>V</td>\n",
       "      <td>Alberto Franco</td>\n",
       "      <td>15/05/2002</td>\n",
       "      <td>35</td>\n",
       "    </tr>\n",
       "    <tr>\n",
       "      <th>1</th>\n",
       "      <td>s002</td>\n",
       "      <td>V</td>\n",
       "      <td>Gino Mcneill</td>\n",
       "      <td>17/05/2002</td>\n",
       "      <td>32</td>\n",
       "    </tr>\n",
       "    <tr>\n",
       "      <th>2</th>\n",
       "      <td>s003</td>\n",
       "      <td>VI</td>\n",
       "      <td>Ryan Parkes</td>\n",
       "      <td>16/02/1999</td>\n",
       "      <td>33</td>\n",
       "    </tr>\n",
       "    <tr>\n",
       "      <th>3</th>\n",
       "      <td>s001</td>\n",
       "      <td>VI</td>\n",
       "      <td>Eesha Hinton</td>\n",
       "      <td>25/09/1998</td>\n",
       "      <td>30</td>\n",
       "    </tr>\n",
       "    <tr>\n",
       "      <th>4</th>\n",
       "      <td>s002</td>\n",
       "      <td>V</td>\n",
       "      <td>Gino Mcneill</td>\n",
       "      <td>11/05/2002</td>\n",
       "      <td>31</td>\n",
       "    </tr>\n",
       "    <tr>\n",
       "      <th>5</th>\n",
       "      <td>s004</td>\n",
       "      <td>VI</td>\n",
       "      <td>David Parkes</td>\n",
       "      <td>15/09/1997</td>\n",
       "      <td>32</td>\n",
       "    </tr>\n",
       "  </tbody>\n",
       "</table>\n",
       "</div>"
      ],
      "text/plain": [
       "  school_code class            name date_of_birth  weight\n",
       "0        s001     V  Alberto Franco    15/05/2002      35\n",
       "1        s002     V    Gino Mcneill    17/05/2002      32\n",
       "2        s003    VI     Ryan Parkes    16/02/1999      33\n",
       "3        s001    VI    Eesha Hinton    25/09/1998      30\n",
       "4        s002     V    Gino Mcneill    11/05/2002      31\n",
       "5        s004    VI    David Parkes    15/09/1997      32"
      ]
     },
     "execution_count": 48,
     "metadata": {},
     "output_type": "execute_result"
    }
   ],
   "source": [
    "df = pd.DataFrame({\n",
    "    'school_code': ['s001','s002','s003','s001','s002','s004'],\n",
    "    'class': ['V', 'V', 'VI', 'VI', 'V', 'VI'],\n",
    "    'name': ['Alberto Franco','Gino Mcneill','Ryan Parkes', 'Eesha Hinton', 'Gino Mcneill', 'David Parkes'],\n",
    "    'date_of_birth': ['15/05/2002','17/05/2002','16/02/1999','25/09/1998','11/05/2002','15/09/1997'],\n",
    "    'weight': [35, 32, 33, 30, 31, 32]})\n",
    "df"
   ]
  },
  {
   "cell_type": "code",
   "execution_count": 49,
   "metadata": {
    "colab": {
     "base_uri": "https://localhost:8080/",
     "height": 112
    },
    "colab_type": "code",
    "executionInfo": {
     "elapsed": 1222,
     "status": "ok",
     "timestamp": 1600519941656,
     "user": {
      "displayName": "Eswar Poluri",
      "photoUrl": "https://lh3.googleusercontent.com/a-/AOh14Gj2twFS3_zJQCgs07nkQBHCl4KgQC_Bh298yJkdjOg=s64",
      "userId": "17891988430079875549"
     },
     "user_tz": -330
    },
    "id": "Glaq3Ad7a__B",
    "outputId": "df676a5f-452c-433c-ff24-7cbbe8f15523"
   },
   "outputs": [
    {
     "data": {
      "text/html": [
       "<div>\n",
       "<style scoped>\n",
       "    .dataframe tbody tr th:only-of-type {\n",
       "        vertical-align: middle;\n",
       "    }\n",
       "\n",
       "    .dataframe tbody tr th {\n",
       "        vertical-align: top;\n",
       "    }\n",
       "\n",
       "    .dataframe thead th {\n",
       "        text-align: right;\n",
       "    }\n",
       "</style>\n",
       "<table border=\"1\" class=\"dataframe\">\n",
       "  <thead>\n",
       "    <tr style=\"text-align: right;\">\n",
       "      <th></th>\n",
       "      <th>school_code</th>\n",
       "      <th>class</th>\n",
       "      <th>name</th>\n",
       "      <th>date_of_birth</th>\n",
       "      <th>weight</th>\n",
       "    </tr>\n",
       "  </thead>\n",
       "  <tbody>\n",
       "    <tr>\n",
       "      <th>2</th>\n",
       "      <td>s003</td>\n",
       "      <td>VI</td>\n",
       "      <td>Ryan Parkes</td>\n",
       "      <td>16/02/1999</td>\n",
       "      <td>33</td>\n",
       "    </tr>\n",
       "  </tbody>\n",
       "</table>\n",
       "</div>"
      ],
      "text/plain": [
       "  school_code class         name date_of_birth  weight\n",
       "2        s003    VI  Ryan Parkes    16/02/1999      33"
      ]
     },
     "execution_count": 49,
     "metadata": {},
     "output_type": "execute_result"
    }
   ],
   "source": [
    "df.iloc[[2]]"
   ]
  },
  {
   "cell_type": "markdown",
   "metadata": {
    "colab_type": "text",
    "id": "YKO1s_2n5FQ-"
   },
   "source": [
    "Q20. Write a Pandas program to find the indexes of rows of a specified value(school_code=s001) of a given column in a DataFrame."
   ]
  },
  {
   "cell_type": "code",
   "execution_count": 50,
   "metadata": {
    "colab": {
     "base_uri": "https://localhost:8080/",
     "height": 237
    },
    "colab_type": "code",
    "executionInfo": {
     "elapsed": 2232,
     "status": "ok",
     "timestamp": 1600520023965,
     "user": {
      "displayName": "Eswar Poluri",
      "photoUrl": "https://lh3.googleusercontent.com/a-/AOh14Gj2twFS3_zJQCgs07nkQBHCl4KgQC_Bh298yJkdjOg=s64",
      "userId": "17891988430079875549"
     },
     "user_tz": -330
    },
    "id": "2KgpmD6eYB00",
    "outputId": "ce7c8f93-d83f-44a1-efeb-82d735f1caf0"
   },
   "outputs": [
    {
     "data": {
      "text/html": [
       "<div>\n",
       "<style scoped>\n",
       "    .dataframe tbody tr th:only-of-type {\n",
       "        vertical-align: middle;\n",
       "    }\n",
       "\n",
       "    .dataframe tbody tr th {\n",
       "        vertical-align: top;\n",
       "    }\n",
       "\n",
       "    .dataframe thead th {\n",
       "        text-align: right;\n",
       "    }\n",
       "</style>\n",
       "<table border=\"1\" class=\"dataframe\">\n",
       "  <thead>\n",
       "    <tr style=\"text-align: right;\">\n",
       "      <th></th>\n",
       "      <th>school_code</th>\n",
       "      <th>class</th>\n",
       "      <th>name</th>\n",
       "      <th>date_of_birth</th>\n",
       "      <th>weight</th>\n",
       "    </tr>\n",
       "  </thead>\n",
       "  <tbody>\n",
       "    <tr>\n",
       "      <th>1</th>\n",
       "      <td>s001</td>\n",
       "      <td>V</td>\n",
       "      <td>Alberto Franco</td>\n",
       "      <td>15/05/2002</td>\n",
       "      <td>35</td>\n",
       "    </tr>\n",
       "    <tr>\n",
       "      <th>2</th>\n",
       "      <td>s002</td>\n",
       "      <td>V</td>\n",
       "      <td>Gino Mcneill</td>\n",
       "      <td>17/05/2002</td>\n",
       "      <td>32</td>\n",
       "    </tr>\n",
       "    <tr>\n",
       "      <th>3</th>\n",
       "      <td>s003</td>\n",
       "      <td>VI</td>\n",
       "      <td>Ryan Parkes</td>\n",
       "      <td>16/02/1999</td>\n",
       "      <td>33</td>\n",
       "    </tr>\n",
       "    <tr>\n",
       "      <th>4</th>\n",
       "      <td>s001</td>\n",
       "      <td>VI</td>\n",
       "      <td>Eesha Hinton</td>\n",
       "      <td>25/09/1998</td>\n",
       "      <td>30</td>\n",
       "    </tr>\n",
       "    <tr>\n",
       "      <th>5</th>\n",
       "      <td>s002</td>\n",
       "      <td>V</td>\n",
       "      <td>Gino Mcneill</td>\n",
       "      <td>11/05/2002</td>\n",
       "      <td>31</td>\n",
       "    </tr>\n",
       "    <tr>\n",
       "      <th>6</th>\n",
       "      <td>s004</td>\n",
       "      <td>VI</td>\n",
       "      <td>David Parkes</td>\n",
       "      <td>15/09/1997</td>\n",
       "      <td>32</td>\n",
       "    </tr>\n",
       "  </tbody>\n",
       "</table>\n",
       "</div>"
      ],
      "text/plain": [
       "  school_code class            name date_of_birth  weight\n",
       "1        s001     V  Alberto Franco    15/05/2002      35\n",
       "2        s002     V    Gino Mcneill    17/05/2002      32\n",
       "3        s003    VI     Ryan Parkes    16/02/1999      33\n",
       "4        s001    VI    Eesha Hinton    25/09/1998      30\n",
       "5        s002     V    Gino Mcneill    11/05/2002      31\n",
       "6        s004    VI    David Parkes    15/09/1997      32"
      ]
     },
     "execution_count": 50,
     "metadata": {},
     "output_type": "execute_result"
    }
   ],
   "source": [
    "df = pd.DataFrame({\n",
    "    'school_code': ['s001','s002','s003','s001','s002','s004'],\n",
    "    'class': ['V', 'V', 'VI', 'VI', 'V', 'VI'],\n",
    "    'name': ['Alberto Franco','Gino Mcneill','Ryan Parkes', 'Eesha Hinton', 'Gino Mcneill', 'David Parkes'],\n",
    "    'date_of_birth': ['15/05/2002','17/05/2002','16/02/1999','25/09/1998','11/05/2002','15/09/1997'],\n",
    "    'weight': [35, 32, 33, 30, 31, 32]},\n",
    "     index =  [1, 2, 3, 4, 5, 6])\n",
    "df"
   ]
  },
  {
   "cell_type": "code",
   "execution_count": 51,
   "metadata": {
    "colab": {
     "base_uri": "https://localhost:8080/",
     "height": 34
    },
    "colab_type": "code",
    "executionInfo": {
     "elapsed": 1591,
     "status": "ok",
     "timestamp": 1600520025456,
     "user": {
      "displayName": "Eswar Poluri",
      "photoUrl": "https://lh3.googleusercontent.com/a-/AOh14Gj2twFS3_zJQCgs07nkQBHCl4KgQC_Bh298yJkdjOg=s64",
      "userId": "17891988430079875549"
     },
     "user_tz": -330
    },
    "id": "_9Dl5_U_bMaM",
    "outputId": "f342a8de-c578-4b46-a7ad-f60d6c760c68"
   },
   "outputs": [
    {
     "data": {
      "text/plain": [
       "[1, 4]"
      ]
     },
     "execution_count": 51,
     "metadata": {},
     "output_type": "execute_result"
    }
   ],
   "source": [
    "df.index[df['school_code']=='s001'].tolist() #** conditional indexing is possiable"
   ]
  },
  {
   "cell_type": "markdown",
   "metadata": {
    "colab_type": "text",
    "id": "CRQaINW05qBc"
   },
   "source": [
    "Q21. Write a Pandas program \n",
    "\n",
    "  a. to drop a index level 0 from a multi-level column index of a dataframe.\n",
    "  \n",
    "  b. to drop a index level 1 from a multi-level column index of a dataframe.\n",
    "\n",
    "Note: Levels are 0-indexed beginning from the top."
   ]
  },
  {
   "cell_type": "code",
   "execution_count": 52,
   "metadata": {
    "colab": {
     "base_uri": "https://localhost:8080/",
     "height": 174
    },
    "colab_type": "code",
    "executionInfo": {
     "elapsed": 1265,
     "status": "ok",
     "timestamp": 1600520286859,
     "user": {
      "displayName": "Eswar Poluri",
      "photoUrl": "https://lh3.googleusercontent.com/a-/AOh14Gj2twFS3_zJQCgs07nkQBHCl4KgQC_Bh298yJkdjOg=s64",
      "userId": "17891988430079875549"
     },
     "user_tz": -330
    },
    "id": "nZvHERfrYBux",
    "outputId": "8fbbbf96-d1b4-4088-99be-a47cc08c0cb2"
   },
   "outputs": [
    {
     "data": {
      "text/html": [
       "<div>\n",
       "<style scoped>\n",
       "    .dataframe tbody tr th:only-of-type {\n",
       "        vertical-align: middle;\n",
       "    }\n",
       "\n",
       "    .dataframe tbody tr th {\n",
       "        vertical-align: top;\n",
       "    }\n",
       "\n",
       "    .dataframe thead tr th {\n",
       "        text-align: left;\n",
       "    }\n",
       "</style>\n",
       "<table border=\"1\" class=\"dataframe\">\n",
       "  <thead>\n",
       "    <tr>\n",
       "      <th></th>\n",
       "      <th colspan=\"3\" halign=\"left\">a</th>\n",
       "    </tr>\n",
       "    <tr>\n",
       "      <th></th>\n",
       "      <th>x</th>\n",
       "      <th>y</th>\n",
       "      <th>z</th>\n",
       "    </tr>\n",
       "  </thead>\n",
       "  <tbody>\n",
       "    <tr>\n",
       "      <th>0</th>\n",
       "      <td>1</td>\n",
       "      <td>2</td>\n",
       "      <td>3</td>\n",
       "    </tr>\n",
       "    <tr>\n",
       "      <th>1</th>\n",
       "      <td>3</td>\n",
       "      <td>4</td>\n",
       "      <td>5</td>\n",
       "    </tr>\n",
       "    <tr>\n",
       "      <th>2</th>\n",
       "      <td>5</td>\n",
       "      <td>6</td>\n",
       "      <td>7</td>\n",
       "    </tr>\n",
       "  </tbody>\n",
       "</table>\n",
       "</div>"
      ],
      "text/plain": [
       "   a      \n",
       "   x  y  z\n",
       "0  1  2  3\n",
       "1  3  4  5\n",
       "2  5  6  7"
      ]
     },
     "execution_count": 52,
     "metadata": {},
     "output_type": "execute_result"
    }
   ],
   "source": [
    "cols = pd.MultiIndex.from_tuples([(\"a\", \"x\"), (\"a\", \"y\"), (\"a\", \"z\")])\n",
    "df = pd.DataFrame([[1,2,3], [3,4,5], [5,6,7]], columns=cols)\n",
    "df"
   ]
  },
  {
   "cell_type": "code",
   "execution_count": 53,
   "metadata": {
    "colab": {
     "base_uri": "https://localhost:8080/",
     "height": 143
    },
    "colab_type": "code",
    "executionInfo": {
     "elapsed": 1244,
     "status": "ok",
     "timestamp": 1600520264781,
     "user": {
      "displayName": "Eswar Poluri",
      "photoUrl": "https://lh3.googleusercontent.com/a-/AOh14Gj2twFS3_zJQCgs07nkQBHCl4KgQC_Bh298yJkdjOg=s64",
      "userId": "17891988430079875549"
     },
     "user_tz": -330
    },
    "id": "tN7kKvpYbdtF",
    "outputId": "8b71bb00-ab9b-47b4-f372-e95e73295358"
   },
   "outputs": [
    {
     "data": {
      "text/html": [
       "<div>\n",
       "<style scoped>\n",
       "    .dataframe tbody tr th:only-of-type {\n",
       "        vertical-align: middle;\n",
       "    }\n",
       "\n",
       "    .dataframe tbody tr th {\n",
       "        vertical-align: top;\n",
       "    }\n",
       "\n",
       "    .dataframe thead th {\n",
       "        text-align: right;\n",
       "    }\n",
       "</style>\n",
       "<table border=\"1\" class=\"dataframe\">\n",
       "  <thead>\n",
       "    <tr style=\"text-align: right;\">\n",
       "      <th></th>\n",
       "      <th>x</th>\n",
       "      <th>y</th>\n",
       "      <th>z</th>\n",
       "    </tr>\n",
       "  </thead>\n",
       "  <tbody>\n",
       "    <tr>\n",
       "      <th>0</th>\n",
       "      <td>1</td>\n",
       "      <td>2</td>\n",
       "      <td>3</td>\n",
       "    </tr>\n",
       "    <tr>\n",
       "      <th>1</th>\n",
       "      <td>3</td>\n",
       "      <td>4</td>\n",
       "      <td>5</td>\n",
       "    </tr>\n",
       "    <tr>\n",
       "      <th>2</th>\n",
       "      <td>5</td>\n",
       "      <td>6</td>\n",
       "      <td>7</td>\n",
       "    </tr>\n",
       "  </tbody>\n",
       "</table>\n",
       "</div>"
      ],
      "text/plain": [
       "   x  y  z\n",
       "0  1  2  3\n",
       "1  3  4  5\n",
       "2  5  6  7"
      ]
     },
     "execution_count": 53,
     "metadata": {},
     "output_type": "execute_result"
    }
   ],
   "source": [
    "# to drop a index level 0\n",
    "df.columns=df.columns.droplevel(0)\n",
    "df"
   ]
  },
  {
   "cell_type": "code",
   "execution_count": 54,
   "metadata": {
    "colab": {
     "base_uri": "https://localhost:8080/",
     "height": 143
    },
    "colab_type": "code",
    "executionInfo": {
     "elapsed": 1221,
     "status": "ok",
     "timestamp": 1600520303511,
     "user": {
      "displayName": "Eswar Poluri",
      "photoUrl": "https://lh3.googleusercontent.com/a-/AOh14Gj2twFS3_zJQCgs07nkQBHCl4KgQC_Bh298yJkdjOg=s64",
      "userId": "17891988430079875549"
     },
     "user_tz": -330
    },
    "id": "8Mmv7Ioebdwr",
    "outputId": "badf9b94-b204-4b36-e671-7d0205b8afaf"
   },
   "outputs": [
    {
     "data": {
      "text/html": [
       "<div>\n",
       "<style scoped>\n",
       "    .dataframe tbody tr th:only-of-type {\n",
       "        vertical-align: middle;\n",
       "    }\n",
       "\n",
       "    .dataframe tbody tr th {\n",
       "        vertical-align: top;\n",
       "    }\n",
       "\n",
       "    .dataframe thead th {\n",
       "        text-align: right;\n",
       "    }\n",
       "</style>\n",
       "<table border=\"1\" class=\"dataframe\">\n",
       "  <thead>\n",
       "    <tr style=\"text-align: right;\">\n",
       "      <th></th>\n",
       "      <th>a</th>\n",
       "      <th>a</th>\n",
       "      <th>a</th>\n",
       "    </tr>\n",
       "  </thead>\n",
       "  <tbody>\n",
       "    <tr>\n",
       "      <th>0</th>\n",
       "      <td>1</td>\n",
       "      <td>2</td>\n",
       "      <td>3</td>\n",
       "    </tr>\n",
       "    <tr>\n",
       "      <th>1</th>\n",
       "      <td>3</td>\n",
       "      <td>4</td>\n",
       "      <td>5</td>\n",
       "    </tr>\n",
       "    <tr>\n",
       "      <th>2</th>\n",
       "      <td>5</td>\n",
       "      <td>6</td>\n",
       "      <td>7</td>\n",
       "    </tr>\n",
       "  </tbody>\n",
       "</table>\n",
       "</div>"
      ],
      "text/plain": [
       "   a  a  a\n",
       "0  1  2  3\n",
       "1  3  4  5\n",
       "2  5  6  7"
      ]
     },
     "execution_count": 54,
     "metadata": {},
     "output_type": "execute_result"
    }
   ],
   "source": [
    "# to drop a index level 1\n",
    "cols = pd.MultiIndex.from_tuples([(\"a\", \"x\"), (\"a\", \"y\"), (\"a\", \"z\")])\n",
    "df = pd.DataFrame([[1,2,3], [3,4,5], [5,6,7]], columns=cols)\n",
    "\n",
    "df.columns=df.columns.droplevel(1)\n",
    "df"
   ]
  },
  {
   "cell_type": "markdown",
   "metadata": {
    "colab_type": "text",
    "id": "B_tDF_HW6rfE"
   },
   "source": [
    "Q22. Write a Pandas program to insert a column at a specific index 3 in a given DataFrame."
   ]
  },
  {
   "cell_type": "code",
   "execution_count": 55,
   "metadata": {
    "colab": {
     "base_uri": "https://localhost:8080/",
     "height": 237
    },
    "colab_type": "code",
    "executionInfo": {
     "elapsed": 1407,
     "status": "ok",
     "timestamp": 1600520436024,
     "user": {
      "displayName": "Eswar Poluri",
      "photoUrl": "https://lh3.googleusercontent.com/a-/AOh14Gj2twFS3_zJQCgs07nkQBHCl4KgQC_Bh298yJkdjOg=s64",
      "userId": "17891988430079875549"
     },
     "user_tz": -330
    },
    "id": "io7kX3YUYBrc",
    "outputId": "323a5654-75fb-4178-ee0d-feee6a94649f"
   },
   "outputs": [
    {
     "data": {
      "text/html": [
       "<div>\n",
       "<style scoped>\n",
       "    .dataframe tbody tr th:only-of-type {\n",
       "        vertical-align: middle;\n",
       "    }\n",
       "\n",
       "    .dataframe tbody tr th {\n",
       "        vertical-align: top;\n",
       "    }\n",
       "\n",
       "    .dataframe thead th {\n",
       "        text-align: right;\n",
       "    }\n",
       "</style>\n",
       "<table border=\"1\" class=\"dataframe\">\n",
       "  <thead>\n",
       "    <tr style=\"text-align: right;\">\n",
       "      <th></th>\n",
       "      <th>school_code</th>\n",
       "      <th>class</th>\n",
       "      <th>name</th>\n",
       "      <th>weight</th>\n",
       "    </tr>\n",
       "  </thead>\n",
       "  <tbody>\n",
       "    <tr>\n",
       "      <th>1</th>\n",
       "      <td>s001</td>\n",
       "      <td>V</td>\n",
       "      <td>Alberto Franco</td>\n",
       "      <td>35</td>\n",
       "    </tr>\n",
       "    <tr>\n",
       "      <th>2</th>\n",
       "      <td>s002</td>\n",
       "      <td>V</td>\n",
       "      <td>Gino Mcneill</td>\n",
       "      <td>32</td>\n",
       "    </tr>\n",
       "    <tr>\n",
       "      <th>3</th>\n",
       "      <td>s003</td>\n",
       "      <td>VI</td>\n",
       "      <td>Ryan Parkes</td>\n",
       "      <td>33</td>\n",
       "    </tr>\n",
       "    <tr>\n",
       "      <th>4</th>\n",
       "      <td>s001</td>\n",
       "      <td>VI</td>\n",
       "      <td>Eesha Hinton</td>\n",
       "      <td>30</td>\n",
       "    </tr>\n",
       "    <tr>\n",
       "      <th>5</th>\n",
       "      <td>s002</td>\n",
       "      <td>V</td>\n",
       "      <td>Gino Mcneill</td>\n",
       "      <td>31</td>\n",
       "    </tr>\n",
       "    <tr>\n",
       "      <th>6</th>\n",
       "      <td>s004</td>\n",
       "      <td>VI</td>\n",
       "      <td>David Parkes</td>\n",
       "      <td>32</td>\n",
       "    </tr>\n",
       "  </tbody>\n",
       "</table>\n",
       "</div>"
      ],
      "text/plain": [
       "  school_code class            name  weight\n",
       "1        s001     V  Alberto Franco      35\n",
       "2        s002     V    Gino Mcneill      32\n",
       "3        s003    VI     Ryan Parkes      33\n",
       "4        s001    VI    Eesha Hinton      30\n",
       "5        s002     V    Gino Mcneill      31\n",
       "6        s004    VI    David Parkes      32"
      ]
     },
     "execution_count": 55,
     "metadata": {},
     "output_type": "execute_result"
    }
   ],
   "source": [
    "df = pd.DataFrame({\n",
    "    'school_code': ['s001','s002','s003','s001','s002','s004'],\n",
    "    'class': ['V', 'V', 'VI', 'VI', 'V', 'VI'],\n",
    "    'name': ['Alberto Franco','Gino Mcneill','Ryan Parkes', 'Eesha Hinton', 'Gino Mcneill', 'David Parkes'],\n",
    "    'weight': [35, 32, 33, 30, 31, 32]},\n",
    "     index =  [1, 2, 3, 4, 5, 6])\n",
    "df"
   ]
  },
  {
   "cell_type": "code",
   "execution_count": 56,
   "metadata": {
    "colab": {
     "base_uri": "https://localhost:8080/",
     "height": 237
    },
    "colab_type": "code",
    "executionInfo": {
     "elapsed": 963,
     "status": "ok",
     "timestamp": 1600520436025,
     "user": {
      "displayName": "Eswar Poluri",
      "photoUrl": "https://lh3.googleusercontent.com/a-/AOh14Gj2twFS3_zJQCgs07nkQBHCl4KgQC_Bh298yJkdjOg=s64",
      "userId": "17891988430079875549"
     },
     "user_tz": -330
    },
    "id": "cKRIPS_7YBpA",
    "outputId": "87bbfa4d-4203-4b79-c19d-fdba313aa404"
   },
   "outputs": [
    {
     "data": {
      "text/html": [
       "<div>\n",
       "<style scoped>\n",
       "    .dataframe tbody tr th:only-of-type {\n",
       "        vertical-align: middle;\n",
       "    }\n",
       "\n",
       "    .dataframe tbody tr th {\n",
       "        vertical-align: top;\n",
       "    }\n",
       "\n",
       "    .dataframe thead th {\n",
       "        text-align: right;\n",
       "    }\n",
       "</style>\n",
       "<table border=\"1\" class=\"dataframe\">\n",
       "  <thead>\n",
       "    <tr style=\"text-align: right;\">\n",
       "      <th></th>\n",
       "      <th>school_code</th>\n",
       "      <th>class</th>\n",
       "      <th>name</th>\n",
       "      <th>date_of_birth</th>\n",
       "      <th>weight</th>\n",
       "    </tr>\n",
       "  </thead>\n",
       "  <tbody>\n",
       "    <tr>\n",
       "      <th>1</th>\n",
       "      <td>s001</td>\n",
       "      <td>V</td>\n",
       "      <td>Alberto Franco</td>\n",
       "      <td>15/05/2002</td>\n",
       "      <td>35</td>\n",
       "    </tr>\n",
       "    <tr>\n",
       "      <th>2</th>\n",
       "      <td>s002</td>\n",
       "      <td>V</td>\n",
       "      <td>Gino Mcneill</td>\n",
       "      <td>17/05/2002</td>\n",
       "      <td>32</td>\n",
       "    </tr>\n",
       "    <tr>\n",
       "      <th>3</th>\n",
       "      <td>s003</td>\n",
       "      <td>VI</td>\n",
       "      <td>Ryan Parkes</td>\n",
       "      <td>16/02/1999</td>\n",
       "      <td>33</td>\n",
       "    </tr>\n",
       "    <tr>\n",
       "      <th>4</th>\n",
       "      <td>s001</td>\n",
       "      <td>VI</td>\n",
       "      <td>Eesha Hinton</td>\n",
       "      <td>25/09/1998</td>\n",
       "      <td>30</td>\n",
       "    </tr>\n",
       "    <tr>\n",
       "      <th>5</th>\n",
       "      <td>s002</td>\n",
       "      <td>V</td>\n",
       "      <td>Gino Mcneill</td>\n",
       "      <td>11/05/2002</td>\n",
       "      <td>31</td>\n",
       "    </tr>\n",
       "    <tr>\n",
       "      <th>6</th>\n",
       "      <td>s004</td>\n",
       "      <td>VI</td>\n",
       "      <td>David Parkes</td>\n",
       "      <td>15/09/1997</td>\n",
       "      <td>32</td>\n",
       "    </tr>\n",
       "  </tbody>\n",
       "</table>\n",
       "</div>"
      ],
      "text/plain": [
       "  school_code class            name date_of_birth  weight\n",
       "1        s001     V  Alberto Franco    15/05/2002      35\n",
       "2        s002     V    Gino Mcneill    17/05/2002      32\n",
       "3        s003    VI     Ryan Parkes    16/02/1999      33\n",
       "4        s001    VI    Eesha Hinton    25/09/1998      30\n",
       "5        s002     V    Gino Mcneill    11/05/2002      31\n",
       "6        s004    VI    David Parkes    15/09/1997      32"
      ]
     },
     "execution_count": 56,
     "metadata": {},
     "output_type": "execute_result"
    }
   ],
   "source": [
    "# new column\n",
    "date_of_birth = ['15/05/2002','17/05/2002','16/02/1999','25/09/1998','11/05/2002','15/09/1997']\n",
    "df.insert(loc=3, column='date_of_birth', value=date_of_birth)\n",
    "df"
   ]
  },
  {
   "cell_type": "markdown",
   "metadata": {
    "colab_type": "text",
    "id": "cz9f1Iii7V8y"
   },
   "source": [
    "Q23. Write a Pandas program to print above DataFrame without index."
   ]
  },
  {
   "cell_type": "code",
   "execution_count": 57,
   "metadata": {
    "colab": {
     "base_uri": "https://localhost:8080/",
     "height": 138
    },
    "colab_type": "code",
    "executionInfo": {
     "elapsed": 1985,
     "status": "ok",
     "timestamp": 1600520664464,
     "user": {
      "displayName": "Eswar Poluri",
      "photoUrl": "https://lh3.googleusercontent.com/a-/AOh14Gj2twFS3_zJQCgs07nkQBHCl4KgQC_Bh298yJkdjOg=s64",
      "userId": "17891988430079875549"
     },
     "user_tz": -330
    },
    "id": "AsDMzA2oYBme",
    "outputId": "d5756d61-0bdf-4414-9429-6810dedf6031"
   },
   "outputs": [
    {
     "name": "stdout",
     "output_type": "stream",
     "text": [
      "school_code class            name date_of_birth  weight\n",
      "       s001     V  Alberto Franco    15/05/2002      35\n",
      "       s002     V    Gino Mcneill    17/05/2002      32\n",
      "       s003    VI     Ryan Parkes    16/02/1999      33\n",
      "       s001    VI    Eesha Hinton    25/09/1998      30\n",
      "       s002     V    Gino Mcneill    11/05/2002      31\n",
      "       s004    VI    David Parkes    15/09/1997      32\n"
     ]
    }
   ],
   "source": [
    "print(df.to_string(index=False))"
   ]
  },
  {
   "cell_type": "markdown",
   "metadata": {
    "colab_type": "text",
    "id": "XW2l4WD87kBw"
   },
   "source": [
    "Q24. Write a Pandas program to find integer index of rows with missing data in weight column of a given dataframe."
   ]
  },
  {
   "cell_type": "code",
   "execution_count": 57,
   "metadata": {
    "colab": {
     "base_uri": "https://localhost:8080/",
     "height": 237
    },
    "colab_type": "code",
    "executionInfo": {
     "elapsed": 1538,
     "status": "ok",
     "timestamp": 1600521450349,
     "user": {
      "displayName": "Eswar Poluri",
      "photoUrl": "https://lh3.googleusercontent.com/a-/AOh14Gj2twFS3_zJQCgs07nkQBHCl4KgQC_Bh298yJkdjOg=s64",
      "userId": "17891988430079875549"
     },
     "user_tz": -330
    },
    "id": "gDoFpK9fYBTk",
    "outputId": "119444be-2cfc-40d2-cebd-06ce6107ea5a"
   },
   "outputs": [
    {
     "data": {
      "text/html": [
       "<div>\n",
       "<style scoped>\n",
       "    .dataframe tbody tr th:only-of-type {\n",
       "        vertical-align: middle;\n",
       "    }\n",
       "\n",
       "    .dataframe tbody tr th {\n",
       "        vertical-align: top;\n",
       "    }\n",
       "\n",
       "    .dataframe thead th {\n",
       "        text-align: right;\n",
       "    }\n",
       "</style>\n",
       "<table border=\"1\" class=\"dataframe\">\n",
       "  <thead>\n",
       "    <tr style=\"text-align: right;\">\n",
       "      <th></th>\n",
       "      <th>school_code</th>\n",
       "      <th>class</th>\n",
       "      <th>name</th>\n",
       "      <th>date_of_birth</th>\n",
       "      <th>weight</th>\n",
       "    </tr>\n",
       "  </thead>\n",
       "  <tbody>\n",
       "    <tr>\n",
       "      <th>t1</th>\n",
       "      <td>s001</td>\n",
       "      <td>V</td>\n",
       "      <td>Alberto Franco</td>\n",
       "      <td>15/05/2002</td>\n",
       "      <td>35.0</td>\n",
       "    </tr>\n",
       "    <tr>\n",
       "      <th>t2</th>\n",
       "      <td>s002</td>\n",
       "      <td>V</td>\n",
       "      <td>Gino Mcneill</td>\n",
       "      <td>17/05/2002</td>\n",
       "      <td>NaN</td>\n",
       "    </tr>\n",
       "    <tr>\n",
       "      <th>t3</th>\n",
       "      <td>s003</td>\n",
       "      <td>VI</td>\n",
       "      <td>Ryan Parkes</td>\n",
       "      <td>16/02/1999</td>\n",
       "      <td>33.0</td>\n",
       "    </tr>\n",
       "    <tr>\n",
       "      <th>t4</th>\n",
       "      <td>s001</td>\n",
       "      <td>VI</td>\n",
       "      <td>Eesha Hinton</td>\n",
       "      <td>25/09/1998</td>\n",
       "      <td>30.0</td>\n",
       "    </tr>\n",
       "    <tr>\n",
       "      <th>t5</th>\n",
       "      <td>s002</td>\n",
       "      <td>V</td>\n",
       "      <td>Gino Mcneill</td>\n",
       "      <td>11/05/2002</td>\n",
       "      <td>31.0</td>\n",
       "    </tr>\n",
       "    <tr>\n",
       "      <th>t6</th>\n",
       "      <td>s004</td>\n",
       "      <td>VI</td>\n",
       "      <td>David Parkes</td>\n",
       "      <td>15/09/1997</td>\n",
       "      <td>NaN</td>\n",
       "    </tr>\n",
       "  </tbody>\n",
       "</table>\n",
       "</div>"
      ],
      "text/plain": [
       "   school_code class            name date_of_birth  weight\n",
       "t1        s001     V  Alberto Franco    15/05/2002    35.0\n",
       "t2        s002     V    Gino Mcneill    17/05/2002     NaN\n",
       "t3        s003    VI     Ryan Parkes    16/02/1999    33.0\n",
       "t4        s001    VI    Eesha Hinton    25/09/1998    30.0\n",
       "t5        s002     V    Gino Mcneill    11/05/2002    31.0\n",
       "t6        s004    VI    David Parkes    15/09/1997     NaN"
      ]
     },
     "execution_count": 57,
     "metadata": {},
     "output_type": "execute_result"
    }
   ],
   "source": [
    "df = pd.DataFrame({\n",
    "    'school_code': ['s001','s002','s003','s001','s002','s004'],\n",
    "    'class': ['V', 'V', 'VI', 'VI', 'V', 'VI'],\n",
    "    'name': ['Alberto Franco','Gino Mcneill','Ryan Parkes', 'Eesha Hinton', 'Gino Mcneill', 'David Parkes'],\n",
    "    'date_of_birth': ['15/05/2002','17/05/2002','16/02/1999','25/09/1998','11/05/2002','15/09/1997'],\n",
    "    'weight': [35, None, 33, 30, 31, None]},\n",
    "     index = ['t1', 't2', 't3', 't4', 't5', 't6'])\n",
    "df"
   ]
  },
  {
   "cell_type": "code",
   "execution_count": 58,
   "metadata": {
    "colab": {
     "base_uri": "https://localhost:8080/",
     "height": 34
    },
    "colab_type": "code",
    "executionInfo": {
     "elapsed": 1197,
     "status": "ok",
     "timestamp": 1600521172637,
     "user": {
      "displayName": "Eswar Poluri",
      "photoUrl": "https://lh3.googleusercontent.com/a-/AOh14Gj2twFS3_zJQCgs07nkQBHCl4KgQC_Bh298yJkdjOg=s64",
      "userId": "17891988430079875549"
     },
     "user_tz": -330
    },
    "id": "bkXfcepjeErf",
    "outputId": "14f7eaec-1809-4016-cb71-6c29c81439bc"
   },
   "outputs": [
    {
     "data": {
      "text/plain": [
       "['t2', 't6']"
      ]
     },
     "execution_count": 58,
     "metadata": {},
     "output_type": "execute_result"
    }
   ],
   "source": [
    "l = df.index[df['weight'].apply(np.isnan)].values.tolist() # Conditional indexing to fetch index of nan values in weight column\n",
    "l"
   ]
  },
  {
   "cell_type": "code",
   "execution_count": 60,
   "metadata": {
    "colab": {
     "base_uri": "https://localhost:8080/",
     "height": 34
    },
    "colab_type": "code",
    "executionInfo": {
     "elapsed": 1461,
     "status": "ok",
     "timestamp": 1600521190940,
     "user": {
      "displayName": "Eswar Poluri",
      "photoUrl": "https://lh3.googleusercontent.com/a-/AOh14Gj2twFS3_zJQCgs07nkQBHCl4KgQC_Bh298yJkdjOg=s64",
      "userId": "17891988430079875549"
     },
     "user_tz": -330
    },
    "id": "DdKKEftTeqNc",
    "outputId": "2eaa68ed-1568-4bce-f995-b8dc114ae426"
   },
   "outputs": [
    {
     "data": {
      "text/plain": [
       "[1, 5]"
      ]
     },
     "execution_count": 60,
     "metadata": {},
     "output_type": "execute_result"
    }
   ],
   "source": [
    "[df.index.get_loc(i) for i in l] # Integer index of rows with missing data in 'weight' column"
   ]
  },
  {
   "cell_type": "markdown",
   "metadata": {
    "colab_type": "text",
    "id": "N9eO4iFS8R63"
   },
   "source": [
    "Q25. Write a Pandas program to start index with different value rather than 0 in a above DataFrame."
   ]
  },
  {
   "cell_type": "code",
   "execution_count": 61,
   "metadata": {
    "colab": {
     "base_uri": "https://localhost:8080/",
     "height": 237
    },
    "colab_type": "code",
    "executionInfo": {
     "elapsed": 1300,
     "status": "ok",
     "timestamp": 1600521453750,
     "user": {
      "displayName": "Eswar Poluri",
      "photoUrl": "https://lh3.googleusercontent.com/a-/AOh14Gj2twFS3_zJQCgs07nkQBHCl4KgQC_Bh298yJkdjOg=s64",
      "userId": "17891988430079875549"
     },
     "user_tz": -330
    },
    "id": "Nzw93e8GYBOB",
    "outputId": "884f47d7-c77e-4d89-eec7-0cd54d556ac2"
   },
   "outputs": [
    {
     "data": {
      "text/html": [
       "<div>\n",
       "<style scoped>\n",
       "    .dataframe tbody tr th:only-of-type {\n",
       "        vertical-align: middle;\n",
       "    }\n",
       "\n",
       "    .dataframe tbody tr th {\n",
       "        vertical-align: top;\n",
       "    }\n",
       "\n",
       "    .dataframe thead th {\n",
       "        text-align: right;\n",
       "    }\n",
       "</style>\n",
       "<table border=\"1\" class=\"dataframe\">\n",
       "  <thead>\n",
       "    <tr style=\"text-align: right;\">\n",
       "      <th></th>\n",
       "      <th>school_code</th>\n",
       "      <th>class</th>\n",
       "      <th>name</th>\n",
       "      <th>date_of_birth</th>\n",
       "      <th>weight</th>\n",
       "    </tr>\n",
       "  </thead>\n",
       "  <tbody>\n",
       "    <tr>\n",
       "      <th>0</th>\n",
       "      <td>s001</td>\n",
       "      <td>V</td>\n",
       "      <td>Alberto Franco</td>\n",
       "      <td>15/05/2002</td>\n",
       "      <td>35.0</td>\n",
       "    </tr>\n",
       "    <tr>\n",
       "      <th>1</th>\n",
       "      <td>s002</td>\n",
       "      <td>V</td>\n",
       "      <td>Gino Mcneill</td>\n",
       "      <td>17/05/2002</td>\n",
       "      <td>NaN</td>\n",
       "    </tr>\n",
       "    <tr>\n",
       "      <th>2</th>\n",
       "      <td>s003</td>\n",
       "      <td>VI</td>\n",
       "      <td>Ryan Parkes</td>\n",
       "      <td>16/02/1999</td>\n",
       "      <td>33.0</td>\n",
       "    </tr>\n",
       "    <tr>\n",
       "      <th>3</th>\n",
       "      <td>s001</td>\n",
       "      <td>VI</td>\n",
       "      <td>Eesha Hinton</td>\n",
       "      <td>25/09/1998</td>\n",
       "      <td>30.0</td>\n",
       "    </tr>\n",
       "    <tr>\n",
       "      <th>4</th>\n",
       "      <td>s002</td>\n",
       "      <td>V</td>\n",
       "      <td>Gino Mcneill</td>\n",
       "      <td>11/05/2002</td>\n",
       "      <td>31.0</td>\n",
       "    </tr>\n",
       "    <tr>\n",
       "      <th>5</th>\n",
       "      <td>s004</td>\n",
       "      <td>VI</td>\n",
       "      <td>David Parkes</td>\n",
       "      <td>15/09/1997</td>\n",
       "      <td>NaN</td>\n",
       "    </tr>\n",
       "  </tbody>\n",
       "</table>\n",
       "</div>"
      ],
      "text/plain": [
       "  school_code class            name date_of_birth  weight\n",
       "0        s001     V  Alberto Franco    15/05/2002    35.0\n",
       "1        s002     V    Gino Mcneill    17/05/2002     NaN\n",
       "2        s003    VI     Ryan Parkes    16/02/1999    33.0\n",
       "3        s001    VI    Eesha Hinton    25/09/1998    30.0\n",
       "4        s002     V    Gino Mcneill    11/05/2002    31.0\n",
       "5        s004    VI    David Parkes    15/09/1997     NaN"
      ]
     },
     "execution_count": 61,
     "metadata": {},
     "output_type": "execute_result"
    }
   ],
   "source": [
    "df.reset_index(drop=True, inplace=True)\n",
    "df"
   ]
  },
  {
   "cell_type": "code",
   "execution_count": 62,
   "metadata": {
    "colab": {},
    "colab_type": "code",
    "executionInfo": {
     "elapsed": 1354,
     "status": "ok",
     "timestamp": 1600521616450,
     "user": {
      "displayName": "Eswar Poluri",
      "photoUrl": "https://lh3.googleusercontent.com/a-/AOh14Gj2twFS3_zJQCgs07nkQBHCl4KgQC_Bh298yJkdjOg=s64",
      "userId": "17891988430079875549"
     },
     "user_tz": -330
    },
    "id": "xW2nHBRigxq2"
   },
   "outputs": [],
   "source": [
    "df.index += 10"
   ]
  },
  {
   "cell_type": "code",
   "execution_count": 63,
   "metadata": {
    "colab": {
     "base_uri": "https://localhost:8080/",
     "height": 237
    },
    "colab_type": "code",
    "executionInfo": {
     "elapsed": 1969,
     "status": "ok",
     "timestamp": 1600521706706,
     "user": {
      "displayName": "Eswar Poluri",
      "photoUrl": "https://lh3.googleusercontent.com/a-/AOh14Gj2twFS3_zJQCgs07nkQBHCl4KgQC_Bh298yJkdjOg=s64",
      "userId": "17891988430079875549"
     },
     "user_tz": -330
    },
    "id": "CXF4Io8ihfF0",
    "outputId": "0484a67c-4e60-413b-ccff-d0aa645f4b39"
   },
   "outputs": [
    {
     "data": {
      "text/html": [
       "<div>\n",
       "<style scoped>\n",
       "    .dataframe tbody tr th:only-of-type {\n",
       "        vertical-align: middle;\n",
       "    }\n",
       "\n",
       "    .dataframe tbody tr th {\n",
       "        vertical-align: top;\n",
       "    }\n",
       "\n",
       "    .dataframe thead th {\n",
       "        text-align: right;\n",
       "    }\n",
       "</style>\n",
       "<table border=\"1\" class=\"dataframe\">\n",
       "  <thead>\n",
       "    <tr style=\"text-align: right;\">\n",
       "      <th></th>\n",
       "      <th>school_code</th>\n",
       "      <th>class</th>\n",
       "      <th>name</th>\n",
       "      <th>date_of_birth</th>\n",
       "      <th>weight</th>\n",
       "    </tr>\n",
       "  </thead>\n",
       "  <tbody>\n",
       "    <tr>\n",
       "      <th>10</th>\n",
       "      <td>s001</td>\n",
       "      <td>V</td>\n",
       "      <td>Alberto Franco</td>\n",
       "      <td>15/05/2002</td>\n",
       "      <td>35.0</td>\n",
       "    </tr>\n",
       "    <tr>\n",
       "      <th>11</th>\n",
       "      <td>s002</td>\n",
       "      <td>V</td>\n",
       "      <td>Gino Mcneill</td>\n",
       "      <td>17/05/2002</td>\n",
       "      <td>NaN</td>\n",
       "    </tr>\n",
       "    <tr>\n",
       "      <th>12</th>\n",
       "      <td>s003</td>\n",
       "      <td>VI</td>\n",
       "      <td>Ryan Parkes</td>\n",
       "      <td>16/02/1999</td>\n",
       "      <td>33.0</td>\n",
       "    </tr>\n",
       "    <tr>\n",
       "      <th>13</th>\n",
       "      <td>s001</td>\n",
       "      <td>VI</td>\n",
       "      <td>Eesha Hinton</td>\n",
       "      <td>25/09/1998</td>\n",
       "      <td>30.0</td>\n",
       "    </tr>\n",
       "    <tr>\n",
       "      <th>14</th>\n",
       "      <td>s002</td>\n",
       "      <td>V</td>\n",
       "      <td>Gino Mcneill</td>\n",
       "      <td>11/05/2002</td>\n",
       "      <td>31.0</td>\n",
       "    </tr>\n",
       "    <tr>\n",
       "      <th>15</th>\n",
       "      <td>s004</td>\n",
       "      <td>VI</td>\n",
       "      <td>David Parkes</td>\n",
       "      <td>15/09/1997</td>\n",
       "      <td>NaN</td>\n",
       "    </tr>\n",
       "  </tbody>\n",
       "</table>\n",
       "</div>"
      ],
      "text/plain": [
       "   school_code class            name date_of_birth  weight\n",
       "10        s001     V  Alberto Franco    15/05/2002    35.0\n",
       "11        s002     V    Gino Mcneill    17/05/2002     NaN\n",
       "12        s003    VI     Ryan Parkes    16/02/1999    33.0\n",
       "13        s001    VI    Eesha Hinton    25/09/1998    30.0\n",
       "14        s002     V    Gino Mcneill    11/05/2002    31.0\n",
       "15        s004    VI    David Parkes    15/09/1997     NaN"
      ]
     },
     "execution_count": 63,
     "metadata": {},
     "output_type": "execute_result"
    }
   ],
   "source": [
    "df"
   ]
  },
  {
   "cell_type": "markdown",
   "metadata": {
    "colab_type": "text",
    "id": "adlygwRc8pM6"
   },
   "source": [
    "Q26. Write a Pandas program to select rows by filtering the value t2 in index tcode of multi-index dataframe."
   ]
  },
  {
   "cell_type": "code",
   "execution_count": 60,
   "metadata": {
    "colab": {
     "base_uri": "https://localhost:8080/",
     "height": 268
    },
    "colab_type": "code",
    "executionInfo": {
     "elapsed": 1478,
     "status": "ok",
     "timestamp": 1600521821580,
     "user": {
      "displayName": "Eswar Poluri",
      "photoUrl": "https://lh3.googleusercontent.com/a-/AOh14Gj2twFS3_zJQCgs07nkQBHCl4KgQC_Bh298yJkdjOg=s64",
      "userId": "17891988430079875549"
     },
     "user_tz": -330
    },
    "id": "G0HOWmrZYBHL",
    "outputId": "332928eb-dd9c-47de-9177-ef10da993d08"
   },
   "outputs": [
    {
     "data": {
      "text/html": [
       "<div>\n",
       "<style scoped>\n",
       "    .dataframe tbody tr th:only-of-type {\n",
       "        vertical-align: middle;\n",
       "    }\n",
       "\n",
       "    .dataframe tbody tr th {\n",
       "        vertical-align: top;\n",
       "    }\n",
       "\n",
       "    .dataframe thead th {\n",
       "        text-align: right;\n",
       "    }\n",
       "</style>\n",
       "<table border=\"1\" class=\"dataframe\">\n",
       "  <thead>\n",
       "    <tr style=\"text-align: right;\">\n",
       "      <th></th>\n",
       "      <th></th>\n",
       "      <th>class</th>\n",
       "      <th>name</th>\n",
       "      <th>date_of_birth</th>\n",
       "      <th>weight</th>\n",
       "    </tr>\n",
       "    <tr>\n",
       "      <th>tcode</th>\n",
       "      <th>school_code</th>\n",
       "      <th></th>\n",
       "      <th></th>\n",
       "      <th></th>\n",
       "      <th></th>\n",
       "    </tr>\n",
       "  </thead>\n",
       "  <tbody>\n",
       "    <tr>\n",
       "      <th>t1</th>\n",
       "      <th>s001</th>\n",
       "      <td>V</td>\n",
       "      <td>Alberto Franco</td>\n",
       "      <td>15/05/2002</td>\n",
       "      <td>35</td>\n",
       "    </tr>\n",
       "    <tr>\n",
       "      <th>t2</th>\n",
       "      <th>s002</th>\n",
       "      <td>V</td>\n",
       "      <td>Gino Mcneill</td>\n",
       "      <td>17/05/2002</td>\n",
       "      <td>37</td>\n",
       "    </tr>\n",
       "    <tr>\n",
       "      <th>t3</th>\n",
       "      <th>s003</th>\n",
       "      <td>VI</td>\n",
       "      <td>Ryan Parkes</td>\n",
       "      <td>16/02/1999</td>\n",
       "      <td>33</td>\n",
       "    </tr>\n",
       "    <tr>\n",
       "      <th>t4</th>\n",
       "      <th>s001</th>\n",
       "      <td>VI</td>\n",
       "      <td>Eesha Hinton</td>\n",
       "      <td>25/09/1998</td>\n",
       "      <td>30</td>\n",
       "    </tr>\n",
       "    <tr>\n",
       "      <th>t5</th>\n",
       "      <th>s002</th>\n",
       "      <td>V</td>\n",
       "      <td>Gino Mcneill</td>\n",
       "      <td>11/05/2002</td>\n",
       "      <td>31</td>\n",
       "    </tr>\n",
       "    <tr>\n",
       "      <th>t6</th>\n",
       "      <th>s004</th>\n",
       "      <td>VI</td>\n",
       "      <td>David Parkes</td>\n",
       "      <td>15/09/1997</td>\n",
       "      <td>32</td>\n",
       "    </tr>\n",
       "  </tbody>\n",
       "</table>\n",
       "</div>"
      ],
      "text/plain": [
       "                  class            name date_of_birth  weight\n",
       "tcode school_code                                            \n",
       "t1    s001            V  Alberto Franco    15/05/2002      35\n",
       "t2    s002            V    Gino Mcneill    17/05/2002      37\n",
       "t3    s003           VI     Ryan Parkes    16/02/1999      33\n",
       "t4    s001           VI    Eesha Hinton    25/09/1998      30\n",
       "t5    s002            V    Gino Mcneill    11/05/2002      31\n",
       "t6    s004           VI    David Parkes    15/09/1997      32"
      ]
     },
     "execution_count": 60,
     "metadata": {},
     "output_type": "execute_result"
    }
   ],
   "source": [
    "df = pd.DataFrame({\n",
    "    'school_code': ['s001','s002','s003','s001','s002','s004'],\n",
    "    'class': ['V', 'V', 'VI', 'VI', 'V', 'VI'],\n",
    "    'name': ['Alberto Franco','Gino Mcneill','Ryan Parkes', 'Eesha Hinton', 'Gino Mcneill', 'David Parkes'],\n",
    "    'date_of_birth': ['15/05/2002','17/05/2002','16/02/1999','25/09/1998','11/05/2002','15/09/1997'],\n",
    "    'weight': [35, 37, 33, 30, 31, 32],\n",
    "    'tcode': ['t1', 't2', 't3', 't4', 't5', 't6']})  \n",
    "df = df.set_index(['tcode', 'school_code'])\n",
    "df"
   ]
  },
  {
   "cell_type": "code",
   "execution_count": 61,
   "metadata": {
    "colab": {
     "base_uri": "https://localhost:8080/",
     "height": 112
    },
    "colab_type": "code",
    "executionInfo": {
     "elapsed": 1325,
     "status": "ok",
     "timestamp": 1600521821580,
     "user": {
      "displayName": "Eswar Poluri",
      "photoUrl": "https://lh3.googleusercontent.com/a-/AOh14Gj2twFS3_zJQCgs07nkQBHCl4KgQC_Bh298yJkdjOg=s64",
      "userId": "17891988430079875549"
     },
     "user_tz": -330
    },
    "id": "XMIVewFPYBEN",
    "outputId": "b5695a59-d88d-4f6d-817a-42be2924c7f6"
   },
   "outputs": [
    {
     "data": {
      "text/html": [
       "<div>\n",
       "<style scoped>\n",
       "    .dataframe tbody tr th:only-of-type {\n",
       "        vertical-align: middle;\n",
       "    }\n",
       "\n",
       "    .dataframe tbody tr th {\n",
       "        vertical-align: top;\n",
       "    }\n",
       "\n",
       "    .dataframe thead th {\n",
       "        text-align: right;\n",
       "    }\n",
       "</style>\n",
       "<table border=\"1\" class=\"dataframe\">\n",
       "  <thead>\n",
       "    <tr style=\"text-align: right;\">\n",
       "      <th></th>\n",
       "      <th></th>\n",
       "      <th>class</th>\n",
       "      <th>name</th>\n",
       "      <th>date_of_birth</th>\n",
       "      <th>weight</th>\n",
       "    </tr>\n",
       "    <tr>\n",
       "      <th>tcode</th>\n",
       "      <th>school_code</th>\n",
       "      <th></th>\n",
       "      <th></th>\n",
       "      <th></th>\n",
       "      <th></th>\n",
       "    </tr>\n",
       "  </thead>\n",
       "  <tbody>\n",
       "    <tr>\n",
       "      <th>t2</th>\n",
       "      <th>s002</th>\n",
       "      <td>V</td>\n",
       "      <td>Gino Mcneill</td>\n",
       "      <td>17/05/2002</td>\n",
       "      <td>37</td>\n",
       "    </tr>\n",
       "  </tbody>\n",
       "</table>\n",
       "</div>"
      ],
      "text/plain": [
       "                  class          name date_of_birth  weight\n",
       "tcode school_code                                          \n",
       "t2    s002            V  Gino Mcneill    17/05/2002      37"
      ]
     },
     "execution_count": 61,
     "metadata": {},
     "output_type": "execute_result"
    }
   ],
   "source": [
    "# Sol-1\n",
    "df.query(\"tcode == 't2'\")"
   ]
  },
  {
   "cell_type": "code",
   "execution_count": 75,
   "metadata": {},
   "outputs": [
    {
     "data": {
      "text/plain": [
       "class                       V\n",
       "name             Gino Mcneill\n",
       "date_of_birth      17/05/2002\n",
       "weight                     37\n",
       "Name: (t2, s002), dtype: object"
      ]
     },
     "execution_count": 75,
     "metadata": {},
     "output_type": "execute_result"
    }
   ],
   "source": [
    "# Sol-2\n",
    "df.loc[('t2', 's002'),:]"
   ]
  }
 ],
 "metadata": {
  "colab": {
   "authorship_tag": "ABX9TyMvw/94CA5y1JgxdlxAbVR/",
   "collapsed_sections": [],
   "name": "Pandas_Indexing Answers.ipynb",
   "provenance": [
    {
     "file_id": "1rSLQxITt0ZwAoS5WLhfWh1g05rCxhqek",
     "timestamp": 1600499785201
    }
   ]
  },
  "kernelspec": {
   "display_name": "Python 3",
   "language": "python",
   "name": "python3"
  },
  "language_info": {
   "codemirror_mode": {
    "name": "ipython",
    "version": 3
   },
   "file_extension": ".py",
   "mimetype": "text/x-python",
   "name": "python",
   "nbconvert_exporter": "python",
   "pygments_lexer": "ipython3",
   "version": "3.7.7"
  }
 },
 "nbformat": 4,
 "nbformat_minor": 1
}
