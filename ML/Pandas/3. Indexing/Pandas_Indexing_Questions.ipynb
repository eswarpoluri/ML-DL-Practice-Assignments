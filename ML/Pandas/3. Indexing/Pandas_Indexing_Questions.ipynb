{
  "nbformat": 4,
  "nbformat_minor": 0,
  "metadata": {
    "colab": {
      "name": "Pandas_Indexing Questions.ipynb",
      "provenance": [],
      "collapsed_sections": []
    },
    "kernelspec": {
      "name": "python3",
      "display_name": "Python 3"
    }
  },
  "cells": [
    {
      "cell_type": "code",
      "metadata": {
        "id": "oLJDU1vVX0me",
        "colab_type": "code",
        "colab": {}
      },
      "source": [
        "import pandas as pd\n",
        "import numpy as np"
      ],
      "execution_count": null,
      "outputs": []
    },
    {
      "cell_type": "markdown",
      "metadata": {
        "id": "fcZke-XdYT4b",
        "colab_type": "text"
      },
      "source": [
        "Q1. Write a Pandas program to set t_id column as an Index in a given dataframe."
      ]
    },
    {
      "cell_type": "code",
      "metadata": {
        "id": "K9jGe2OgX_-Z",
        "colab_type": "code",
        "colab": {
          "base_uri": "https://localhost:8080/",
          "height": 237
        },
        "outputId": "31fea2b2-5c2a-49fe-c47a-bccf7d6dfa4d"
      },
      "source": [
        "df1 = pd.DataFrame({\n",
        "    'school_code': ['s001','s002','s003','s001','s002','s004'],\n",
        "    'class': ['V', 'V', 'VI', 'VI', 'V', 'VI'],\n",
        "    'name': ['Alberto Franco','Gino Mcneill','Ryan Parkes', 'Eesha Hinton', 'Gino Mcneill', 'David Parkes'],\n",
        "    'date_Of_Birth': ['15/05/2002','17/05/2002','16/02/1999','25/09/1998','11/05/2002','15/09/1997'],\n",
        "    'weight': [35, 32, 33, 30, 31, 32],\n",
        "    'address': ['street1', 'street2', 'street3', 'street1', 'street2', 'street4'],\n",
        "    't_id':['t1', 't2', 't3', 't4', 't5', 't6']})\n",
        "df1"
      ],
      "execution_count": null,
      "outputs": [
        {
          "output_type": "execute_result",
          "data": {
            "text/html": [
              "<div>\n",
              "<style scoped>\n",
              "    .dataframe tbody tr th:only-of-type {\n",
              "        vertical-align: middle;\n",
              "    }\n",
              "\n",
              "    .dataframe tbody tr th {\n",
              "        vertical-align: top;\n",
              "    }\n",
              "\n",
              "    .dataframe thead th {\n",
              "        text-align: right;\n",
              "    }\n",
              "</style>\n",
              "<table border=\"1\" class=\"dataframe\">\n",
              "  <thead>\n",
              "    <tr style=\"text-align: right;\">\n",
              "      <th></th>\n",
              "      <th>school_code</th>\n",
              "      <th>class</th>\n",
              "      <th>name</th>\n",
              "      <th>date_Of_Birth</th>\n",
              "      <th>weight</th>\n",
              "      <th>address</th>\n",
              "      <th>t_id</th>\n",
              "    </tr>\n",
              "  </thead>\n",
              "  <tbody>\n",
              "    <tr>\n",
              "      <th>0</th>\n",
              "      <td>s001</td>\n",
              "      <td>V</td>\n",
              "      <td>Alberto Franco</td>\n",
              "      <td>15/05/2002</td>\n",
              "      <td>35</td>\n",
              "      <td>street1</td>\n",
              "      <td>t1</td>\n",
              "    </tr>\n",
              "    <tr>\n",
              "      <th>1</th>\n",
              "      <td>s002</td>\n",
              "      <td>V</td>\n",
              "      <td>Gino Mcneill</td>\n",
              "      <td>17/05/2002</td>\n",
              "      <td>32</td>\n",
              "      <td>street2</td>\n",
              "      <td>t2</td>\n",
              "    </tr>\n",
              "    <tr>\n",
              "      <th>2</th>\n",
              "      <td>s003</td>\n",
              "      <td>VI</td>\n",
              "      <td>Ryan Parkes</td>\n",
              "      <td>16/02/1999</td>\n",
              "      <td>33</td>\n",
              "      <td>street3</td>\n",
              "      <td>t3</td>\n",
              "    </tr>\n",
              "    <tr>\n",
              "      <th>3</th>\n",
              "      <td>s001</td>\n",
              "      <td>VI</td>\n",
              "      <td>Eesha Hinton</td>\n",
              "      <td>25/09/1998</td>\n",
              "      <td>30</td>\n",
              "      <td>street1</td>\n",
              "      <td>t4</td>\n",
              "    </tr>\n",
              "    <tr>\n",
              "      <th>4</th>\n",
              "      <td>s002</td>\n",
              "      <td>V</td>\n",
              "      <td>Gino Mcneill</td>\n",
              "      <td>11/05/2002</td>\n",
              "      <td>31</td>\n",
              "      <td>street2</td>\n",
              "      <td>t5</td>\n",
              "    </tr>\n",
              "    <tr>\n",
              "      <th>5</th>\n",
              "      <td>s004</td>\n",
              "      <td>VI</td>\n",
              "      <td>David Parkes</td>\n",
              "      <td>15/09/1997</td>\n",
              "      <td>32</td>\n",
              "      <td>street4</td>\n",
              "      <td>t6</td>\n",
              "    </tr>\n",
              "  </tbody>\n",
              "</table>\n",
              "</div>"
            ],
            "text/plain": [
              "  school_code class            name date_Of_Birth  weight  address t_id\n",
              "0        s001     V  Alberto Franco    15/05/2002      35  street1   t1\n",
              "1        s002     V    Gino Mcneill    17/05/2002      32  street2   t2\n",
              "2        s003    VI     Ryan Parkes    16/02/1999      33  street3   t3\n",
              "3        s001    VI    Eesha Hinton    25/09/1998      30  street1   t4\n",
              "4        s002     V    Gino Mcneill    11/05/2002      31  street2   t5\n",
              "5        s004    VI    David Parkes    15/09/1997      32  street4   t6"
            ]
          },
          "metadata": {
            "tags": []
          },
          "execution_count": 3
        }
      ]
    },
    {
      "cell_type": "markdown",
      "metadata": {
        "id": "r8gi3umTYpOx",
        "colab_type": "text"
      },
      "source": [
        "Q2. Write a Pandas program to create a multi Index dataframe using two columns t_id, school_code."
      ]
    },
    {
      "cell_type": "code",
      "metadata": {
        "id": "zqS3nwlbYADY",
        "colab_type": "code",
        "colab": {}
      },
      "source": [
        ""
      ],
      "execution_count": null,
      "outputs": []
    },
    {
      "cell_type": "markdown",
      "metadata": {
        "id": "GMwWMeobZ7wE",
        "colab_type": "text"
      },
      "source": [
        " Q3. Write a Pandas program to \n",
        "\n",
        "  a. set a column 't_id' as an Index in a given dataframe without dropping from column\n",
        "\n",
        "   b. reset the index 't_id' to integer index without adding 't_id' as a repeated column."
      ]
    },
    {
      "cell_type": "code",
      "metadata": {
        "id": "j61HrCF5YAGK",
        "colab_type": "code",
        "colab": {}
      },
      "source": [
        ""
      ],
      "execution_count": null,
      "outputs": []
    },
    {
      "cell_type": "markdown",
      "metadata": {
        "id": "Qjve970Xanch",
        "colab_type": "text"
      },
      "source": [
        "Q4. Write a Pandas program to create an index labels index=[1, 2, 3, 4, 5, 6] by \n",
        "\n",
        "  a. using 64-bit integers, \n",
        "  \n",
        "  b. using floating-point numbers in a above dataframe."
      ]
    },
    {
      "cell_type": "code",
      "metadata": {
        "id": "ccSdCVwwYAI7",
        "colab_type": "code",
        "colab": {}
      },
      "source": [
        ""
      ],
      "execution_count": null,
      "outputs": []
    },
    {
      "cell_type": "markdown",
      "metadata": {
        "id": "iOd9J6ebo3Cv",
        "colab_type": "text"
      },
      "source": [
        "Q5. Write a Pandas program to create a DataFrame using intervals as an index.\n",
        "\n",
        "IntervalIndex represents an Index of Interval objects that are all closed on the same side.\n",
        "\n",
        "pandas.IntervalIndex.from_breaks: Construct an IntervalIndex from an array of splits\n",
        "\n",
        "pandas.IntervalIndex.from_tuples: Construct an IntervalIndex from a list/array of tuples\n",
        "\n",
        "pandas.IntervalIndex.from_arrays: Construct from two arrays defining the left and right bounds.\n",
        "\n",
        "    Output:\n",
        "                X\n",
        "    (0.0, 0.5]  1\n",
        "    (0.5, 1.0]  2\n",
        "    (1.0, 1.5]  3\n",
        "    (1.5, 2.0]  4\n",
        "    (2.0, 2.5]  5\n",
        "    (2.5, 3.0]  6\n",
        "    (3.0, 3.5]  7"
      ]
    },
    {
      "cell_type": "code",
      "metadata": {
        "id": "-5C_q6Djo7P0",
        "colab_type": "code",
        "colab": {}
      },
      "source": [
        "x=[1, 2, 3, 4, 5, 6, 7] # as column\n",
        "\n",
        "# Create an Interval Index using IntervalIndex.from_breaks:\n",
        "l=[0, 0.5, 1.0, 1.5, 2.0, 2.5, 3, 3.5] # list to make a intervelindex\n",
        "\n",
        "# Create an Interval Index using IntervalIndex.from_tuples:\n",
        "t=[(0, .5), (.5, 1), (1, 1.5), (1.5, 2), (2, 2.5), (2.5, 3), (3, 3.5)] # Tupples to make a intervelindex\n",
        "\n",
        "# Create an Interval Index using IntervalIndex.from_arrays:\n",
        "a, b = np.array([0, .5, 1, 1.5, 2, 2.5, 3]), np.array([.5, 1, 1.5, 2, 2.5, 3, 3.5]) # array to make a intervelindex\n"
      ],
      "execution_count": null,
      "outputs": []
    },
    {
      "cell_type": "markdown",
      "metadata": {
        "id": "LtAgqkiDROyj",
        "colab_type": "text"
      },
      "source": [
        "Q6. Write a Pandas program to create a dataframe with sale_amt as column and a datetime index of ten values by ."
      ]
    },
    {
      "cell_type": "code",
      "metadata": {
        "id": "dF9u0wH5YAW5",
        "colab_type": "code",
        "colab": {}
      },
      "source": [
        "Sale_amt=[100, 110, 117, 150, 112, 99, 129, 135, 140, 150]\n"
      ],
      "execution_count": null,
      "outputs": []
    },
    {
      "cell_type": "markdown",
      "metadata": {
        "id": "GEnALMvtZ3_U",
        "colab_type": "text"
      },
      "source": [
        "Q7. Write a Pandas program to set a name of index to Index_name in the above df"
      ]
    },
    {
      "cell_type": "code",
      "metadata": {
        "id": "zWAjd3XyYAe3",
        "colab_type": "code",
        "colab": {}
      },
      "source": [
        ""
      ],
      "execution_count": 4,
      "outputs": []
    },
    {
      "cell_type": "markdown",
      "metadata": {
        "id": "YOnLWQ9leINt",
        "colab_type": "text"
      },
      "source": [
        "Q8. Write a Pandas program to set value in a specific cell in a given dataframe using index.\n",
        "\n",
        "Replace the values of school_code and date_of_birth in t6 row to s005 and 16/05/2002 in the above dataframe"
      ]
    },
    {
      "cell_type": "code",
      "metadata": {
        "id": "W6o1hmtpYAnk",
        "colab_type": "code",
        "colab": {
          "base_uri": "https://localhost:8080/",
          "height": 237
        },
        "outputId": "f0c680a4-f978-4297-829d-de109e7c3a4f"
      },
      "source": [
        "df = pd.DataFrame({\n",
        "    'school_code': ['s001','s002','s003','s001','s002','s004'],\n",
        "    'class': ['V', 'V', 'VI', 'VI', 'V', 'VI'],\n",
        "    'name': ['Alberto Franco','Gino Mcneill','Ryan Parkes', 'Eesha Hinton', 'Gino Mcneill', 'David Parkes'],\n",
        "    'date_of_birth': ['15/05/2002','17/05/2002','16/02/1999','25/09/1998','11/05/2002','15/09/1997'],\n",
        "    'weight': [35, 32, 33, 30, 31, 32]},\n",
        "     index = ['t1', 't2', 't3', 't4', 't5', 't6'])\n",
        "df"
      ],
      "execution_count": 5,
      "outputs": [
        {
          "output_type": "execute_result",
          "data": {
            "text/html": [
              "<div>\n",
              "<style scoped>\n",
              "    .dataframe tbody tr th:only-of-type {\n",
              "        vertical-align: middle;\n",
              "    }\n",
              "\n",
              "    .dataframe tbody tr th {\n",
              "        vertical-align: top;\n",
              "    }\n",
              "\n",
              "    .dataframe thead th {\n",
              "        text-align: right;\n",
              "    }\n",
              "</style>\n",
              "<table border=\"1\" class=\"dataframe\">\n",
              "  <thead>\n",
              "    <tr style=\"text-align: right;\">\n",
              "      <th></th>\n",
              "      <th>school_code</th>\n",
              "      <th>class</th>\n",
              "      <th>name</th>\n",
              "      <th>date_of_birth</th>\n",
              "      <th>weight</th>\n",
              "    </tr>\n",
              "  </thead>\n",
              "  <tbody>\n",
              "    <tr>\n",
              "      <th>t1</th>\n",
              "      <td>s001</td>\n",
              "      <td>V</td>\n",
              "      <td>Alberto Franco</td>\n",
              "      <td>15/05/2002</td>\n",
              "      <td>35</td>\n",
              "    </tr>\n",
              "    <tr>\n",
              "      <th>t2</th>\n",
              "      <td>s002</td>\n",
              "      <td>V</td>\n",
              "      <td>Gino Mcneill</td>\n",
              "      <td>17/05/2002</td>\n",
              "      <td>32</td>\n",
              "    </tr>\n",
              "    <tr>\n",
              "      <th>t3</th>\n",
              "      <td>s003</td>\n",
              "      <td>VI</td>\n",
              "      <td>Ryan Parkes</td>\n",
              "      <td>16/02/1999</td>\n",
              "      <td>33</td>\n",
              "    </tr>\n",
              "    <tr>\n",
              "      <th>t4</th>\n",
              "      <td>s001</td>\n",
              "      <td>VI</td>\n",
              "      <td>Eesha Hinton</td>\n",
              "      <td>25/09/1998</td>\n",
              "      <td>30</td>\n",
              "    </tr>\n",
              "    <tr>\n",
              "      <th>t5</th>\n",
              "      <td>s002</td>\n",
              "      <td>V</td>\n",
              "      <td>Gino Mcneill</td>\n",
              "      <td>11/05/2002</td>\n",
              "      <td>31</td>\n",
              "    </tr>\n",
              "    <tr>\n",
              "      <th>t6</th>\n",
              "      <td>s004</td>\n",
              "      <td>VI</td>\n",
              "      <td>David Parkes</td>\n",
              "      <td>15/09/1997</td>\n",
              "      <td>32</td>\n",
              "    </tr>\n",
              "  </tbody>\n",
              "</table>\n",
              "</div>"
            ],
            "text/plain": [
              "   school_code class            name date_of_birth  weight\n",
              "t1        s001     V  Alberto Franco    15/05/2002      35\n",
              "t2        s002     V    Gino Mcneill    17/05/2002      32\n",
              "t3        s003    VI     Ryan Parkes    16/02/1999      33\n",
              "t4        s001    VI    Eesha Hinton    25/09/1998      30\n",
              "t5        s002     V    Gino Mcneill    11/05/2002      31\n",
              "t6        s004    VI    David Parkes    15/09/1997      32"
            ]
          },
          "metadata": {
            "tags": []
          },
          "execution_count": 5
        }
      ]
    },
    {
      "cell_type": "markdown",
      "metadata": {
        "id": "JfbDzjbypqqb",
        "colab_type": "text"
      },
      "source": [
        "Q9. Write a Pandas program to convert index of a above dataframe into a column."
      ]
    },
    {
      "cell_type": "code",
      "metadata": {
        "id": "TNFyzDdYYAv7",
        "colab_type": "code",
        "colab": {}
      },
      "source": [
        ""
      ],
      "execution_count": null,
      "outputs": []
    },
    {
      "cell_type": "markdown",
      "metadata": {
        "id": "88ReMcVxp0ke",
        "colab_type": "text"
      },
      "source": [
        "Q10. Write a Pandas program \n",
        "\n",
        "a. to set a multilevel index of t_id, school_code, class to the given dataframe and then\n",
        "\n",
        "b. convert 1st and 3rd levels in the index into columns from a multiple level of index frame."
      ]
    },
    {
      "cell_type": "code",
      "metadata": {
        "id": "VlZm6frMYA7j",
        "colab_type": "code",
        "colab": {
          "base_uri": "https://localhost:8080/",
          "height": 237
        },
        "outputId": "c7936c94-86d3-475a-e9ba-343b70c9d306"
      },
      "source": [
        "df = pd.DataFrame({\n",
        "    'school_code': ['s001','s002','s003','s001','s002','s004'],\n",
        "    'class': ['V', 'V', 'VI', 'VI', 'V', 'VI'],\n",
        "    'name': ['Alberto Franco','Gino Mcneill','Ryan Parkes', 'Eesha Hinton', 'Gino Mcneill', 'David Parkes'],\n",
        "    'date_of_birth': ['15/05/2002','17/05/2002','16/02/1999','25/09/1998','11/05/2002','15/09/1997'],\n",
        "    'weight': [35, 32, 33, 30, 31, 32],\n",
        "    't_id': ['t1', 't2', 't3', 't4', 't5', 't6']})\n",
        "df"
      ],
      "execution_count": null,
      "outputs": [
        {
          "output_type": "execute_result",
          "data": {
            "text/html": [
              "<div>\n",
              "<style scoped>\n",
              "    .dataframe tbody tr th:only-of-type {\n",
              "        vertical-align: middle;\n",
              "    }\n",
              "\n",
              "    .dataframe tbody tr th {\n",
              "        vertical-align: top;\n",
              "    }\n",
              "\n",
              "    .dataframe thead th {\n",
              "        text-align: right;\n",
              "    }\n",
              "</style>\n",
              "<table border=\"1\" class=\"dataframe\">\n",
              "  <thead>\n",
              "    <tr style=\"text-align: right;\">\n",
              "      <th></th>\n",
              "      <th>school_code</th>\n",
              "      <th>class</th>\n",
              "      <th>name</th>\n",
              "      <th>date_of_birth</th>\n",
              "      <th>weight</th>\n",
              "      <th>t_id</th>\n",
              "    </tr>\n",
              "  </thead>\n",
              "  <tbody>\n",
              "    <tr>\n",
              "      <th>0</th>\n",
              "      <td>s001</td>\n",
              "      <td>V</td>\n",
              "      <td>Alberto Franco</td>\n",
              "      <td>15/05/2002</td>\n",
              "      <td>35</td>\n",
              "      <td>t1</td>\n",
              "    </tr>\n",
              "    <tr>\n",
              "      <th>1</th>\n",
              "      <td>s002</td>\n",
              "      <td>V</td>\n",
              "      <td>Gino Mcneill</td>\n",
              "      <td>17/05/2002</td>\n",
              "      <td>32</td>\n",
              "      <td>t2</td>\n",
              "    </tr>\n",
              "    <tr>\n",
              "      <th>2</th>\n",
              "      <td>s003</td>\n",
              "      <td>VI</td>\n",
              "      <td>Ryan Parkes</td>\n",
              "      <td>16/02/1999</td>\n",
              "      <td>33</td>\n",
              "      <td>t3</td>\n",
              "    </tr>\n",
              "    <tr>\n",
              "      <th>3</th>\n",
              "      <td>s001</td>\n",
              "      <td>VI</td>\n",
              "      <td>Eesha Hinton</td>\n",
              "      <td>25/09/1998</td>\n",
              "      <td>30</td>\n",
              "      <td>t4</td>\n",
              "    </tr>\n",
              "    <tr>\n",
              "      <th>4</th>\n",
              "      <td>s002</td>\n",
              "      <td>V</td>\n",
              "      <td>Gino Mcneill</td>\n",
              "      <td>11/05/2002</td>\n",
              "      <td>31</td>\n",
              "      <td>t5</td>\n",
              "    </tr>\n",
              "    <tr>\n",
              "      <th>5</th>\n",
              "      <td>s004</td>\n",
              "      <td>VI</td>\n",
              "      <td>David Parkes</td>\n",
              "      <td>15/09/1997</td>\n",
              "      <td>32</td>\n",
              "      <td>t6</td>\n",
              "    </tr>\n",
              "  </tbody>\n",
              "</table>\n",
              "</div>"
            ],
            "text/plain": [
              "  school_code class            name date_of_birth  weight t_id\n",
              "0        s001     V  Alberto Franco    15/05/2002      35   t1\n",
              "1        s002     V    Gino Mcneill    17/05/2002      32   t2\n",
              "2        s003    VI     Ryan Parkes    16/02/1999      33   t3\n",
              "3        s001    VI    Eesha Hinton    25/09/1998      30   t4\n",
              "4        s002     V    Gino Mcneill    11/05/2002      31   t5\n",
              "5        s004    VI    David Parkes    15/09/1997      32   t6"
            ]
          },
          "metadata": {
            "tags": []
          },
          "execution_count": 10
        }
      ]
    },
    {
      "cell_type": "code",
      "metadata": {
        "id": "0HEBLUYRYA-P",
        "colab_type": "code",
        "colab": {}
      },
      "source": [
        ""
      ],
      "execution_count": null,
      "outputs": []
    },
    {
      "cell_type": "markdown",
      "metadata": {
        "id": "9yThupm3svqk",
        "colab_type": "text"
      },
      "source": [
        "Q11.1 Write a Pandas program to check if a specified value t1, t11 exists in single column index dataframe."
      ]
    },
    {
      "cell_type": "code",
      "metadata": {
        "id": "XTXrXvpPYBJ8",
        "colab_type": "code",
        "colab": {
          "base_uri": "https://localhost:8080/",
          "height": 237
        },
        "outputId": "eacf1a41-4837-4ab2-f958-32ebdbfa7df6"
      },
      "source": [
        "df = pd.DataFrame({\n",
        "    'school_code': ['s001','s002','s003','s001','s002','s004'],\n",
        "    'class': ['V', 'V', 'VI', 'VI', 'V', 'VI'],\n",
        "    'name': ['Alberto Franco','Gino Mcneill','Ryan Parkes', 'Eesha Hinton', 'Gino Mcneill', 'David Parkes'],\n",
        "    'date_of_birth': ['15/05/2002','17/05/2002','16/02/1999','25/09/1998','11/05/2002','15/09/1997'],\n",
        "    'weight': [35, 32, 33, 30, 31, 32]},\n",
        "     index =  ['t1', 't2', 't3', 't4', 't5', 't6'])\n",
        "df"
      ],
      "execution_count": null,
      "outputs": [
        {
          "output_type": "execute_result",
          "data": {
            "text/html": [
              "<div>\n",
              "<style scoped>\n",
              "    .dataframe tbody tr th:only-of-type {\n",
              "        vertical-align: middle;\n",
              "    }\n",
              "\n",
              "    .dataframe tbody tr th {\n",
              "        vertical-align: top;\n",
              "    }\n",
              "\n",
              "    .dataframe thead th {\n",
              "        text-align: right;\n",
              "    }\n",
              "</style>\n",
              "<table border=\"1\" class=\"dataframe\">\n",
              "  <thead>\n",
              "    <tr style=\"text-align: right;\">\n",
              "      <th></th>\n",
              "      <th>school_code</th>\n",
              "      <th>class</th>\n",
              "      <th>name</th>\n",
              "      <th>date_of_birth</th>\n",
              "      <th>weight</th>\n",
              "    </tr>\n",
              "  </thead>\n",
              "  <tbody>\n",
              "    <tr>\n",
              "      <th>t1</th>\n",
              "      <td>s001</td>\n",
              "      <td>V</td>\n",
              "      <td>Alberto Franco</td>\n",
              "      <td>15/05/2002</td>\n",
              "      <td>35</td>\n",
              "    </tr>\n",
              "    <tr>\n",
              "      <th>t2</th>\n",
              "      <td>s002</td>\n",
              "      <td>V</td>\n",
              "      <td>Gino Mcneill</td>\n",
              "      <td>17/05/2002</td>\n",
              "      <td>32</td>\n",
              "    </tr>\n",
              "    <tr>\n",
              "      <th>t3</th>\n",
              "      <td>s003</td>\n",
              "      <td>VI</td>\n",
              "      <td>Ryan Parkes</td>\n",
              "      <td>16/02/1999</td>\n",
              "      <td>33</td>\n",
              "    </tr>\n",
              "    <tr>\n",
              "      <th>t4</th>\n",
              "      <td>s001</td>\n",
              "      <td>VI</td>\n",
              "      <td>Eesha Hinton</td>\n",
              "      <td>25/09/1998</td>\n",
              "      <td>30</td>\n",
              "    </tr>\n",
              "    <tr>\n",
              "      <th>t5</th>\n",
              "      <td>s002</td>\n",
              "      <td>V</td>\n",
              "      <td>Gino Mcneill</td>\n",
              "      <td>11/05/2002</td>\n",
              "      <td>31</td>\n",
              "    </tr>\n",
              "    <tr>\n",
              "      <th>t6</th>\n",
              "      <td>s004</td>\n",
              "      <td>VI</td>\n",
              "      <td>David Parkes</td>\n",
              "      <td>15/09/1997</td>\n",
              "      <td>32</td>\n",
              "    </tr>\n",
              "  </tbody>\n",
              "</table>\n",
              "</div>"
            ],
            "text/plain": [
              "   school_code class            name date_of_birth  weight\n",
              "t1        s001     V  Alberto Franco    15/05/2002      35\n",
              "t2        s002     V    Gino Mcneill    17/05/2002      32\n",
              "t3        s003    VI     Ryan Parkes    16/02/1999      33\n",
              "t4        s001    VI    Eesha Hinton    25/09/1998      30\n",
              "t5        s002     V    Gino Mcneill    11/05/2002      31\n",
              "t6        s004    VI    David Parkes    15/09/1997      32"
            ]
          },
          "metadata": {
            "tags": []
          },
          "execution_count": 13
        }
      ]
    },
    {
      "cell_type": "markdown",
      "metadata": {
        "id": "FeD_MI3Xt9xW",
        "colab_type": "text"
      },
      "source": [
        "Q11.2 Write a Pandas program to check if a specified value t4 exists in multiple column index dataframe."
      ]
    },
    {
      "cell_type": "code",
      "metadata": {
        "id": "ldOwbW_8YBPa",
        "colab_type": "code",
        "colab": {
          "base_uri": "https://localhost:8080/",
          "height": 268
        },
        "outputId": "9fa451f8-ccd3-47de-c84c-f54cf9e138ff"
      },
      "source": [
        "df = pd.DataFrame({\n",
        "    'school_code': ['s001','s002','s003','s001','s002','s004'],\n",
        "    'class': ['V', 'V', 'VI', 'VI', 'V', 'VI'],\n",
        "    'name': ['Alberto Franco','Gino Mcneill','Ryan Parkes', 'Eesha Hinton', 'Gino Mcneill', 'David Parkes'],\n",
        "    'date_of_birth': ['15/05/2002','17/05/2002','16/02/1999','25/09/1998','11/05/2002','15/09/1997'],\n",
        "    'weight': [35, 32, 33, 30, 31, 32],\n",
        "    't_id': ['t1', 't2', 't3', 't4', 't5', 't6']})\n",
        "df1 = df.set_index(['t_id', 'school_code', 'class'])\n",
        "df1"
      ],
      "execution_count": null,
      "outputs": [
        {
          "output_type": "execute_result",
          "data": {
            "text/html": [
              "<div>\n",
              "<style scoped>\n",
              "    .dataframe tbody tr th:only-of-type {\n",
              "        vertical-align: middle;\n",
              "    }\n",
              "\n",
              "    .dataframe tbody tr th {\n",
              "        vertical-align: top;\n",
              "    }\n",
              "\n",
              "    .dataframe thead th {\n",
              "        text-align: right;\n",
              "    }\n",
              "</style>\n",
              "<table border=\"1\" class=\"dataframe\">\n",
              "  <thead>\n",
              "    <tr style=\"text-align: right;\">\n",
              "      <th></th>\n",
              "      <th></th>\n",
              "      <th></th>\n",
              "      <th>name</th>\n",
              "      <th>date_of_birth</th>\n",
              "      <th>weight</th>\n",
              "    </tr>\n",
              "    <tr>\n",
              "      <th>t_id</th>\n",
              "      <th>school_code</th>\n",
              "      <th>class</th>\n",
              "      <th></th>\n",
              "      <th></th>\n",
              "      <th></th>\n",
              "    </tr>\n",
              "  </thead>\n",
              "  <tbody>\n",
              "    <tr>\n",
              "      <th>t1</th>\n",
              "      <th>s001</th>\n",
              "      <th>V</th>\n",
              "      <td>Alberto Franco</td>\n",
              "      <td>15/05/2002</td>\n",
              "      <td>35</td>\n",
              "    </tr>\n",
              "    <tr>\n",
              "      <th>t2</th>\n",
              "      <th>s002</th>\n",
              "      <th>V</th>\n",
              "      <td>Gino Mcneill</td>\n",
              "      <td>17/05/2002</td>\n",
              "      <td>32</td>\n",
              "    </tr>\n",
              "    <tr>\n",
              "      <th>t3</th>\n",
              "      <th>s003</th>\n",
              "      <th>VI</th>\n",
              "      <td>Ryan Parkes</td>\n",
              "      <td>16/02/1999</td>\n",
              "      <td>33</td>\n",
              "    </tr>\n",
              "    <tr>\n",
              "      <th>t4</th>\n",
              "      <th>s001</th>\n",
              "      <th>VI</th>\n",
              "      <td>Eesha Hinton</td>\n",
              "      <td>25/09/1998</td>\n",
              "      <td>30</td>\n",
              "    </tr>\n",
              "    <tr>\n",
              "      <th>t5</th>\n",
              "      <th>s002</th>\n",
              "      <th>V</th>\n",
              "      <td>Gino Mcneill</td>\n",
              "      <td>11/05/2002</td>\n",
              "      <td>31</td>\n",
              "    </tr>\n",
              "    <tr>\n",
              "      <th>t6</th>\n",
              "      <th>s004</th>\n",
              "      <th>VI</th>\n",
              "      <td>David Parkes</td>\n",
              "      <td>15/09/1997</td>\n",
              "      <td>32</td>\n",
              "    </tr>\n",
              "  </tbody>\n",
              "</table>\n",
              "</div>"
            ],
            "text/plain": [
              "                                  name date_of_birth  weight\n",
              "t_id school_code class                                      \n",
              "t1   s001        V      Alberto Franco    15/05/2002      35\n",
              "t2   s002        V        Gino Mcneill    17/05/2002      32\n",
              "t3   s003        VI        Ryan Parkes    16/02/1999      33\n",
              "t4   s001        VI       Eesha Hinton    25/09/1998      30\n",
              "t5   s002        V        Gino Mcneill    11/05/2002      31\n",
              "t6   s004        VI       David Parkes    15/09/1997      32"
            ]
          },
          "metadata": {
            "tags": []
          },
          "execution_count": 14
        }
      ]
    },
    {
      "cell_type": "markdown",
      "metadata": {
        "id": "nR6LHjGvu5jE",
        "colab_type": "text"
      },
      "source": [
        "Q12. Write a Pandas program to construct a series of 8 values using random numpy array and set MultiIndex levels as the column and index using sales_arrays.\n",
        "\n",
        "Sample Output:\n",
        "\n",
        "    sale   city \n",
        "    sale1  city1   -1.533805\n",
        "          city2   -1.546815\n",
        "    sale2  city1    0.018307\n",
        "          city2   -0.210834\n",
        "    sale3  city1    0.903430\n",
        "          city2    1.269479\n",
        "    sale4  city1   -0.550486\n",
        "          city2    1.738659"
      ]
    },
    {
      "cell_type": "code",
      "metadata": {
        "id": "VJlUN8IfYBVO",
        "colab_type": "code",
        "colab": {}
      },
      "source": [
        "sales_arrays = [['sale1', 'sale1', 'sale2', 'sale2', 'sale3', 'sale3', 'sale4', 'sale4'],\n",
        "          ['city1', 'city2', 'city1', 'city2', 'city1', 'city2', 'city1', 'city2']]"
      ],
      "execution_count": null,
      "outputs": []
    },
    {
      "cell_type": "markdown",
      "metadata": {
        "id": "6AibQh0Nw0d0",
        "colab_type": "text"
      },
      "source": [
        "Q13. Write a Pandas program to construct a DataFrame using random numpy array and set MultiIndex levels as the column and index.\n",
        "\n",
        "Sample Output:\n",
        "\n",
        "                        0         1         2         3         4\n",
        "    sale  city                                                   \n",
        "    sale1 city1 -1.020550 -0.809408  0.911425  0.059023  0.495317\n",
        "          city2 -1.208514  0.039022  0.088428 -0.899280  1.722276\n",
        "    sale2 city1  0.510427 -0.396097 -2.076445  1.080586  1.268495\n",
        "          city2 -1.158077 -0.892657  1.221519 -0.802645  0.095342\n",
        "    sale3 city1  1.535934  0.432627 -1.307655  0.031096 -0.060850\n",
        "          city2  0.601156  0.202661 -1.469705 -1.787885  1.285210\n",
        "    sale4 city1  0.455104  0.395752  0.115163  1.188649  0.415450\n",
        "          city2  0.218054 -0.722397  0.590288 -1.347249 -0.223215"
      ]
    },
    {
      "cell_type": "code",
      "metadata": {
        "id": "uSTQKm7SYBbu",
        "colab_type": "code",
        "colab": {}
      },
      "source": [
        "sales_arrays = [['sale1', 'sale1', 'sale2', 'sale2', 'sale3', 'sale3', 'sale4', 'sale4'],\n",
        "          ['city1', 'city2', 'city1', 'city2', 'city1', 'city2', 'city1', 'city2']]"
      ],
      "execution_count": null,
      "outputs": []
    },
    {
      "cell_type": "code",
      "metadata": {
        "id": "B6pTW_6EYBi7",
        "colab_type": "code",
        "colab": {}
      },
      "source": [
        ""
      ],
      "execution_count": null,
      "outputs": []
    },
    {
      "cell_type": "markdown",
      "metadata": {
        "id": "9MxdJNv_xnZe",
        "colab_type": "text"
      },
      "source": [
        "Q14. Write a Pandas program to extract \n",
        "\n",
        "  a. a single row of index (1,2), \n",
        "\n",
        "  b. rows in sale1 index\n",
        "\n",
        "  c. a specific value from a MultiIndex levels where row is ('sale1', 'city2') and column is 1 from above DataFrame."
      ]
    },
    {
      "cell_type": "code",
      "metadata": {
        "id": "CGn7bYbBYBxb",
        "colab_type": "code",
        "colab": {}
      },
      "source": [
        ""
      ],
      "execution_count": null,
      "outputs": []
    },
    {
      "cell_type": "markdown",
      "metadata": {
        "id": "Oxh8wsZbzKau",
        "colab_type": "text"
      },
      "source": [
        "Q15. Write a Pandas program to \n",
        "\n",
        "  a. rename names of columns to col1 to col5 and \n",
        "  \n",
        "  b. specific labels of the row Index from [sale2, city2] to [S2, C2\"] in the above dataframe"
      ]
    },
    {
      "cell_type": "code",
      "metadata": {
        "id": "cucGYNFRYB26",
        "colab_type": "code",
        "colab": {}
      },
      "source": [
        ""
      ],
      "execution_count": null,
      "outputs": []
    },
    {
      "cell_type": "markdown",
      "metadata": {
        "id": "LVv3zi030StN",
        "colab_type": "text"
      },
      "source": [
        "Q16. Write a Pandas program \n",
        "\n",
        "  a. to sort a MultiIndex of a DataFrame. \n",
        "  \n",
        "  b. to sort on level-0 of index in the above dataframe."
      ]
    },
    {
      "cell_type": "code",
      "metadata": {
        "id": "_d2raZxJYB9L",
        "colab_type": "code",
        "colab": {}
      },
      "source": [
        ""
      ],
      "execution_count": null,
      "outputs": []
    },
    {
      "cell_type": "markdown",
      "metadata": {
        "id": "RKwbEHTY0yvl",
        "colab_type": "text"
      },
      "source": [
        "Q17. Write a Pandas program \n",
        "\n",
        "  a. to extract elements in the given positional row indices. \n",
        "  positions = [1, 2, 4]\n",
        "\n",
        "  b. to extract elements in the given positional column indices of above dataframe.\n",
        "\n",
        "  c. extract elements in the given positional column indices [1, 2, 4] and reverse the order of the columns to [4,2,1]"
      ]
    },
    {
      "cell_type": "code",
      "metadata": {
        "id": "90LZ1lgOYCCg",
        "colab_type": "code",
        "colab": {}
      },
      "source": [
        ""
      ],
      "execution_count": null,
      "outputs": []
    },
    {
      "cell_type": "markdown",
      "metadata": {
        "id": "tHQ1RnCX3mLJ",
        "colab_type": "text"
      },
      "source": [
        "Q18. Write a Pandas program to get the index of an element 11 of a given Series."
      ]
    },
    {
      "cell_type": "code",
      "metadata": {
        "id": "8p-hA_h-YCF3",
        "colab_type": "code",
        "colab": {
          "base_uri": "https://localhost:8080/",
          "height": 173
        },
        "outputId": "308d13d2-d15e-4233-aede-ba888a7f7dc9"
      },
      "source": [
        "ds = pd.Series([1,3,5,7,9,11,13,15], index=[0,1,2,3,4,5,7,8])\n",
        "ds"
      ],
      "execution_count": null,
      "outputs": [
        {
          "output_type": "execute_result",
          "data": {
            "text/plain": [
              "0     1\n",
              "1     3\n",
              "2     5\n",
              "3     7\n",
              "4     9\n",
              "5    11\n",
              "7    13\n",
              "8    15\n",
              "dtype: int64"
            ]
          },
          "metadata": {
            "tags": []
          },
          "execution_count": 19
        }
      ]
    },
    {
      "cell_type": "markdown",
      "metadata": {
        "id": "vhcTJV3A38r0",
        "colab_type": "text"
      },
      "source": [
        "Q19.1 Write a Pandas program to select a specific row 3rd row of above series by integer index."
      ]
    },
    {
      "cell_type": "code",
      "metadata": {
        "id": "DgpspJc3YCAR",
        "colab_type": "code",
        "colab": {}
      },
      "source": [
        ""
      ],
      "execution_count": null,
      "outputs": []
    },
    {
      "cell_type": "markdown",
      "metadata": {
        "id": "I-JomjEm4ymw",
        "colab_type": "text"
      },
      "source": [
        "Q19.2 Write a Pandas program to select a specific row 3rd row of above dataframe by integer index."
      ]
    },
    {
      "cell_type": "code",
      "metadata": {
        "id": "9s_VwF1kYB6o",
        "colab_type": "code",
        "colab": {
          "base_uri": "https://localhost:8080/",
          "height": 237
        },
        "outputId": "d2580a48-cf09-41d9-85ec-52c84f308846"
      },
      "source": [
        "df = pd.DataFrame({\n",
        "    'school_code': ['s001','s002','s003','s001','s002','s004'],\n",
        "    'class': ['V', 'V', 'VI', 'VI', 'V', 'VI'],\n",
        "    'name': ['Alberto Franco','Gino Mcneill','Ryan Parkes', 'Eesha Hinton', 'Gino Mcneill', 'David Parkes'],\n",
        "    'date_of_birth': ['15/05/2002','17/05/2002','16/02/1999','25/09/1998','11/05/2002','15/09/1997'],\n",
        "    'weight': [35, 32, 33, 30, 31, 32]})\n",
        "df"
      ],
      "execution_count": null,
      "outputs": [
        {
          "output_type": "execute_result",
          "data": {
            "text/html": [
              "<div>\n",
              "<style scoped>\n",
              "    .dataframe tbody tr th:only-of-type {\n",
              "        vertical-align: middle;\n",
              "    }\n",
              "\n",
              "    .dataframe tbody tr th {\n",
              "        vertical-align: top;\n",
              "    }\n",
              "\n",
              "    .dataframe thead th {\n",
              "        text-align: right;\n",
              "    }\n",
              "</style>\n",
              "<table border=\"1\" class=\"dataframe\">\n",
              "  <thead>\n",
              "    <tr style=\"text-align: right;\">\n",
              "      <th></th>\n",
              "      <th>school_code</th>\n",
              "      <th>class</th>\n",
              "      <th>name</th>\n",
              "      <th>date_of_birth</th>\n",
              "      <th>weight</th>\n",
              "    </tr>\n",
              "  </thead>\n",
              "  <tbody>\n",
              "    <tr>\n",
              "      <th>0</th>\n",
              "      <td>s001</td>\n",
              "      <td>V</td>\n",
              "      <td>Alberto Franco</td>\n",
              "      <td>15/05/2002</td>\n",
              "      <td>35</td>\n",
              "    </tr>\n",
              "    <tr>\n",
              "      <th>1</th>\n",
              "      <td>s002</td>\n",
              "      <td>V</td>\n",
              "      <td>Gino Mcneill</td>\n",
              "      <td>17/05/2002</td>\n",
              "      <td>32</td>\n",
              "    </tr>\n",
              "    <tr>\n",
              "      <th>2</th>\n",
              "      <td>s003</td>\n",
              "      <td>VI</td>\n",
              "      <td>Ryan Parkes</td>\n",
              "      <td>16/02/1999</td>\n",
              "      <td>33</td>\n",
              "    </tr>\n",
              "    <tr>\n",
              "      <th>3</th>\n",
              "      <td>s001</td>\n",
              "      <td>VI</td>\n",
              "      <td>Eesha Hinton</td>\n",
              "      <td>25/09/1998</td>\n",
              "      <td>30</td>\n",
              "    </tr>\n",
              "    <tr>\n",
              "      <th>4</th>\n",
              "      <td>s002</td>\n",
              "      <td>V</td>\n",
              "      <td>Gino Mcneill</td>\n",
              "      <td>11/05/2002</td>\n",
              "      <td>31</td>\n",
              "    </tr>\n",
              "    <tr>\n",
              "      <th>5</th>\n",
              "      <td>s004</td>\n",
              "      <td>VI</td>\n",
              "      <td>David Parkes</td>\n",
              "      <td>15/09/1997</td>\n",
              "      <td>32</td>\n",
              "    </tr>\n",
              "  </tbody>\n",
              "</table>\n",
              "</div>"
            ],
            "text/plain": [
              "  school_code class            name date_of_birth  weight\n",
              "0        s001     V  Alberto Franco    15/05/2002      35\n",
              "1        s002     V    Gino Mcneill    17/05/2002      32\n",
              "2        s003    VI     Ryan Parkes    16/02/1999      33\n",
              "3        s001    VI    Eesha Hinton    25/09/1998      30\n",
              "4        s002     V    Gino Mcneill    11/05/2002      31\n",
              "5        s004    VI    David Parkes    15/09/1997      32"
            ]
          },
          "metadata": {
            "tags": []
          },
          "execution_count": 20
        }
      ]
    },
    {
      "cell_type": "markdown",
      "metadata": {
        "id": "YKO1s_2n5FQ-",
        "colab_type": "text"
      },
      "source": [
        "Q20. Write a Pandas program to find the indexes of rows of a specified value(school_code=s001) of a given column in a DataFrame."
      ]
    },
    {
      "cell_type": "code",
      "metadata": {
        "id": "2KgpmD6eYB00",
        "colab_type": "code",
        "colab": {
          "base_uri": "https://localhost:8080/",
          "height": 237
        },
        "outputId": "d2020159-682c-4320-9595-68a1688ca4fa"
      },
      "source": [
        "df = pd.DataFrame({\n",
        "    'school_code': ['s001','s002','s003','s001','s002','s004'],\n",
        "    'class': ['V', 'V', 'VI', 'VI', 'V', 'VI'],\n",
        "    'name': ['Alberto Franco','Gino Mcneill','Ryan Parkes', 'Eesha Hinton', 'Gino Mcneill', 'David Parkes'],\n",
        "    'date_of_birth': ['15/05/2002','17/05/2002','16/02/1999','25/09/1998','11/05/2002','15/09/1997'],\n",
        "    'weight': [35, 32, 33, 30, 31, 32]},\n",
        "     index =  [1, 2, 3, 4, 5, 6])\n",
        "df"
      ],
      "execution_count": null,
      "outputs": [
        {
          "output_type": "execute_result",
          "data": {
            "text/html": [
              "<div>\n",
              "<style scoped>\n",
              "    .dataframe tbody tr th:only-of-type {\n",
              "        vertical-align: middle;\n",
              "    }\n",
              "\n",
              "    .dataframe tbody tr th {\n",
              "        vertical-align: top;\n",
              "    }\n",
              "\n",
              "    .dataframe thead th {\n",
              "        text-align: right;\n",
              "    }\n",
              "</style>\n",
              "<table border=\"1\" class=\"dataframe\">\n",
              "  <thead>\n",
              "    <tr style=\"text-align: right;\">\n",
              "      <th></th>\n",
              "      <th>school_code</th>\n",
              "      <th>class</th>\n",
              "      <th>name</th>\n",
              "      <th>date_of_birth</th>\n",
              "      <th>weight</th>\n",
              "    </tr>\n",
              "  </thead>\n",
              "  <tbody>\n",
              "    <tr>\n",
              "      <th>1</th>\n",
              "      <td>s001</td>\n",
              "      <td>V</td>\n",
              "      <td>Alberto Franco</td>\n",
              "      <td>15/05/2002</td>\n",
              "      <td>35</td>\n",
              "    </tr>\n",
              "    <tr>\n",
              "      <th>2</th>\n",
              "      <td>s002</td>\n",
              "      <td>V</td>\n",
              "      <td>Gino Mcneill</td>\n",
              "      <td>17/05/2002</td>\n",
              "      <td>32</td>\n",
              "    </tr>\n",
              "    <tr>\n",
              "      <th>3</th>\n",
              "      <td>s003</td>\n",
              "      <td>VI</td>\n",
              "      <td>Ryan Parkes</td>\n",
              "      <td>16/02/1999</td>\n",
              "      <td>33</td>\n",
              "    </tr>\n",
              "    <tr>\n",
              "      <th>4</th>\n",
              "      <td>s001</td>\n",
              "      <td>VI</td>\n",
              "      <td>Eesha Hinton</td>\n",
              "      <td>25/09/1998</td>\n",
              "      <td>30</td>\n",
              "    </tr>\n",
              "    <tr>\n",
              "      <th>5</th>\n",
              "      <td>s002</td>\n",
              "      <td>V</td>\n",
              "      <td>Gino Mcneill</td>\n",
              "      <td>11/05/2002</td>\n",
              "      <td>31</td>\n",
              "    </tr>\n",
              "    <tr>\n",
              "      <th>6</th>\n",
              "      <td>s004</td>\n",
              "      <td>VI</td>\n",
              "      <td>David Parkes</td>\n",
              "      <td>15/09/1997</td>\n",
              "      <td>32</td>\n",
              "    </tr>\n",
              "  </tbody>\n",
              "</table>\n",
              "</div>"
            ],
            "text/plain": [
              "  school_code class            name date_of_birth  weight\n",
              "1        s001     V  Alberto Franco    15/05/2002      35\n",
              "2        s002     V    Gino Mcneill    17/05/2002      32\n",
              "3        s003    VI     Ryan Parkes    16/02/1999      33\n",
              "4        s001    VI    Eesha Hinton    25/09/1998      30\n",
              "5        s002     V    Gino Mcneill    11/05/2002      31\n",
              "6        s004    VI    David Parkes    15/09/1997      32"
            ]
          },
          "metadata": {
            "tags": []
          },
          "execution_count": 21
        }
      ]
    },
    {
      "cell_type": "markdown",
      "metadata": {
        "id": "CRQaINW05qBc",
        "colab_type": "text"
      },
      "source": [
        "Q21. Write a Pandas program \n",
        "\n",
        "  a. to drop a index level 0 from a multi-level column index of a dataframe.\n",
        "  \n",
        "  b. to drop a index level 1 from a multi-level column index of a dataframe.\n",
        "\n",
        "Note: Levels are 0-indexed beginning from the top."
      ]
    },
    {
      "cell_type": "code",
      "metadata": {
        "id": "nZvHERfrYBux",
        "colab_type": "code",
        "colab": {
          "base_uri": "https://localhost:8080/",
          "height": 174
        },
        "outputId": "6380e4d6-2f90-48f3-892c-1041223b7dbd"
      },
      "source": [
        "cols = pd.MultiIndex.from_tuples([(\"a\", \"x\"), (\"a\", \"y\"), (\"a\", \"z\")])\n",
        "df = pd.DataFrame([[1,2,3], [3,4,5], [5,6,7]], columns=cols)\n",
        "df"
      ],
      "execution_count": null,
      "outputs": [
        {
          "output_type": "execute_result",
          "data": {
            "text/html": [
              "<div>\n",
              "<style scoped>\n",
              "    .dataframe tbody tr th:only-of-type {\n",
              "        vertical-align: middle;\n",
              "    }\n",
              "\n",
              "    .dataframe tbody tr th {\n",
              "        vertical-align: top;\n",
              "    }\n",
              "\n",
              "    .dataframe thead tr th {\n",
              "        text-align: left;\n",
              "    }\n",
              "</style>\n",
              "<table border=\"1\" class=\"dataframe\">\n",
              "  <thead>\n",
              "    <tr>\n",
              "      <th></th>\n",
              "      <th colspan=\"3\" halign=\"left\">a</th>\n",
              "    </tr>\n",
              "    <tr>\n",
              "      <th></th>\n",
              "      <th>x</th>\n",
              "      <th>y</th>\n",
              "      <th>z</th>\n",
              "    </tr>\n",
              "  </thead>\n",
              "  <tbody>\n",
              "    <tr>\n",
              "      <th>0</th>\n",
              "      <td>1</td>\n",
              "      <td>2</td>\n",
              "      <td>3</td>\n",
              "    </tr>\n",
              "    <tr>\n",
              "      <th>1</th>\n",
              "      <td>3</td>\n",
              "      <td>4</td>\n",
              "      <td>5</td>\n",
              "    </tr>\n",
              "    <tr>\n",
              "      <th>2</th>\n",
              "      <td>5</td>\n",
              "      <td>6</td>\n",
              "      <td>7</td>\n",
              "    </tr>\n",
              "  </tbody>\n",
              "</table>\n",
              "</div>"
            ],
            "text/plain": [
              "   a      \n",
              "   x  y  z\n",
              "0  1  2  3\n",
              "1  3  4  5\n",
              "2  5  6  7"
            ]
          },
          "metadata": {
            "tags": []
          },
          "execution_count": 22
        }
      ]
    },
    {
      "cell_type": "markdown",
      "metadata": {
        "id": "B_tDF_HW6rfE",
        "colab_type": "text"
      },
      "source": [
        "Q22. Write a Pandas program to insert a column at a specific index 3 in a given DataFrame."
      ]
    },
    {
      "cell_type": "code",
      "metadata": {
        "id": "io7kX3YUYBrc",
        "colab_type": "code",
        "colab": {
          "base_uri": "https://localhost:8080/",
          "height": 237
        },
        "outputId": "0ce1ffed-6a80-4a3d-cb06-adebf59457fd"
      },
      "source": [
        "df = pd.DataFrame({\n",
        "    'school_code': ['s001','s002','s003','s001','s002','s004'],\n",
        "    'class': ['V', 'V', 'VI', 'VI', 'V', 'VI'],\n",
        "    'name': ['Alberto Franco','Gino Mcneill','Ryan Parkes', 'Eesha Hinton', 'Gino Mcneill', 'David Parkes'],\n",
        "    'weight': [35, 32, 33, 30, 31, 32]},\n",
        "     index =  [1, 2, 3, 4, 5, 6])\n",
        "df"
      ],
      "execution_count": null,
      "outputs": [
        {
          "output_type": "execute_result",
          "data": {
            "text/html": [
              "<div>\n",
              "<style scoped>\n",
              "    .dataframe tbody tr th:only-of-type {\n",
              "        vertical-align: middle;\n",
              "    }\n",
              "\n",
              "    .dataframe tbody tr th {\n",
              "        vertical-align: top;\n",
              "    }\n",
              "\n",
              "    .dataframe thead th {\n",
              "        text-align: right;\n",
              "    }\n",
              "</style>\n",
              "<table border=\"1\" class=\"dataframe\">\n",
              "  <thead>\n",
              "    <tr style=\"text-align: right;\">\n",
              "      <th></th>\n",
              "      <th>school_code</th>\n",
              "      <th>class</th>\n",
              "      <th>name</th>\n",
              "      <th>weight</th>\n",
              "    </tr>\n",
              "  </thead>\n",
              "  <tbody>\n",
              "    <tr>\n",
              "      <th>1</th>\n",
              "      <td>s001</td>\n",
              "      <td>V</td>\n",
              "      <td>Alberto Franco</td>\n",
              "      <td>35</td>\n",
              "    </tr>\n",
              "    <tr>\n",
              "      <th>2</th>\n",
              "      <td>s002</td>\n",
              "      <td>V</td>\n",
              "      <td>Gino Mcneill</td>\n",
              "      <td>32</td>\n",
              "    </tr>\n",
              "    <tr>\n",
              "      <th>3</th>\n",
              "      <td>s003</td>\n",
              "      <td>VI</td>\n",
              "      <td>Ryan Parkes</td>\n",
              "      <td>33</td>\n",
              "    </tr>\n",
              "    <tr>\n",
              "      <th>4</th>\n",
              "      <td>s001</td>\n",
              "      <td>VI</td>\n",
              "      <td>Eesha Hinton</td>\n",
              "      <td>30</td>\n",
              "    </tr>\n",
              "    <tr>\n",
              "      <th>5</th>\n",
              "      <td>s002</td>\n",
              "      <td>V</td>\n",
              "      <td>Gino Mcneill</td>\n",
              "      <td>31</td>\n",
              "    </tr>\n",
              "    <tr>\n",
              "      <th>6</th>\n",
              "      <td>s004</td>\n",
              "      <td>VI</td>\n",
              "      <td>David Parkes</td>\n",
              "      <td>32</td>\n",
              "    </tr>\n",
              "  </tbody>\n",
              "</table>\n",
              "</div>"
            ],
            "text/plain": [
              "  school_code class            name  weight\n",
              "1        s001     V  Alberto Franco      35\n",
              "2        s002     V    Gino Mcneill      32\n",
              "3        s003    VI     Ryan Parkes      33\n",
              "4        s001    VI    Eesha Hinton      30\n",
              "5        s002     V    Gino Mcneill      31\n",
              "6        s004    VI    David Parkes      32"
            ]
          },
          "metadata": {
            "tags": []
          },
          "execution_count": 23
        }
      ]
    },
    {
      "cell_type": "code",
      "metadata": {
        "id": "cKRIPS_7YBpA",
        "colab_type": "code",
        "colab": {}
      },
      "source": [
        "# new column\n",
        "date_of_birth = ['15/05/2002','17/05/2002','16/02/1999','25/09/1998','11/05/2002','15/09/1997']\n"
      ],
      "execution_count": null,
      "outputs": []
    },
    {
      "cell_type": "markdown",
      "metadata": {
        "id": "cz9f1Iii7V8y",
        "colab_type": "text"
      },
      "source": [
        "Q23. Write a Pandas program to print above DataFrame without index."
      ]
    },
    {
      "cell_type": "code",
      "metadata": {
        "id": "AsDMzA2oYBme",
        "colab_type": "code",
        "colab": {}
      },
      "source": [
        ""
      ],
      "execution_count": null,
      "outputs": []
    },
    {
      "cell_type": "markdown",
      "metadata": {
        "id": "XW2l4WD87kBw",
        "colab_type": "text"
      },
      "source": [
        "Q24. Write a Pandas program to find integer index of rows with missing data in weight column of a given dataframe."
      ]
    },
    {
      "cell_type": "code",
      "metadata": {
        "id": "gDoFpK9fYBTk",
        "colab_type": "code",
        "colab": {}
      },
      "source": [
        "df = pd.DataFrame({\n",
        "    'school_code': ['s001','s002','s003','s001','s002','s004'],\n",
        "    'class': ['V', 'V', 'VI', 'VI', 'V', 'VI'],\n",
        "    'name': ['Alberto Franco','Gino Mcneill','Ryan Parkes', 'Eesha Hinton', 'Gino Mcneill', 'David Parkes'],\n",
        "    'date_of_birth': ['15/05/2002','17/05/2002','16/02/1999','25/09/1998','11/05/2002','15/09/1997'],\n",
        "    'weight': [35, None, 33, 30, 31, None]},\n",
        "     index = ['t1', 't2', 't3', 't4', 't5', 't6'])\n",
        "  "
      ],
      "execution_count": null,
      "outputs": []
    },
    {
      "cell_type": "markdown",
      "metadata": {
        "id": "N9eO4iFS8R63",
        "colab_type": "text"
      },
      "source": [
        "Q25. Write a Pandas program to start index with different value rather than 0 in a above DataFrame."
      ]
    },
    {
      "cell_type": "code",
      "metadata": {
        "id": "Nzw93e8GYBOB",
        "colab_type": "code",
        "colab": {}
      },
      "source": [
        ""
      ],
      "execution_count": null,
      "outputs": []
    },
    {
      "cell_type": "markdown",
      "metadata": {
        "id": "adlygwRc8pM6",
        "colab_type": "text"
      },
      "source": [
        "Q26. Write a Pandas program to select rows by filtering the value t2 in index tcode of multi-index dataframe."
      ]
    },
    {
      "cell_type": "code",
      "metadata": {
        "id": "G0HOWmrZYBHL",
        "colab_type": "code",
        "colab": {
          "base_uri": "https://localhost:8080/",
          "height": 268
        },
        "outputId": "5e166ce6-18d8-4161-b8bc-fdc861fa1b23"
      },
      "source": [
        "df = pd.DataFrame({\n",
        "    'school_code': ['s001','s002','s003','s001','s002','s004'],\n",
        "    'class': ['V', 'V', 'VI', 'VI', 'V', 'VI'],\n",
        "    'name': ['Alberto Franco','Gino Mcneill','Ryan Parkes', 'Eesha Hinton', 'Gino Mcneill', 'David Parkes'],\n",
        "    'date_of_birth': ['15/05/2002','17/05/2002','16/02/1999','25/09/1998','11/05/2002','15/09/1997'],\n",
        "    'weight': [35, 37, 33, 30, 31, 32],\n",
        "    'tcode': ['t1', 't2', 't3', 't4', 't5', 't6']})  \n",
        "df = df.set_index(['tcode', 'school_code'])\n",
        "df"
      ],
      "execution_count": null,
      "outputs": [
        {
          "output_type": "execute_result",
          "data": {
            "text/html": [
              "<div>\n",
              "<style scoped>\n",
              "    .dataframe tbody tr th:only-of-type {\n",
              "        vertical-align: middle;\n",
              "    }\n",
              "\n",
              "    .dataframe tbody tr th {\n",
              "        vertical-align: top;\n",
              "    }\n",
              "\n",
              "    .dataframe thead th {\n",
              "        text-align: right;\n",
              "    }\n",
              "</style>\n",
              "<table border=\"1\" class=\"dataframe\">\n",
              "  <thead>\n",
              "    <tr style=\"text-align: right;\">\n",
              "      <th></th>\n",
              "      <th></th>\n",
              "      <th>class</th>\n",
              "      <th>name</th>\n",
              "      <th>date_of_birth</th>\n",
              "      <th>weight</th>\n",
              "    </tr>\n",
              "    <tr>\n",
              "      <th>tcode</th>\n",
              "      <th>school_code</th>\n",
              "      <th></th>\n",
              "      <th></th>\n",
              "      <th></th>\n",
              "      <th></th>\n",
              "    </tr>\n",
              "  </thead>\n",
              "  <tbody>\n",
              "    <tr>\n",
              "      <th>t1</th>\n",
              "      <th>s001</th>\n",
              "      <td>V</td>\n",
              "      <td>Alberto Franco</td>\n",
              "      <td>15/05/2002</td>\n",
              "      <td>35</td>\n",
              "    </tr>\n",
              "    <tr>\n",
              "      <th>t2</th>\n",
              "      <th>s002</th>\n",
              "      <td>V</td>\n",
              "      <td>Gino Mcneill</td>\n",
              "      <td>17/05/2002</td>\n",
              "      <td>37</td>\n",
              "    </tr>\n",
              "    <tr>\n",
              "      <th>t3</th>\n",
              "      <th>s003</th>\n",
              "      <td>VI</td>\n",
              "      <td>Ryan Parkes</td>\n",
              "      <td>16/02/1999</td>\n",
              "      <td>33</td>\n",
              "    </tr>\n",
              "    <tr>\n",
              "      <th>t4</th>\n",
              "      <th>s001</th>\n",
              "      <td>VI</td>\n",
              "      <td>Eesha Hinton</td>\n",
              "      <td>25/09/1998</td>\n",
              "      <td>30</td>\n",
              "    </tr>\n",
              "    <tr>\n",
              "      <th>t5</th>\n",
              "      <th>s002</th>\n",
              "      <td>V</td>\n",
              "      <td>Gino Mcneill</td>\n",
              "      <td>11/05/2002</td>\n",
              "      <td>31</td>\n",
              "    </tr>\n",
              "    <tr>\n",
              "      <th>t6</th>\n",
              "      <th>s004</th>\n",
              "      <td>VI</td>\n",
              "      <td>David Parkes</td>\n",
              "      <td>15/09/1997</td>\n",
              "      <td>32</td>\n",
              "    </tr>\n",
              "  </tbody>\n",
              "</table>\n",
              "</div>"
            ],
            "text/plain": [
              "                  class            name date_of_birth  weight\n",
              "tcode school_code                                            \n",
              "t1    s001            V  Alberto Franco    15/05/2002      35\n",
              "t2    s002            V    Gino Mcneill    17/05/2002      37\n",
              "t3    s003           VI     Ryan Parkes    16/02/1999      33\n",
              "t4    s001           VI    Eesha Hinton    25/09/1998      30\n",
              "t5    s002            V    Gino Mcneill    11/05/2002      31\n",
              "t6    s004           VI    David Parkes    15/09/1997      32"
            ]
          },
          "metadata": {
            "tags": []
          },
          "execution_count": 25
        }
      ]
    },
    {
      "cell_type": "code",
      "metadata": {
        "id": "uL5ZXT1CYABr",
        "colab_type": "code",
        "colab": {}
      },
      "source": [
        ""
      ],
      "execution_count": null,
      "outputs": []
    }
  ]
}