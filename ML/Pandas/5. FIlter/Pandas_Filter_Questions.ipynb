{
  "nbformat": 4,
  "nbformat_minor": 0,
  "metadata": {
    "colab": {
      "name": "Pandas_Filter_Questions.ipynb",
      "provenance": [],
      "collapsed_sections": []
    },
    "kernelspec": {
      "name": "python3",
      "display_name": "Python 3"
    }
  },
  "cells": [
    {
      "cell_type": "code",
      "metadata": {
        "id": "3QR_B__EWndT",
        "colab_type": "code",
        "colab": {}
      },
      "source": [
        "import pandas as pd\n",
        "import numpy as np"
      ],
      "execution_count": 4,
      "outputs": []
    },
    {
      "cell_type": "markdown",
      "metadata": {
        "id": "8HkTe9NQXXTD",
        "colab_type": "text"
      },
      "source": [
        "Q1. Write a Pandas program to display the dimensions or shape of the World alcohol consumption dataset. Also extract the column names from the dataset."
      ]
    },
    {
      "cell_type": "code",
      "metadata": {
        "id": "r8jIEUEpWwd8",
        "colab_type": "code",
        "colab": {
          "base_uri": "https://localhost:8080/",
          "height": 206
        },
        "outputId": "b248935a-012f-4e6d-d116-c863341fc743"
      },
      "source": [
        "# World alcohol consumption data\n",
        "w_a_con = pd.read_csv(\"https://raw.githubusercontent.com/eswarpoluri/ML-DL-Practice-Assignments/master/ML/Pandas/5.%20FIlter/world_alcohol.csv\")\n",
        "w_a_con.head()      "
      ],
      "execution_count": 5,
      "outputs": [
        {
          "output_type": "execute_result",
          "data": {
            "text/html": [
              "<div>\n",
              "<style scoped>\n",
              "    .dataframe tbody tr th:only-of-type {\n",
              "        vertical-align: middle;\n",
              "    }\n",
              "\n",
              "    .dataframe tbody tr th {\n",
              "        vertical-align: top;\n",
              "    }\n",
              "\n",
              "    .dataframe thead th {\n",
              "        text-align: right;\n",
              "    }\n",
              "</style>\n",
              "<table border=\"1\" class=\"dataframe\">\n",
              "  <thead>\n",
              "    <tr style=\"text-align: right;\">\n",
              "      <th></th>\n",
              "      <th>Year</th>\n",
              "      <th>WHO region</th>\n",
              "      <th>Country</th>\n",
              "      <th>Beverage Types</th>\n",
              "      <th>Display Value</th>\n",
              "    </tr>\n",
              "  </thead>\n",
              "  <tbody>\n",
              "    <tr>\n",
              "      <th>0</th>\n",
              "      <td>1986</td>\n",
              "      <td>Western Pacific</td>\n",
              "      <td>Viet Nam</td>\n",
              "      <td>Wine</td>\n",
              "      <td>0.00</td>\n",
              "    </tr>\n",
              "    <tr>\n",
              "      <th>1</th>\n",
              "      <td>1986</td>\n",
              "      <td>Americas</td>\n",
              "      <td>Uruguay</td>\n",
              "      <td>Other</td>\n",
              "      <td>0.50</td>\n",
              "    </tr>\n",
              "    <tr>\n",
              "      <th>2</th>\n",
              "      <td>1985</td>\n",
              "      <td>Africa</td>\n",
              "      <td>Cte d'Ivoire</td>\n",
              "      <td>Wine</td>\n",
              "      <td>1.62</td>\n",
              "    </tr>\n",
              "    <tr>\n",
              "      <th>3</th>\n",
              "      <td>1986</td>\n",
              "      <td>Americas</td>\n",
              "      <td>Colombia</td>\n",
              "      <td>Beer</td>\n",
              "      <td>4.27</td>\n",
              "    </tr>\n",
              "    <tr>\n",
              "      <th>4</th>\n",
              "      <td>1987</td>\n",
              "      <td>Americas</td>\n",
              "      <td>Saint Kitts and Nevis</td>\n",
              "      <td>Beer</td>\n",
              "      <td>1.98</td>\n",
              "    </tr>\n",
              "  </tbody>\n",
              "</table>\n",
              "</div>"
            ],
            "text/plain": [
              "   Year       WHO region                Country Beverage Types  Display Value\n",
              "0  1986  Western Pacific               Viet Nam           Wine           0.00\n",
              "1  1986         Americas                Uruguay          Other           0.50\n",
              "2  1985           Africa           Cte d'Ivoire           Wine           1.62\n",
              "3  1986         Americas               Colombia           Beer           4.27\n",
              "4  1987         Americas  Saint Kitts and Nevis           Beer           1.98"
            ]
          },
          "metadata": {
            "tags": []
          },
          "execution_count": 5
        }
      ]
    },
    {
      "cell_type": "markdown",
      "metadata": {
        "id": "prm_kgJzZ-Kv",
        "colab_type": "text"
      },
      "source": [
        "Q.2 Write a Pandas program to select first 2 rows, 2 columns and specific two columns 'Display Value', 'Year' from World alcohol consumption dataset."
      ]
    },
    {
      "cell_type": "code",
      "metadata": {
        "id": "B5wzBeTOxIYN",
        "colab_type": "code",
        "colab": {}
      },
      "source": [
        ""
      ],
      "execution_count": 5,
      "outputs": []
    },
    {
      "cell_type": "markdown",
      "metadata": {
        "id": "AkaIjz-eaQep",
        "colab_type": "text"
      },
      "source": [
        "Q3. Write a Pandas program to select random number of rows, fraction of random rows from World alcohol consumption dataset."
      ]
    },
    {
      "cell_type": "code",
      "metadata": {
        "id": "jP5b_iVKxOKj",
        "colab_type": "code",
        "colab": {}
      },
      "source": [
        ""
      ],
      "execution_count": 5,
      "outputs": []
    },
    {
      "cell_type": "markdown",
      "metadata": {
        "id": "J_CEnLLDasOp",
        "colab_type": "text"
      },
      "source": [
        "Q4. Write a Pandas program to find and drop the missing values from World alcohol consumption dataset."
      ]
    },
    {
      "cell_type": "code",
      "metadata": {
        "id": "lGrF1zaBoD8F",
        "colab_type": "code",
        "colab": {}
      },
      "source": [
        ""
      ],
      "execution_count": 5,
      "outputs": []
    },
    {
      "cell_type": "markdown",
      "metadata": {
        "id": "LuvRj2Y3bKdt",
        "colab_type": "text"
      },
      "source": [
        "Q5. Write a Pandas program to remove the duplicates from 'WHO region' column of World alcohol consumption dataset.\n"
      ]
    },
    {
      "cell_type": "code",
      "metadata": {
        "id": "uPRbt30TbR1E",
        "colab_type": "code",
        "colab": {}
      },
      "source": [
        ""
      ],
      "execution_count": 5,
      "outputs": []
    },
    {
      "cell_type": "markdown",
      "metadata": {
        "id": "MK-JsAHNbgHc",
        "colab_type": "text"
      },
      "source": [
        "Q6. Write a Pandas program to find out the alcohol consumption of a given year \"1985\" from the world alcohol consumption dataset."
      ]
    },
    {
      "cell_type": "code",
      "metadata": {
        "id": "Fh3dulSjbo--",
        "colab_type": "code",
        "colab": {}
      },
      "source": [
        ""
      ],
      "execution_count": 5,
      "outputs": []
    },
    {
      "cell_type": "markdown",
      "metadata": {
        "id": "iRZiJvYUbytv",
        "colab_type": "text"
      },
      "source": [
        "Q7. Write a Pandas program to find out the alcohol consumption details in the year '1987' or '1989' from the world alcohol consumption dataset"
      ]
    },
    {
      "cell_type": "code",
      "metadata": {
        "id": "L-R0CQ1ob-xf",
        "colab_type": "code",
        "colab": {}
      },
      "source": [
        ""
      ],
      "execution_count": 5,
      "outputs": []
    },
    {
      "cell_type": "markdown",
      "metadata": {
        "id": "iz5JNeXFcTM_",
        "colab_type": "text"
      },
      "source": [
        "Q8. Write a Pandas program to find out the alcohol consumption details by the 'Americas' in the year '1985' from the world alcohol consumption dataset."
      ]
    },
    {
      "cell_type": "code",
      "metadata": {
        "id": "4jmXZSRXcwQs",
        "colab_type": "code",
        "colab": {}
      },
      "source": [
        ""
      ],
      "execution_count": 5,
      "outputs": []
    },
    {
      "cell_type": "markdown",
      "metadata": {
        "id": "Da_3ILarc1eN",
        "colab_type": "text"
      },
      "source": [
        "Q9. Write a Pandas program to find out the alcohol consumption details in the year '1986' where WHO region is 'Western Pacific' and country is 'VietNam' from the world alcohol consumption dataset."
      ]
    },
    {
      "cell_type": "code",
      "metadata": {
        "id": "nd8A0Lchxajk",
        "colab_type": "code",
        "colab": {}
      },
      "source": [
        ""
      ],
      "execution_count": 5,
      "outputs": []
    },
    {
      "cell_type": "markdown",
      "metadata": {
        "id": "BWcFg4UidHCh",
        "colab_type": "text"
      },
      "source": [
        "Q10. Write a Pandas program to find out the alcohol consumption details in the year '1986' or '1989' where WHO region is 'Americas' from the world alcohol consumption dataset."
      ]
    },
    {
      "cell_type": "code",
      "metadata": {
        "id": "ApbEvFKNxcSN",
        "colab_type": "code",
        "colab": {}
      },
      "source": [
        ""
      ],
      "execution_count": 5,
      "outputs": []
    },
    {
      "cell_type": "markdown",
      "metadata": {
        "id": "ajzmbVOKeK2g",
        "colab_type": "text"
      },
      "source": [
        "Q11. Write a Pandas program to find out the alcohol consumption details in the year '1986' or '1989' where WHO region is 'Americas' or 'Europe' from the world alcohol consumption dataset."
      ]
    },
    {
      "cell_type": "code",
      "metadata": {
        "id": "iIJzUT8Hxe5S",
        "colab_type": "code",
        "colab": {}
      },
      "source": [
        ""
      ],
      "execution_count": 5,
      "outputs": []
    },
    {
      "cell_type": "markdown",
      "metadata": {
        "id": "ypz6tvF4eT31",
        "colab_type": "text"
      },
      "source": [
        "Q12. Write a Pandas program to find out the 'WHO region, 'Country', 'Beverage Types' in the year '1986' or '1989' where WHO region is 'Americas' or 'Europe' from the world alcohol consumption dataset."
      ]
    },
    {
      "cell_type": "code",
      "metadata": {
        "id": "tmO6j_p9xg4k",
        "colab_type": "code",
        "colab": {}
      },
      "source": [
        ""
      ],
      "execution_count": 5,
      "outputs": []
    },
    {
      "cell_type": "markdown",
      "metadata": {
        "id": "VAJ1_Ns7ed_d",
        "colab_type": "text"
      },
      "source": [
        "Q13. Write a Pandas program to find out the records where consumption of beverages per person average >=5 and Beverage Types is Beer from world alcohol consumption dataset."
      ]
    },
    {
      "cell_type": "code",
      "metadata": {
        "id": "ghefrOwBxqzf",
        "colab_type": "code",
        "colab": {}
      },
      "source": [
        ""
      ],
      "execution_count": 5,
      "outputs": []
    },
    {
      "cell_type": "markdown",
      "metadata": {
        "id": "A_fQxqXEeoCc",
        "colab_type": "text"
      },
      "source": [
        "Q14. Write a Pandas program to find out the records where consumption of beverages per person average >=4 and Beverage Types is Beer, Wine, Spirits from world alcohol consumption dataset."
      ]
    },
    {
      "cell_type": "code",
      "metadata": {
        "id": "7bj_m5-0xsEr",
        "colab_type": "code",
        "colab": {}
      },
      "source": [
        ""
      ],
      "execution_count": 5,
      "outputs": []
    },
    {
      "cell_type": "markdown",
      "metadata": {
        "id": "vfnwZB_GexWe",
        "colab_type": "text"
      },
      "source": [
        "Q15. Write a Pandas program to filter the specified columns and records by range from world alcohol consumption dataset."
      ]
    },
    {
      "cell_type": "code",
      "metadata": {
        "id": "911g9a6bx3Tj",
        "colab_type": "code",
        "colab": {}
      },
      "source": [
        ""
      ],
      "execution_count": 5,
      "outputs": []
    },
    {
      "cell_type": "markdown",
      "metadata": {
        "id": "ClexMZWze8PQ",
        "colab_type": "text"
      },
      "source": [
        "Q16. Write a Pandas program to filter those records where WHO region contains \"Ea\" substring from world alcohol consumption dataset."
      ]
    },
    {
      "cell_type": "code",
      "metadata": {
        "id": "3qHwSx7oe_4W",
        "colab_type": "code",
        "colab": {}
      },
      "source": [
        ""
      ],
      "execution_count": 5,
      "outputs": []
    },
    {
      "cell_type": "markdown",
      "metadata": {
        "id": "aycgDlNIfDiD",
        "colab_type": "text"
      },
      "source": [
        "Q17. Write a Pandas program to filter those records where WHO region matches with multiple values (Africa, Eastern Mediterranean, Europe) from world alcohol consumption dataset."
      ]
    },
    {
      "cell_type": "code",
      "metadata": {
        "id": "aSjWTjUefI1P",
        "colab_type": "code",
        "colab": {}
      },
      "source": [
        ""
      ],
      "execution_count": 5,
      "outputs": []
    },
    {
      "cell_type": "markdown",
      "metadata": {
        "id": "EZbQkIOqfOrh",
        "colab_type": "text"
      },
      "source": [
        "Q18. Write a Pandas program to filter those records which not appears in a given list [\"Africa\", \"Eastern Mediterranean\", \"Europe\"] from world alcohol consumption dataset."
      ]
    },
    {
      "cell_type": "code",
      "metadata": {
        "id": "ye_LT15_ffgC",
        "colab_type": "code",
        "colab": {}
      },
      "source": [
        ""
      ],
      "execution_count": 5,
      "outputs": []
    },
    {
      "cell_type": "markdown",
      "metadata": {
        "id": "XQyaIBDgfmBY",
        "colab_type": "text"
      },
      "source": [
        "Q19. Write a Pandas program to filter all records where the average consumption of beverages per person from .5 to 2.50 in world alcohol consumption dataset."
      ]
    },
    {
      "cell_type": "code",
      "metadata": {
        "id": "px3w-1g9yDAy",
        "colab_type": "code",
        "colab": {}
      },
      "source": [
        ""
      ],
      "execution_count": 5,
      "outputs": []
    },
    {
      "cell_type": "markdown",
      "metadata": {
        "id": "8DpIUc05fwYQ",
        "colab_type": "text"
      },
      "source": [
        "Q20. Write a Pandas program to find average consumption of wine per person greater than 2 in world alcohol consumption dataset."
      ]
    },
    {
      "cell_type": "code",
      "metadata": {
        "id": "g1JOfbXdyFAu",
        "colab_type": "code",
        "colab": {}
      },
      "source": [
        ""
      ],
      "execution_count": 5,
      "outputs": []
    },
    {
      "cell_type": "markdown",
      "metadata": {
        "id": "qnn6hdvpf7Ai",
        "colab_type": "text"
      },
      "source": [
        "Q21. Write a Pandas program to filter rows based on row numbers ended with 0, like 0, 10, 20, 30 from world alcohol consumption dataset."
      ]
    },
    {
      "cell_type": "code",
      "metadata": {
        "id": "sEo9gpRZgIRZ",
        "colab_type": "code",
        "colab": {}
      },
      "source": [
        ""
      ],
      "execution_count": 5,
      "outputs": []
    },
    {
      "cell_type": "markdown",
      "metadata": {
        "id": "TNMG2Q4sgNTh",
        "colab_type": "text"
      },
      "source": [
        "Q22. Write a Pandas program to select consecutive columns and also select rows with Index label 0 to 9 with some columns from world alcohol consumption dataset."
      ]
    },
    {
      "cell_type": "code",
      "metadata": {
        "id": "1LQDM-GagMWY",
        "colab_type": "code",
        "colab": {}
      },
      "source": [
        ""
      ],
      "execution_count": 5,
      "outputs": []
    },
    {
      "cell_type": "markdown",
      "metadata": {
        "id": "bVHmhdGKgVtF",
        "colab_type": "text"
      },
      "source": [
        "Q23. Write a Pandas program to rename all and only some of the column names from world alcohol consumption dataset."
      ]
    },
    {
      "cell_type": "code",
      "metadata": {
        "id": "L658ZbPlga85",
        "colab_type": "code",
        "colab": {}
      },
      "source": [
        "# Renaming all column names\n",
        "columns=['year','who_region','country','beverage_types','display_values']\n",
        "\n",
        "# Renaming only some of the column names:\n",
        "columns = {\"WHO region\":\"WHO_region\",\"Display Value\":\"Display_Value\" }\n"
      ],
      "execution_count": 6,
      "outputs": []
    },
    {
      "cell_type": "markdown",
      "metadata": {
        "id": "qS0_OgkAgi2A",
        "colab_type": "text"
      },
      "source": [
        "Q24. Write a Pandas program to find which years have all non-zero values and which years have any non-zero values from world alcohol consumption dataset."
      ]
    },
    {
      "cell_type": "code",
      "metadata": {
        "id": "ZBedw531gyph",
        "colab_type": "code",
        "colab": {}
      },
      "source": [
        ""
      ],
      "execution_count": 6,
      "outputs": []
    },
    {
      "cell_type": "markdown",
      "metadata": {
        "id": "c0E4Rplmg3_9",
        "colab_type": "text"
      },
      "source": [
        "Q25. Write a Pandas program to filter all columns where all entries present, check which rows and columns has a NaN and finally drop rows with any NaNs from world alcohol consumption dataset."
      ]
    },
    {
      "cell_type": "code",
      "metadata": {
        "id": "_da8-wSVg787",
        "colab_type": "code",
        "colab": {}
      },
      "source": [
        ""
      ],
      "execution_count": 6,
      "outputs": []
    },
    {
      "cell_type": "markdown",
      "metadata": {
        "id": "DqvNdF06hD6A",
        "colab_type": "text"
      },
      "source": [
        "Q26. Write a Pandas program to filter all records starting from the 'Year' column, access every other column from world alcohol consumption dataset."
      ]
    },
    {
      "cell_type": "code",
      "metadata": {
        "id": "RrZQyZLQhKzp",
        "colab_type": "code",
        "colab": {}
      },
      "source": [
        ""
      ],
      "execution_count": 6,
      "outputs": []
    },
    {
      "cell_type": "markdown",
      "metadata": {
        "id": "vXL1gQKKhtZo",
        "colab_type": "text"
      },
      "source": [
        "Q27. Write a Pandas program to filter all records starting from the 2nd row, access every 5th row from world alcohol consumption dataset."
      ]
    },
    {
      "cell_type": "code",
      "metadata": {
        "id": "lE8cqfhThy5d",
        "colab_type": "code",
        "colab": {}
      },
      "source": [
        ""
      ],
      "execution_count": 6,
      "outputs": []
    }
  ]
}